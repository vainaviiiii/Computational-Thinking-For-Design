{
 "cells": [
  {
   "cell_type": "markdown",
   "metadata": {},
   "source": [
    "# A few typical mistakes"
   ]
  },
  {
   "cell_type": "code",
   "execution_count": 1,
   "metadata": {},
   "outputs": [
    {
     "name": "stdout",
     "output_type": "stream",
     "text": [
      "17\n",
      "25\n",
      "42\n"
     ]
    }
   ],
   "source": [
    "# About the modulo operator\n",
    "\n",
    "print(67%25)\n",
    "\n",
    "print(25%67)\n",
    "\n",
    "print(-25%67)\n"
   ]
  },
  {
   "cell_type": "code",
   "execution_count": 2,
   "metadata": {},
   "outputs": [
    {
     "name": "stdout",
     "output_type": "stream",
     "text": [
      "48 -5\n"
     ]
    }
   ],
   "source": [
    "# About the final values of the counter and other variables after exiting a while loop.\n",
    "\n",
    "count = 7                #exam: 2\n",
    "x = 3                    #exam: 4\n",
    "while count > -3:         #exam: < 9\n",
    "    x *= 2               #exam: += 1\n",
    "    count += -3           #exam: += 3\n",
    "    \n",
    "print(x, count)\n",
    "\n",
    "# Remember: The displayed value of the counter necessary violates\n",
    "#           the while condition (unless a break or a return has been reached). "
   ]
  },
  {
   "cell_type": "code",
   "execution_count": 3,
   "metadata": {},
   "outputs": [
    {
     "name": "stdout",
     "output_type": "stream",
     "text": [
      "[9, 10, 11, 12]\n",
      "[8, 11, 14]\n",
      "[10, 15, 20, 25, 30]\n"
     ]
    }
   ],
   "source": [
    "# About slicing a list (or a string)\n",
    "\n",
    "a = list(range(7, 31))\n",
    "b = a[2:6]\n",
    "c = a[1:8:3]\n",
    "d = a[3::5]\n",
    "\n",
    "print(b)\n",
    "print(c)\n",
    "print(d)"
   ]
  },
  {
   "cell_type": "code",
   "execution_count": 4,
   "metadata": {},
   "outputs": [
    {
     "name": "stdout",
     "output_type": "stream",
     "text": [
      "*Yes votes:1671**No votes:2001*No Campaign wins!*\n",
      "*Yes votes:2001**No votes:1671*Yes Campaign wins!*\n"
     ]
    }
   ],
   "source": [
    "# About the referendum display exercise\n",
    "\n",
    "def referendum_display(yes_votes, no_votes):\n",
    "    \n",
    "    winner = \"No Campaign\"\n",
    "    msg_yes = \"*Yes votes:\" + str(yes_votes) + \"*\"\n",
    "    msg_no = \"*No votes:\" + str(no_votes) + \"*\"\n",
    "    if (yes_votes > no_votes):\n",
    "        winner = \"Yes Campaign\"\n",
    "    msg_res = winner + \" wins!*\"\n",
    "    \n",
    "    return msg_yes + msg_no + msg_res\n",
    "\n",
    "a = referendum_display(1671, 2001)\n",
    "print(a)\n",
    "b = referendum_display(2001, 1671)\n",
    "print(b)"
   ]
  },
  {
   "cell_type": "markdown",
   "metadata": {},
   "source": [
    "# Nested Loops"
   ]
  },
  {
   "cell_type": "code",
   "execution_count": 5,
   "metadata": {},
   "outputs": [
    {
     "name": "stdout",
     "output_type": "stream",
     "text": [
      "[4, 8, 4, 1, -2, -5]\n"
     ]
    }
   ],
   "source": [
    "count = 7                \n",
    "x = 2\n",
    "ls = []\n",
    "while count > -3:         \n",
    "    while x < 7:\n",
    "        x = 2*x\n",
    "        ls.append(x)\n",
    "    count += -3          \n",
    "    ls.append(count)\n",
    "print(ls)"
   ]
  },
  {
   "cell_type": "markdown",
   "metadata": {},
   "source": [
    "# Strings"
   ]
  },
  {
   "cell_type": "code",
   "execution_count": 6,
   "metadata": {},
   "outputs": [
    {
     "name": "stdout",
     "output_type": "stream",
     "text": [
      "live\n",
      "vld\n",
      "r\n",
      "ie\n",
      "rv\n",
      "vr\n",
      "dl\n",
      "ie\n",
      "dl\n",
      "reviled\n"
     ]
    }
   ],
   "source": [
    "s = \"deliver\"\n",
    "# How to display \"live\" by slicing s?\n",
    "print(s[2:6])\n",
    "# What is displayed if I execute the following statements?\n",
    "print(s[4::-2])\n",
    "print(s[:4:-2])\n",
    "print(s[-4::-2])\n",
    "print(s[:-4:-2])\n",
    "\n",
    "print(s[4::2])\n",
    "print(s[:4:2])\n",
    "print(s[-4::2])\n",
    "print(s[:-4:2])\n",
    "\n",
    "# How to reverse a string?\n",
    "print(s[::-1])\n"
   ]
  },
  {
   "cell_type": "code",
   "execution_count": 7,
   "metadata": {},
   "outputs": [
    {
     "name": "stdout",
     "output_type": "stream",
     "text": [
      "The quick brown fox jumps over a lazy dog.\n"
     ]
    }
   ],
   "source": [
    "# Replace the nazy dog by a lazy dog.\n",
    "\n",
    "s = \"The quick brown fox jumps over a nazy dog.\"\n",
    "\n",
    "\n",
    "# Recall: Strings are UNMUTABLE. You can access a character or a sub-string by slicing but you cannot directly change it.\n",
    "#         So, s[-9] = \"l\" does not work and returns an error.\n",
    "\n",
    "s1 = s.replace(\" n\", \" l\")\n",
    "#s2 = s[:-9] + \"l\" + s[-8:]\n",
    "#lst = list(s)\n",
    "#lst[-9] = \"l\"\n",
    "#s3 = \"\".join(lst)\n",
    "print(s1)\n",
    "#print(s2)\n",
    "#print(s3)"
   ]
  },
  {
   "cell_type": "code",
   "execution_count": 8,
   "metadata": {},
   "outputs": [
    {
     "name": "stdout",
     "output_type": "stream",
     "text": [
      "Teqinana\n"
     ]
    }
   ],
   "source": [
    "# Evaluate s[6::-2][::-1] + 2*s[-9:-7]\n",
    "print(s[6::-2][::-1] + 2*s[-9:-7])"
   ]
  },
  {
   "cell_type": "code",
   "execution_count": 9,
   "metadata": {},
   "outputs": [
    {
     "name": "stdout",
     "output_type": "stream",
     "text": [
      "Journey around my Bedroom has been written by Xavier de Maistre in 1794.\n"
     ]
    }
   ],
   "source": [
    "# String formatting\n",
    "title1, author1, year1 = \"A Journey Round my Room\", \"Xavier de Maistre\", 1794\n",
    "title2, author2, year2 = \"1984\", \"George Orwell\", 1949\n",
    "title3, author3, year3 = 1984, \"George Orwell\", 1949\n",
    "\n",
    "# Display using string formatting: Journey around my Bedroom has been written by Xavier de Maistre in 1794.\n",
    "s = \"{} has been written by {} in {}.\".format(title1, author1, year1)\n",
    "print(s)\n"
   ]
  },
  {
   "cell_type": "code",
   "execution_count": 10,
   "metadata": {},
   "outputs": [
    {
     "name": "stdout",
     "output_type": "stream",
     "text": [
      "Journey around my Bedroom has been written by Xavier de Maistre in 1794.\n",
      "1984 has been written by George Orwell in 1949.\n"
     ]
    },
    {
     "ename": "ValueError",
     "evalue": "Unknown format code 's' for object of type 'int'",
     "output_type": "error",
     "traceback": [
      "\u001b[1;31m---------------------------------------------------------------------------\u001b[0m",
      "\u001b[1;31mValueError\u001b[0m                                Traceback (most recent call last)",
      "\u001b[1;32m<ipython-input-10-451d83b90335>\u001b[0m in \u001b[0;36m<module>\u001b[1;34m\u001b[0m\n\u001b[0;32m      6\u001b[0m \u001b[0mprint\u001b[0m\u001b[1;33m(\u001b[0m\u001b[0ms2\u001b[0m\u001b[1;33m)\u001b[0m\u001b[1;33m\u001b[0m\u001b[1;33m\u001b[0m\u001b[0m\n\u001b[0;32m      7\u001b[0m \u001b[1;31m# The following won't execute.\u001b[0m\u001b[1;33m\u001b[0m\u001b[1;33m\u001b[0m\u001b[1;33m\u001b[0m\u001b[0m\n\u001b[1;32m----> 8\u001b[1;33m \u001b[0ms3\u001b[0m \u001b[1;33m=\u001b[0m  \u001b[1;34m\"{:s} has been written by {:s} in {:d}.\"\u001b[0m\u001b[1;33m.\u001b[0m\u001b[0mformat\u001b[0m\u001b[1;33m(\u001b[0m\u001b[0mtitle3\u001b[0m\u001b[1;33m,\u001b[0m \u001b[0mauthor3\u001b[0m\u001b[1;33m,\u001b[0m \u001b[0myear3\u001b[0m\u001b[1;33m)\u001b[0m\u001b[1;33m\u001b[0m\u001b[1;33m\u001b[0m\u001b[0m\n\u001b[0m\u001b[0;32m      9\u001b[0m \u001b[0mprint\u001b[0m\u001b[1;33m(\u001b[0m\u001b[0ms3\u001b[0m\u001b[1;33m)\u001b[0m\u001b[1;33m\u001b[0m\u001b[1;33m\u001b[0m\u001b[0m\n",
      "\u001b[1;31mValueError\u001b[0m: Unknown format code 's' for object of type 'int'"
     ]
    }
   ],
   "source": [
    "# Well done, but how to force the placeholders to receive a string or a numeric value?\n",
    "\n",
    "s1 = \"{:s} has been written by {:s} in {:d}.\".format(title1, author1, year1)\n",
    "print(s1)\n",
    "s2 =  \"{:s} has been written by {:s} in {:d}.\".format(title2, author2, year2)\n",
    "print(s2)\n",
    "# The following won't execute.\n",
    "s3 =  \"{:s} has been written by {:s} in {:d}.\".format(title3, author3, year3)\n",
    "print(s3)"
   ]
  },
  {
   "cell_type": "code",
   "execution_count": 11,
   "metadata": {},
   "outputs": [
    {
     "name": "stdout",
     "output_type": "stream",
     "text": [
      "m =\n",
      "[8,9,6,57;\n",
      "0,1,5,3]\n",
      "--------------------\n",
      "['8,9,6,57', '0,1,5,3']\n",
      "2\n",
      "[['8', '9', '6', '57'], ['0', '1', '5', '3']]\n"
     ]
    }
   ],
   "source": [
    "flines = \"m =\\n[8,9,6,57;\\n0,1,5,3]\"\n",
    "print(flines)\n",
    "print(\"--------------------\")\n",
    "# Transform flines into a proper 'python' matrix (basically, into a list of lists)\n",
    "\n",
    "smile = flines.strip(\"m =\\n[\").strip(\"]\").split(\";\\n\")\n",
    "print(smile)\n",
    "# How many elements in smile?\n",
    "print(len(smile))\n",
    "matrix = []\n",
    "for string in smile:\n",
    "    string = string.split(\",\")\n",
    "    matrix.append(string)\n",
    "print(matrix)\n"
   ]
  },
  {
   "cell_type": "markdown",
   "metadata": {},
   "source": [
    "# Dictionaries"
   ]
  },
  {
   "cell_type": "code",
   "execution_count": 1,
   "metadata": {},
   "outputs": [
    {
     "name": "stdout",
     "output_type": "stream",
     "text": [
      "{'best actor': ('Chew Rong-Jie David', 'F01B'), 'best actress': ('The mouse', 'F01J'), 'best video': ('Cat me if you can', 'F01J'), 'best music': ('Cat me if you can', 'F01J'), 'best code': ('Freshmore Simulator', 'F01K'), 'best math': ('Impossible Maze', 'F01D'), 'best original screenplay': ('Tell time to me', 'F01E'), 'best game': ('Cat me if you can', 'F01J'), 'best ASCII Art': ('Freshmore Simulator', 'F01K')}\n",
      "---------------------------------------------------------------------------------------\n",
      "The keys of my dict are:  ['best actor', 'best actress', 'best video', 'best music', 'best code', 'best math', 'best original screenplay', 'best game', 'best ASCII Art']\n",
      "---------------------------------------------------------------------------------------\n",
      "The values of my dict are:  [('Chew Rong-Jie David', 'F01B'), ('The mouse', 'F01J'), ('Cat me if you can', 'F01J'), ('Cat me if you can', 'F01J'), ('Freshmore Simulator', 'F01K'), ('Impossible Maze', 'F01D'), ('Tell time to me', 'F01E'), ('Cat me if you can', 'F01J'), ('Freshmore Simulator', 'F01K')]\n",
      "---------------------------------------------------------------------------------------\n",
      "The pairs key/value of my dict are:  [('best actor', ('Chew Rong-Jie David', 'F01B')), ('best actress', ('The mouse', 'F01J')), ('best video', ('Cat me if you can', 'F01J')), ('best music', ('Cat me if you can', 'F01J')), ('best code', ('Freshmore Simulator', 'F01K')), ('best math', ('Impossible Maze', 'F01D')), ('best original screenplay', ('Tell time to me', 'F01E')), ('best game', ('Cat me if you can', 'F01J')), ('best ASCII Art', ('Freshmore Simulator', 'F01K'))]\n",
      "---------------------------------------------------------------------------------------\n",
      "The value assigned to \"best graphic\" is:  None\n",
      "---------------------------------------------------------------------------------------\n"
     ]
    }
   ],
   "source": [
    "ctd_award_01 = {\"best actor\": (\"Chew Rong-Jie David\", \"F01B\"),\n",
    "             \"best actress\": (\"The mouse\", \"F01J\"),\n",
    "             \"best video\": (\"Cat me if you can\", \"F01J\"), \n",
    "             \"best music\": (\"Cat me if you can\", \"F01J\"), \n",
    "             \"best code\": (\"Freshmore Simulator\", \"F01K\"), \n",
    "             \"best math\": (\"Impossible Maze\", \"F01D\"),\n",
    "             \"best original screenplay\": (\"Tell time to me\", \"F01E\"),\n",
    "             \"best game\": (\"Cat me if you can\", \"F01J\"),\n",
    "             \"best ASCII Art\": (\"Freshmore Simulator\", \"F01K\")}\n",
    "\n",
    "# How do I print the dictionary? Its keys? Its values? The key/value pairs?\n",
    "\n",
    "\n",
    "print(ctd_award_01)\n",
    "print(\"---------------------------------------------------------------------------------------\")\n",
    "print(\"The keys of my dict are: \", list(ctd_award_01.keys()))\n",
    "print(\"---------------------------------------------------------------------------------------\")\n",
    "print(\"The values of my dict are: \", list(ctd_award_01.values()))\n",
    "print(\"---------------------------------------------------------------------------------------\")\n",
    "print(\"The pairs key/value of my dict are: \", list(ctd_award_01.items()))\n",
    "print(\"---------------------------------------------------------------------------------------\")\n",
    "\n",
    "# How do I get the value assigned to the key \"best graphic\"?\n",
    "print('The value assigned to \"best graphic\" is: ', ctd_award_01.get(\"best graphic\"))\n",
    "print(\"---------------------------------------------------------------------------------------\")\n",
    "\n",
    "# What should I do to create a best graphic category \n",
    "# and assign it to (\"Cat me if you can\", \"F01J\")?\n",
    "ctd_award_01[\"best graphic\"] = (\"Cat me if you can\", \"F01J\")\n"
   ]
  },
  {
   "cell_type": "code",
   "execution_count": 3,
   "metadata": {
    "scrolled": true
   },
   "outputs": [
    {
     "name": "stdout",
     "output_type": "stream",
     "text": [
      "['F01J', 'F01K']\n"
     ]
    }
   ],
   "source": [
    "# Below is a program that returns a list of the groups which have been awarded more than once. Fix it.\n",
    "\n",
    "number_of_awards = {}\n",
    "groups_awarded_more_than_once = []\n",
    "\n",
    "for key in ctd_award_01:\n",
    "    awarded_group = ctd_award_01[key][1]\n",
    "    if awarded_group not in number_of_awards.keys():\n",
    "        number_of_awards[awarded_group] = 1\n",
    "    else:\n",
    "        number_of_awards[awarded_group] += 1\n",
    "\n",
    "for key in number_of_awards:\n",
    "    if number_of_awards[key] > 1:\n",
    "        groups_awarded_more_than_once.append(key)\n",
    "\n",
    "print(groups_awarded_more_than_once)"
   ]
  },
  {
   "cell_type": "code",
   "execution_count": null,
   "metadata": {},
   "outputs": [],
   "source": []
  },
  {
   "cell_type": "code",
   "execution_count": null,
   "metadata": {},
   "outputs": [],
   "source": []
  },
  {
   "cell_type": "code",
   "execution_count": null,
   "metadata": {},
   "outputs": [],
   "source": []
  },
  {
   "cell_type": "code",
   "execution_count": null,
   "metadata": {},
   "outputs": [],
   "source": []
  },
  {
   "cell_type": "markdown",
   "metadata": {},
   "source": [
    "# Object Oriented Programming"
   ]
  },
  {
   "cell_type": "code",
   "execution_count": 18,
   "metadata": {},
   "outputs": [
    {
     "name": "stdout",
     "output_type": "stream",
     "text": [
      "Cyrille thinking.\n",
      "Matthieu thinking.\n",
      "eating kueh.\n",
      "eating\n",
      "Cyrille thinks that 4 modulo 7 equals 4.\n",
      "thinking.\n"
     ]
    }
   ],
   "source": [
    "class Prof:\n",
    "    \n",
    "    def __init__(self, name):\n",
    "        self.name = name\n",
    "        self.action = \"thinking.\"\n",
    "    \n",
    "    def think(self):\n",
    "        self.action = \"thinking.\"\n",
    "        \n",
    "    def teach(self):\n",
    "        self.action = \"teaching.\"\n",
    "        \n",
    "    def sleep(self):\n",
    "        self.action = \"sleeping.\"\n",
    "    \n",
    "    def eat(self):\n",
    "        if self.name == \"Cyrille\":\n",
    "            self.action = \"eating kueh.\"\n",
    "        else:\n",
    "            self.action = \"eating\"\n",
    "    \n",
    "    def play(self):\n",
    "        self.action = \"playing pokemon.\"\n",
    "        \n",
    "    def calculates_a_modulo_b(self, a, b):\n",
    "        self.think()\n",
    "        return \"{:s} thinks that {:d} modulo {:d} equals {:d}.\".format(self.name, a, b, a%b)\n",
    "        \n",
    "    \n",
    "        \n",
    "# How to initialize objects of class Prof with names Cyrille and Matthieu?\n",
    "prof1 = Prof(\"Cyrille\")\n",
    "prof2 = Prof(\"Matthieu\")\n",
    "# How to retrieve our names and actions?\n",
    "print(prof1.name, prof1.action)\n",
    "print(prof2.name, prof2.action)\n",
    "\n",
    "# How to change our actions?\n",
    "prof1.eat()\n",
    "prof2.eat()\n",
    "print(prof1.action)\n",
    "print(prof2.action)\n",
    "\n",
    "print(prof1.calculates_a_modulo_b(4, 7))\n",
    "print(prof1.action)\n",
    "\n",
    "\n"
   ]
  },
  {
   "cell_type": "markdown",
   "metadata": {},
   "source": [
    "# Nested Lists"
   ]
  },
  {
   "cell_type": "code",
   "execution_count": 19,
   "metadata": {},
   "outputs": [
    {
     "name": "stdout",
     "output_type": "stream",
     "text": [
      "[1, 2]\n",
      "[3, [1, 2]]\n",
      "[4, [3, [1, 2]]]\n",
      "True True\n",
      "[4, [3, [1, 0]]]\n",
      "[3, [1, 0]]\n",
      "[1, 0]\n"
     ]
    }
   ],
   "source": [
    "a = [1, 2]\n",
    "b = [3, a]\n",
    "c = [4, b]\n",
    "print(a)\n",
    "print(b)\n",
    "print(c)\n",
    "print(c[1][1] is a, c[1][1] == a)\n",
    "c[1][1][1] = 0\n",
    "print(c)\n",
    "print(b)\n",
    "print(a)"
   ]
  },
  {
   "cell_type": "code",
   "execution_count": 20,
   "metadata": {},
   "outputs": [
    {
     "name": "stdout",
     "output_type": "stream",
     "text": [
      "[1, 2]\n",
      "[3, [1, 2]]\n",
      "[4, [3, [1, 2]]]\n",
      "False True\n",
      "[4, [3, [1, 0]]]\n",
      "[3, [1, 0]]\n",
      "[1, 2]\n"
     ]
    }
   ],
   "source": [
    "a = [1, 2]\n",
    "b = [3, a[:]]\n",
    "c = [4, b]\n",
    "print(a)\n",
    "print(b)\n",
    "print(c)\n",
    "print(c[1][1] is a, c[1][1] == a)\n",
    "c[1][1][1] = 0\n",
    "print(c)\n",
    "print(b)\n",
    "print(a)"
   ]
  },
  {
   "cell_type": "markdown",
   "metadata": {},
   "source": [
    "Write a function that calculates the determinant of a 2x2 matrix:\n",
    "\n",
    "    B = |a, b| \n",
    "        |c, d|\n",
    "        \n",
    "For recall, the determinant of a matrix is a*d - c*b\n",
    "\n"
   ]
  },
  {
   "cell_type": "code",
   "execution_count": 21,
   "metadata": {},
   "outputs": [
    {
     "name": "stdout",
     "output_type": "stream",
     "text": [
      "[[3, 4], [2, 2]]\n",
      "-2\n"
     ]
    }
   ],
   "source": [
    "def det2x2(matrix):\n",
    "    return matrix[0][0]*matrix[1][1] - matrix[1][0]*matrix[0][1]\n",
    "\n",
    "B = [[3, 4], [2, 2]]\n",
    "print(B)\n",
    "print(det2x2(B))\n"
   ]
  },
  {
   "cell_type": "markdown",
   "metadata": {},
   "source": [
    "# File Handling"
   ]
  },
  {
   "cell_type": "code",
   "execution_count": 22,
   "metadata": {},
   "outputs": [
    {
     "name": "stdout",
     "output_type": "stream",
     "text": [
      "[[2, 5, 3], [4, 4, 2], [1, 9, 0]]\n"
     ]
    }
   ],
   "source": [
    "# Open the file matrixA.txt and convert the content in a proper python matrix (basically a list of lists of integers).\n",
    "\n",
    "with open(\"./matrixA.txt\", 'r') as f:\n",
    "    matrix = []\n",
    "    for i, line in enumerate(f):\n",
    "        if i > 0:\n",
    "            line = line.strip(\";\\n\").strip(\"]\").split(\", \")\n",
    "            matrix.append(line)\n",
    "    f.close()\n",
    "\n",
    "for i in range(len(matrix)):\n",
    "    for j in range(len(matrix[i])):\n",
    "        matrix[i][j] = int(matrix[i][j])\n",
    "print(matrix)"
   ]
  },
  {
   "cell_type": "markdown",
   "metadata": {},
   "source": [
    "# Conclusion"
   ]
  },
  {
   "cell_type": "code",
   "execution_count": 2,
   "metadata": {},
   "outputs": [
    {
     "name": "stdout",
     "output_type": "stream",
     "text": [
      "False\n",
      "1.189207115002721\n"
     ]
    }
   ],
   "source": [
    "# An easy one to conclude?\n",
    "print( 2**0.5**2 == 2 )\n",
    "print( 2**0.5**2 )"
   ]
  },
  {
   "cell_type": "code",
   "execution_count": 3,
   "metadata": {},
   "outputs": [
    {
     "name": "stdout",
     "output_type": "stream",
     "text": [
      "False\n",
      "2.0000000000000004\n",
      "1e-05\n",
      "True\n"
     ]
    }
   ],
   "source": [
    "print( (2**0.5)**2 == 2 )\n",
    "print( (2**0.5)**2 )\n",
    "eps = 1e-5\n",
    "print( eps )\n",
    "print( 2 - eps < (2**0.5)**2 < 2 + eps )"
   ]
  },
  {
   "cell_type": "code",
   "execution_count": null,
   "metadata": {},
   "outputs": [],
   "source": []
  },
  {
   "cell_type": "code",
   "execution_count": null,
   "metadata": {},
   "outputs": [],
   "source": []
  },
  {
   "cell_type": "code",
   "execution_count": null,
   "metadata": {},
   "outputs": [],
   "source": []
  },
  {
   "cell_type": "code",
   "execution_count": null,
   "metadata": {},
   "outputs": [],
   "source": []
  }
 ],
 "metadata": {
  "kernelspec": {
   "display_name": "Python 3 (ipykernel)",
   "language": "python",
   "name": "python3"
  },
  "language_info": {
   "codemirror_mode": {
    "name": "ipython",
    "version": 3
   },
   "file_extension": ".py",
   "mimetype": "text/x-python",
   "name": "python",
   "nbconvert_exporter": "python",
   "pygments_lexer": "ipython3",
   "version": "3.9.6"
  }
 },
 "nbformat": 4,
 "nbformat_minor": 2
}
