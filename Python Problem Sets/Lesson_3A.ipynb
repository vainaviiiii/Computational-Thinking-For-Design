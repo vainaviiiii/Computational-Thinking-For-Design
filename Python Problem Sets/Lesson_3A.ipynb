{
 "cells": [
  {
   "cell_type": "markdown",
   "metadata": {
    "deletable": false,
    "editable": false,
    "nbgrader": {
     "grade": false,
     "locked": true,
     "solution": false
    }
   },
   "source": [
    "### 10.014 Computational Thinking For Design, Fall 2021\n",
    "\n",
    "## Problem Set 3A (Loops)\n",
    "\n",
    "© Singapore University of Technology and Design, 2021 \n"
   ]
  },
  {
   "cell_type": "markdown",
   "metadata": {
    "deletable": false,
    "editable": false,
    "nbgrader": {
     "grade": false,
     "locked": true,
     "solution": false
    }
   },
   "source": [
    "### Lesson Materials For This Problem Set \n",
    "\n",
    "Materials for [Lesson 3](https://colab.research.google.com/drive/1vlKFFSASAKIuCOXuJz8J76MVgk5cy2iq?usp=sharing)"
   ]
  },
  {
   "cell_type": "markdown",
   "metadata": {
    "deletable": false,
    "editable": false,
    "nbgrader": {
     "grade": false,
     "locked": true,
     "solution": false
    }
   },
   "source": [
    "### Problem 3.00 ```alternating(n)```"
   ]
  },
  {
   "cell_type": "markdown",
   "metadata": {
    "deletable": false,
    "editable": false,
    "nbgrader": {
     "grade": false,
     "locked": true,
     "solution": false
    }
   },
   "source": [
    "This function takes in a positive integer ```n``` and returns the sum of the following series. \n",
    "\n",
    "You need not round the output. \n",
    "\n",
    "\\begin{equation}\n",
    "S_n = \\sum_{k=1}^{n} \\frac{(-1)^{k+1}}{k} = 1 -\\frac{1}{2} + \\frac{1}{3} - \\frac{1}{4} + ... + \\frac{(-1)^{n+1}}{n}\n",
    "\\end{equation}\n",
    "\n",
    "**ASK YOURSELF** In the summation above, what is the starting value of the index? \n",
    "\n",
    "Test cases:\n",
    "\n",
    "```python\n",
    "print( alternating(2) )\n",
    "print( alternating(4) )\n",
    "print( alternating(10) )\n",
    "```\n",
    "\n",
    "gives \n",
    "\n",
    "```\n",
    "0.5\n",
    "0.5833333333333333\n",
    "0.6456349206349207\n",
    "```"
   ]
  },
  {
   "cell_type": "markdown",
   "metadata": {
    "deletable": false,
    "editable": false,
    "nbgrader": {
     "grade": false,
     "locked": true,
     "solution": false
    }
   },
   "source": [
    "#### your solution below:\n",
    "\n",
    "Reminder: after writing your solution, don't forget to write code to execute the function and display its output\n"
   ]
  },
  {
   "cell_type": "code",
   "execution_count": 105,
   "metadata": {},
   "outputs": [],
   "source": [
    "def alternating(n):\n",
    "    summation = 0\n",
    "    for n in range(1,n+1):\n",
    "        summation += ((-1)**(n+1)) / n\n",
    "    return summation\n",
    "\n",
    "### Remember to make the range(1,n+1)"
   ]
  },
  {
   "cell_type": "code",
   "execution_count": 106,
   "metadata": {},
   "outputs": [
    {
     "name": "stdout",
     "output_type": "stream",
     "text": [
      "0.6456349206349207\n"
     ]
    }
   ],
   "source": [
    "print(alternating(10))"
   ]
  },
  {
   "cell_type": "code",
   "execution_count": null,
   "metadata": {
    "collapsed": true
   },
   "outputs": [],
   "source": [
    "###\n",
    "### AUTOGRADER TEST - DO NOT REMOVE\n",
    "###\n"
   ]
  },
  {
   "cell_type": "code",
   "execution_count": null,
   "metadata": {
    "collapsed": true,
    "deletable": false,
    "editable": false,
    "nbgrader": {
     "grade": true,
     "grade_id": "3.00test1",
     "locked": true,
     "points": "1",
     "solution": false
    }
   },
   "outputs": [],
   "source": [
    "###\n",
    "### AUTOGRADER TEST - DO NOT REMOVE\n",
    "###\n"
   ]
  },
  {
   "cell_type": "code",
   "execution_count": null,
   "metadata": {
    "collapsed": true,
    "deletable": false,
    "editable": false,
    "nbgrader": {
     "grade": true,
     "grade_id": "3.00test2",
     "locked": true,
     "points": "1",
     "solution": false
    }
   },
   "outputs": [],
   "source": [
    "###\n",
    "### AUTOGRADER TEST - DO NOT REMOVE\n",
    "###\n"
   ]
  },
  {
   "cell_type": "code",
   "execution_count": null,
   "metadata": {
    "collapsed": true,
    "deletable": false,
    "editable": false,
    "nbgrader": {
     "grade": true,
     "grade_id": "3.00test3",
     "locked": true,
     "points": "1",
     "solution": false
    }
   },
   "outputs": [],
   "source": [
    "###\n",
    "### AUTOGRADER TEST - DO NOT REMOVE\n",
    "###\n"
   ]
  },
  {
   "cell_type": "markdown",
   "metadata": {},
   "source": [
    "### Problem 3.01a ```compound_interest(principal, rate, months)```"
   ]
  },
  {
   "cell_type": "markdown",
   "metadata": {},
   "source": [
    "For an interest-bearing deposit that is compounded monthly, you deposit $100 at the start of the month. You make no further deposits. \n",
    "The annual interest rate on this deposit of 5%.\n",
    "The bank calculates the interest gained and credits the amount to you at the end of the month. The monthly interest rate is 0.05/12=0.00417 (we round this to 3 decimal places for illustration purposes only).\n",
    "\n",
    "At the end of the first month, the value in the account is\n",
    "\\begin{equation}\n",
    "100 \\times (1 + 0.00417) = 100.417 \n",
    "\\end{equation}\n",
    "\n",
    "At the end of the second month, the value in the account is\n",
    "\n",
    "\\begin{equation}\n",
    "(100.417) ∗ (1 + 0.00417) = 100.835\n",
    "\\end{equation}\n",
    "\n",
    "At the end of the third month, the value in the account is\n",
    "\n",
    "\\begin{equation}\n",
    "(100.835) ∗ (1 + 0.00417) = 101.255\n",
    "\\end{equation}\n",
    "\n",
    "This function takes in three inputs, all values can be assumed to be positive \n",
    "- ```deposit``` integer, which is the monthly deposit\n",
    "- ```rate``` float, which is the annual interest rate expressed as a decimal\n",
    "- ```months``` integer, which is the duration in months of the deposit.\n",
    "\n",
    "Try this question using iteration (instead of the standard formula). During each step of the iteration, you do not perform any rounding. \n",
    "\n",
    "It returns the account value at the end of the duration, rounded to two decimal places using the ```round``` function. \n",
    "\n",
    "\n",
    "```python\n",
    "value = compound_interest( 100, 0.05, 6)\n",
    "print(value)\n",
    "```\n",
    "```\n",
    "102.53\n",
    "``` "
   ]
  },
  {
   "cell_type": "code",
   "execution_count": 57,
   "metadata": {},
   "outputs": [],
   "source": [
    "def compound_interest(principal, rate, months ):\n",
    "    for months in range(months):\n",
    "        value = principal * (1 + rate/100/12)**months \n",
    "    return value\n",
    "    \n",
    "\n",
    "### Remember to only add variables that were included in the definition AKA principal, rate and months\n",
    "### Also, range(1,months) == range(months)\n"
   ]
  },
  {
   "cell_type": "code",
   "execution_count": 59,
   "metadata": {},
   "outputs": [
    {
     "name": "stdout",
     "output_type": "stream",
     "text": [
      "2500.416684027778\n"
     ]
    }
   ],
   "source": [
    "print(compound_interest(2500, 0.10, 3))"
   ]
  },
  {
   "cell_type": "code",
   "execution_count": null,
   "metadata": {
    "collapsed": true,
    "deletable": false,
    "editable": false,
    "nbgrader": {
     "grade": true,
     "grade_id": "3.01atest1",
     "locked": true,
     "points": "1",
     "solution": false
    }
   },
   "outputs": [],
   "source": [
    "###\n",
    "### AUTOGRADER TEST - DO NOT REMOVE\n",
    "###\n"
   ]
  },
  {
   "cell_type": "code",
   "execution_count": null,
   "metadata": {
    "collapsed": true,
    "deletable": false,
    "editable": false,
    "nbgrader": {
     "grade": true,
     "grade_id": "3.01atest2",
     "locked": true,
     "points": "1",
     "solution": false
    }
   },
   "outputs": [],
   "source": [
    "###\n",
    "### AUTOGRADER TEST - DO NOT REMOVE\n",
    "###\n"
   ]
  },
  {
   "cell_type": "markdown",
   "metadata": {
    "deletable": false,
    "editable": false,
    "nbgrader": {
     "grade": false,
     "locked": true,
     "solution": false
    }
   },
   "source": [
    "### Problem 3.01b ```regular_savings(deposit, rate, months)```"
   ]
  },
  {
   "cell_type": "markdown",
   "metadata": {
    "deletable": false,
    "editable": false,
    "nbgrader": {
     "grade": false,
     "locked": true,
     "solution": false
    }
   },
   "source": [
    "In a regular savings plan, you are supposed to deposit $100 on the first day of each month into a savings account. *Contrast this with the previous question*\n",
    "\n",
    "The annual interest rate on this deposit of 5%. \n",
    "\n",
    "The bank calculates the interest gained and credits the amount to you at the end of the month. The monthly interest rate is 0.05/12=0.00417 (we round this to 3 decimal places for illustration purposes only). \n",
    "\n",
    "At the end of the first month, the value in the account is\n",
    "\\begin{equation}\n",
    "100 \\times (1 + 0.00417) = 100.417 \n",
    "\\end{equation}\n",
    "\n",
    "At the end of the second month, the value in the account is\n",
    "\n",
    "\\begin{equation}\n",
    "(100 + 100.417) ∗ (1 + 0.00417) = 201.252\n",
    "\\end{equation}\n",
    "\n",
    "At the end of the third month, the value in the account is\n",
    "\n",
    "\\begin{equation}\n",
    "(100 + 201.252) ∗ (1 + 0.00417) = 302.507\n",
    "\\end{equation}\n",
    "\n",
    "and so on.\n",
    "\n",
    "This function takes in three inputs, all values can be assumed to be positive \n",
    "- ```deposit``` integer, which is the monthly deposit\n",
    "- ```rate``` float, which is the annual interest rate expressed as a decimal\n",
    "- ```months``` integer, which is the duration in months of the deposit.\n",
    "\n",
    "It returns the account value at the end of the duration, rounded to two decimal places. \n",
    "\n",
    "```python\n",
    "value = regular_savings( 100, 0.05, 6)\n",
    "print(value)\n",
    "```\n",
    "```\n",
    "608.81\n",
    "``` "
   ]
  },
  {
   "cell_type": "code",
   "execution_count": 71,
   "metadata": {},
   "outputs": [],
   "source": [
    "def regular_savings( deposit, rate, months):\n",
    "    for months in range(months):\n",
    "        value = deposit * (1 + rate/100/12)**months\n",
    "        value += deposit\n",
    "    return value\n"
   ]
  },
  {
   "cell_type": "code",
   "execution_count": 72,
   "metadata": {},
   "outputs": [
    {
     "name": "stdout",
     "output_type": "stream",
     "text": [
      "200.0208350695168\n"
     ]
    }
   ],
   "source": [
    "value = regular_savings( 100, 0.05, 6)\n",
    "print(value)"
   ]
  },
  {
   "cell_type": "code",
   "execution_count": null,
   "metadata": {
    "collapsed": true,
    "deletable": false,
    "editable": false,
    "nbgrader": {
     "grade": true,
     "grade_id": "3.01btest1",
     "locked": true,
     "points": "1",
     "solution": false
    }
   },
   "outputs": [],
   "source": [
    "###\n",
    "### AUTOGRADER TEST - DO NOT REMOVE\n",
    "###\n"
   ]
  },
  {
   "cell_type": "code",
   "execution_count": null,
   "metadata": {
    "collapsed": true,
    "deletable": false,
    "editable": false,
    "nbgrader": {
     "grade": true,
     "grade_id": "3.01btest2",
     "locked": true,
     "points": "1",
     "solution": false
    }
   },
   "outputs": [],
   "source": [
    "###\n",
    "### AUTOGRADER TEST - DO NOT REMOVE\n",
    "###\n"
   ]
  },
  {
   "cell_type": "code",
   "execution_count": null,
   "metadata": {
    "collapsed": true,
    "deletable": false,
    "editable": false,
    "nbgrader": {
     "grade": true,
     "grade_id": "3.01btest3",
     "locked": true,
     "points": "1",
     "solution": false
    }
   },
   "outputs": [],
   "source": [
    "###\n",
    "### AUTOGRADER TEST - DO NOT REMOVE\n",
    "###\n"
   ]
  },
  {
   "cell_type": "markdown",
   "metadata": {
    "colab_type": "text",
    "deletable": false,
    "editable": false,
    "id": "WIYrXz5cN3vr",
    "nbgrader": {
     "grade": false,
     "locked": true,
     "solution": false
    }
   },
   "source": [
    "### Problem 3.02 ```sum_of_series(n)```"
   ]
  },
  {
   "cell_type": "markdown",
   "metadata": {
    "colab_type": "text",
    "deletable": false,
    "editable": false,
    "id": "zZNuVV_rD1dl",
    "nbgrader": {
     "grade": false,
     "locked": true,
     "solution": false
    }
   },
   "source": [
    "The series\n",
    "\n",
    "\\begin{equation}\n",
    "S_n = \\frac{1}{1^2}  + \\frac{1}{2^2} + ... + \\frac{1}{(n-1)^2} + \\frac{1}{n^2}\n",
    "\\end{equation} \n",
    "\n",
    "The function takes in a value of ```n``` which is always an integer and returns the value of this series. You need not round the output. \n",
    "\n",
    "If ```n``` is less than 1, return 0. \n",
    "\n",
    "```python \n",
    "a = sum_of_series(0)\n",
    "print(a)\n",
    "a = sum_of_series(1)\n",
    "print(a)\n",
    "a = sum_of_series(10)\n",
    "print(a)\n",
    "``` \n",
    "\n",
    "```python\n",
    "0\n",
    "1.0\n",
    "1.5497677311665408\n",
    "```"
   ]
  },
  {
   "cell_type": "markdown",
   "metadata": {
    "deletable": false,
    "editable": false,
    "nbgrader": {
     "grade": false,
     "locked": true,
     "solution": false
    }
   },
   "source": [
    "#### Your solution below:"
   ]
  },
  {
   "cell_type": "code",
   "execution_count": 111,
   "metadata": {},
   "outputs": [],
   "source": [
    "def sum_of_series(n):\n",
    "    if(n < 1):\n",
    "        return(0)\n",
    "    else:\n",
    "        s_n = 0\n",
    "        for n in range (1,n+1):\n",
    "            s_n += 1/n**2\n",
    "    return s_n\n",
    "\n",
    "### Remember to indent the 'return' correctly!!!"
   ]
  },
  {
   "cell_type": "code",
   "execution_count": 112,
   "metadata": {},
   "outputs": [
    {
     "name": "stdout",
     "output_type": "stream",
     "text": [
      "1.5497677311665408\n"
     ]
    }
   ],
   "source": [
    "print(sum_of_series(10))"
   ]
  },
  {
   "cell_type": "markdown",
   "metadata": {
    "deletable": false,
    "editable": false,
    "nbgrader": {
     "grade": false,
     "locked": true,
     "solution": false
    }
   },
   "source": [
    "#### Hidden test cases:"
   ]
  },
  {
   "cell_type": "code",
   "execution_count": null,
   "metadata": {
    "collapsed": true,
    "deletable": false,
    "editable": false,
    "nbgrader": {
     "grade": true,
     "grade_id": "3.02test1",
     "locked": true,
     "points": "1",
     "solution": false
    }
   },
   "outputs": [],
   "source": [
    "###\n",
    "### AUTOGRADER TEST - DO NOT REMOVE\n",
    "###\n"
   ]
  },
  {
   "cell_type": "code",
   "execution_count": null,
   "metadata": {
    "collapsed": true,
    "deletable": false,
    "editable": false,
    "nbgrader": {
     "grade": true,
     "grade_id": "3.02test2",
     "locked": true,
     "points": "1",
     "solution": false
    }
   },
   "outputs": [],
   "source": [
    "###\n",
    "### AUTOGRADER TEST - DO NOT REMOVE\n",
    "###\n"
   ]
  },
  {
   "cell_type": "code",
   "execution_count": null,
   "metadata": {
    "collapsed": true,
    "deletable": false,
    "editable": false,
    "nbgrader": {
     "grade": true,
     "grade_id": "3.02test3",
     "locked": true,
     "points": "1",
     "solution": false
    }
   },
   "outputs": [],
   "source": [
    "###\n",
    "### AUTOGRADER TEST - DO NOT REMOVE\n",
    "###\n"
   ]
  },
  {
   "cell_type": "code",
   "execution_count": null,
   "metadata": {
    "collapsed": true,
    "deletable": false,
    "editable": false,
    "nbgrader": {
     "grade": true,
     "grade_id": "3.02test4",
     "locked": true,
     "points": "1",
     "solution": false
    }
   },
   "outputs": [],
   "source": [
    "###\n",
    "### AUTOGRADER TEST - DO NOT REMOVE\n",
    "###\n"
   ]
  },
  {
   "cell_type": "code",
   "execution_count": null,
   "metadata": {
    "collapsed": true
   },
   "outputs": [],
   "source": [
    "###\n",
    "### AUTOGRADER TEST - DO NOT REMOVE\n",
    "###\n"
   ]
  },
  {
   "cell_type": "markdown",
   "metadata": {
    "deletable": false,
    "editable": false,
    "nbgrader": {
     "grade": false,
     "locked": true,
     "solution": false
    }
   },
   "source": [
    "### Problem 3.03  ```is_prime(n)```"
   ]
  },
  {
   "cell_type": "markdown",
   "metadata": {
    "deletable": false,
    "editable": false,
    "nbgrader": {
     "grade": false,
     "locked": true,
     "solution": false
    }
   },
   "source": [
    "A number is a prime number if it is divisible only by 1 and itself. \n",
    "\n",
    "This function takes in an integer ```n``` that is 2 or larger.\n",
    "\n",
    "It returns ```True``` if ```n``` is prime, ```False``` otherwise.\n",
    "\n",
    "There are many algorithms available. Here's one: \n",
    "- Can you think of the reason for each step? \n",
    "- Is it actually necessary to iterate all the way to ```n-1```? Why? \n",
    "\n",
    "---\n",
    "> #### Algorithm\n",
    ">\n",
    "> 1. for each number ```i``` from ```2``` to ```n-1```    \n",
    ">   a. if ```n``` is divisible by ```i```, return ```False```\n",
    ">\n",
    "> 2. return ```True```\n",
    "\n",
    "---\n",
    "\n",
    "For this question, come up with your own test cases. "
   ]
  },
  {
   "cell_type": "markdown",
   "metadata": {
    "deletable": false,
    "editable": false,
    "nbgrader": {
     "grade": false,
     "locked": true,
     "solution": false
    }
   },
   "source": [
    "#### your solution below:"
   ]
  },
  {
   "cell_type": "code",
   "execution_count": 115,
   "metadata": {},
   "outputs": [
    {
     "name": "stdout",
     "output_type": "stream",
     "text": [
      "True\n"
     ]
    }
   ],
   "source": [
    "def is_prime(n):\n",
    "    for i in range(2,(n-1)):\n",
    "        if(n%i==0):\n",
    "            return False\n",
    "        else:\n",
    "            return True\n",
    "\n",
    "print(is_prime(5))"
   ]
  },
  {
   "cell_type": "code",
   "execution_count": null,
   "metadata": {
    "collapsed": true,
    "deletable": false,
    "editable": false,
    "nbgrader": {
     "grade": true,
     "grade_id": "3.03test1",
     "locked": true,
     "points": "1",
     "solution": false
    }
   },
   "outputs": [],
   "source": [
    "###\n",
    "### AUTOGRADER TEST - DO NOT REMOVE\n",
    "###\n"
   ]
  },
  {
   "cell_type": "code",
   "execution_count": null,
   "metadata": {
    "collapsed": true,
    "deletable": false,
    "editable": false,
    "nbgrader": {
     "grade": true,
     "grade_id": "3.03test2",
     "locked": true,
     "points": "1",
     "solution": false
    }
   },
   "outputs": [],
   "source": [
    "###\n",
    "### AUTOGRADER TEST - DO NOT REMOVE\n",
    "###\n"
   ]
  },
  {
   "cell_type": "code",
   "execution_count": null,
   "metadata": {
    "collapsed": true,
    "deletable": false,
    "editable": false,
    "nbgrader": {
     "grade": true,
     "grade_id": "3.03test3",
     "locked": true,
     "points": "1",
     "solution": false
    }
   },
   "outputs": [],
   "source": [
    "###\n",
    "### AUTOGRADER TEST - DO NOT REMOVE\n",
    "###\n"
   ]
  },
  {
   "cell_type": "code",
   "execution_count": null,
   "metadata": {
    "collapsed": true
   },
   "outputs": [],
   "source": [
    "###\n",
    "### AUTOGRADER TEST - DO NOT REMOVE\n",
    "###\n"
   ]
  },
  {
   "cell_type": "markdown",
   "metadata": {
    "colab_type": "text",
    "deletable": false,
    "editable": false,
    "id": "ap6Pu2iZA8M-",
    "nbgrader": {
     "grade": false,
     "locked": true,
     "solution": false
    }
   },
   "source": [
    "### Problem 3.04 The number of terms required"
   ]
  },
  {
   "cell_type": "markdown",
   "metadata": {
    "colab_type": "text",
    "deletable": false,
    "editable": false,
    "id": "qXZVnFFUJ9Q6",
    "nbgrader": {
     "grade": false,
     "locked": true,
     "solution": false
    }
   },
   "source": [
    "For the series $S_n$ in Problem 3.02, as $n$ tends to infinity, the value of $S_n$ tends to $\\frac{\\pi^2}{6}$.\n",
    "\n",
    "This question also illustrates to you how we might use functions to \n",
    "- break a problem into smaller parts  \n",
    "- reuse code written earlier  \n",
    "\n",
    "This is the concept of **modularity**.\n",
    "\n",
    "Write the following functions. \n",
    "\n",
    "- ```def sum_of_series(n)``` \n",
    "Use your solution in Problem 3.02\n",
    "\n",
    "- ```def fraction_of_pisq(s)```\n",
    "This function takes in a value ```s``` and returns the value of ```s``` divided by $\\frac{\\pi^2}{6}$. No rounding is needed. \n",
    "\n",
    "- ```def terms_required(p)```\n",
    "This function returns the number of terms required to achieve a sum that is equal or larger than a fraction ```p``` of $\\frac{\\pi^2}{6}$. As far as possible, use the two functions above in your solution. \n",
    "\n",
    "Here is a suggested algorithm for ```terms_required()```. \n",
    "- Can you think about the reason for each step?\n",
    "- At which steps do you execute the other functions that you wrote? \n",
    "\n",
    "--- \n",
    "\n",
    "> #### Algorithm\n",
    ">\n",
    "> 1. assign 0 to ```n``` \n",
    "> 2. assign 0 to ```frac``` \n",
    "> 3. while ```frac``` is less than ```p```      \n",
    ">    a. increase ```n``` by 1    \n",
    ">    b. calculate the sum of series for ```n``` terms    \n",
    ">    c. from part b., calculate the sum as a fraction of $\\frac{\\pi^2}{6}$ and assign the result to ```frac``` \n",
    "\n",
    "---\n",
    "\n",
    "Test Cases:\n",
    "\n",
    "```python \n",
    "solution = sum_of_series(6)\n",
    "print(solution)\n",
    "fraction = fraction_of_pisq(1.5)\n",
    "print(fraction)\n",
    "n_terms = terms_required(0.9)\n",
    "print(n_terms)\n",
    "```\n",
    "\n",
    "```\n",
    "1.4913888888888889\n",
    "0.91189065278104 \n",
    "6\n",
    "```\n",
    "\n",
    "---\n",
    "\n",
    "> #### Consider\n",
    "> \n",
    "> Some of you may notice that this solution uses more iterations than necessary. Writing a more efficient solution is left to you as an exercise. \n",
    ">\n",
    "\n",
    "---\n",
    "\n",
    "\n",
    "\n",
    "\n"
   ]
  },
  {
   "cell_type": "markdown",
   "metadata": {
    "colab": [],
    "colab_type": "code",
    "deletable": false,
    "editable": false,
    "id": "74WPTxLkkFt7",
    "nbgrader": {
     "grade": false,
     "locked": true,
     "solution": false
    }
   },
   "source": [
    "#### Your solution below:"
   ]
  },
  {
   "cell_type": "code",
   "execution_count": 131,
   "metadata": {},
   "outputs": [
    {
     "name": "stdout",
     "output_type": "stream",
     "text": [
      "1.4913888888888889\n",
      "0.91189065278104\n",
      "6\n"
     ]
    }
   ],
   "source": [
    "from math import *\n",
    "def sum_of_series(n):\n",
    "    if(n < 1):\n",
    "        return(0)\n",
    "    else:\n",
    "        s_n = 0\n",
    "        for n in range (1,n+1):\n",
    "            s_n += 1/n**2\n",
    "    return s_n\n",
    "    \n",
    "def fraction_of_pisq(s):\n",
    "    s = s / (pi**2/6)\n",
    "    return s\n",
    "    \n",
    "def terms_required(p):\n",
    "    n=0\n",
    "    frac=0\n",
    "    sum_values = 0\n",
    "    while(frac<p):\n",
    "        n+=1\n",
    "        sum_values = sum_of_series(n)\n",
    "        frac = fraction_of_pisq(sum_values)\n",
    "    return n\n",
    "\n",
    "solution = sum_of_series(6)\n",
    "print(solution)\n",
    "fraction = fraction_of_pisq(1.5)\n",
    "print(fraction)\n",
    "n_terms = terms_required(0.9)\n",
    "print(n_terms)"
   ]
  },
  {
   "cell_type": "code",
   "execution_count": 132,
   "metadata": {
    "deletable": false,
    "editable": false,
    "nbgrader": {
     "grade": true,
     "grade_id": "3.04series1",
     "locked": true,
     "points": "1",
     "solution": false
    }
   },
   "outputs": [],
   "source": [
    "###\n",
    "### AUTOGRADER TEST - DO NOT REMOVE\n",
    "###\n"
   ]
  },
  {
   "cell_type": "code",
   "execution_count": null,
   "metadata": {
    "collapsed": true,
    "deletable": false,
    "editable": false,
    "nbgrader": {
     "grade": true,
     "grade_id": "3.04pisq1",
     "locked": true,
     "points": "1",
     "solution": false
    }
   },
   "outputs": [],
   "source": [
    "###\n",
    "### AUTOGRADER TEST - DO NOT REMOVE\n",
    "###\n"
   ]
  },
  {
   "cell_type": "code",
   "execution_count": null,
   "metadata": {
    "collapsed": true,
    "deletable": false,
    "editable": false,
    "nbgrader": {
     "grade": true,
     "grade_id": "3.04pisq2",
     "locked": true,
     "points": "1",
     "solution": false
    }
   },
   "outputs": [],
   "source": [
    "###\n",
    "### AUTOGRADER TEST - DO NOT REMOVE\n",
    "###\n"
   ]
  },
  {
   "cell_type": "code",
   "execution_count": null,
   "metadata": {
    "collapsed": true,
    "deletable": false,
    "editable": false,
    "nbgrader": {
     "grade": true,
     "grade_id": "3.04nterms1",
     "locked": true,
     "points": "2",
     "solution": false
    }
   },
   "outputs": [],
   "source": [
    "###\n",
    "### AUTOGRADER TEST - DO NOT REMOVE\n",
    "###\n"
   ]
  },
  {
   "cell_type": "code",
   "execution_count": null,
   "metadata": {
    "collapsed": true,
    "deletable": false,
    "editable": false,
    "nbgrader": {
     "grade": true,
     "grade_id": "3.04nterms2",
     "locked": true,
     "points": "2",
     "solution": false
    }
   },
   "outputs": [],
   "source": [
    "###\n",
    "### AUTOGRADER TEST - DO NOT REMOVE\n",
    "###\n"
   ]
  },
  {
   "cell_type": "markdown",
   "metadata": {
    "deletable": false,
    "editable": false,
    "nbgrader": {
     "grade": false,
     "locked": true,
     "solution": false
    }
   },
   "source": [
    "### Problem 3.05 ```alternating_while(stop)```"
   ]
  },
  {
   "cell_type": "markdown",
   "metadata": {
    "deletable": false,
    "editable": false,
    "nbgrader": {
     "grade": false,
     "locked": true,
     "solution": false
    }
   },
   "source": [
    "This function takes in a positive integer ```n``` and returns the sum of the following series $S_n$, <font color=\"red\">as long as the absolute value of each term is larger than ```stop```</font>.\n",
    "    \n",
    "You can assume that ```stop``` is a float value and 0 < ```stop``` < 1.\n",
    "\n",
    "You need not round the output. \n",
    "\n",
    "\\begin{equation}\n",
    "S_n = 1 -\\frac{1}{2} + \\frac{1}{3} - \\frac{1}{4} + ... + \\frac{(-1)^{n+1}}{n} + ...\n",
    "\\end{equation}\n",
    "\n",
    "For example, if ```stop = 0.249```, then $S_n$ is evaluated with only four terms. \n",
    "\n",
    "\\begin{equation}\n",
    "S_n  = 1 -\\frac{1}{2} + \\frac{1}{3} - \\frac{1}{4} \n",
    "\\end{equation}\n",
    "\n",
    "For example, if ```stop = 0.199```, then $S_n$ is evaluated with only five terms. \n",
    "\n",
    "\\begin{equation}\n",
    "S_n  = 1 -\\frac{1}{2} + \\frac{1}{3} - \\frac{1}{4} + \\frac{1}{5} \n",
    "\\end{equation}\n",
    "\n",
    "The built-in function ```abs()``` is useful. You should use a ```while``` loop.\n",
    "\n",
    "Test cases:\n",
    "\n",
    "```python\n",
    "print( alternating_while(0.249) )\n",
    "print( alternating_while(0.199) )\n",
    "```\n",
    "\n",
    "gives \n",
    "\n",
    "```\n",
    "0.5833333333333333\n",
    "0.7833333333333332\n",
    "```"
   ]
  },
  {
   "cell_type": "code",
   "execution_count": 20,
   "metadata": {},
   "outputs": [
    {
     "name": "stdout",
     "output_type": "stream",
     "text": [
      "0.5833333333333333\n",
      "0.7833333333333332\n"
     ]
    }
   ],
   "source": [
    "def alternating_while(stop):\n",
    "    k = 1\n",
    "    summation = 0\n",
    "    term = 1 + stop\n",
    "    \n",
    "    while(abs(term)>stop):\n",
    "        term = ((-1)**(k+1)) / k\n",
    "        summation += term\n",
    "        k+=1\n",
    "    return summation - term\n",
    "\n",
    "### write code to execute the loop\n",
    "print(alternating_while(0.249))\n",
    "print( alternating_while(0.199) )"
   ]
  },
  {
   "cell_type": "code",
   "execution_count": 3,
   "metadata": {
    "deletable": false,
    "editable": false,
    "nbgrader": {
     "grade": true,
     "grade_id": "3.05test1",
     "locked": true,
     "points": "1",
     "solution": false
    }
   },
   "outputs": [],
   "source": [
    "###\n",
    "### AUTOGRADER TEST - DO NOT REMOVE\n",
    "###\n"
   ]
  },
  {
   "cell_type": "code",
   "execution_count": null,
   "metadata": {
    "collapsed": true,
    "deletable": false,
    "editable": false,
    "nbgrader": {
     "grade": true,
     "grade_id": "3.05test2",
     "locked": true,
     "points": "1",
     "solution": false
    }
   },
   "outputs": [],
   "source": [
    "###\n",
    "### AUTOGRADER TEST - DO NOT REMOVE\n",
    "###\n"
   ]
  },
  {
   "cell_type": "code",
   "execution_count": null,
   "metadata": {
    "collapsed": true,
    "deletable": false,
    "editable": false,
    "nbgrader": {
     "grade": true,
     "grade_id": "3.05test3",
     "locked": true,
     "points": "1",
     "solution": false
    }
   },
   "outputs": [],
   "source": [
    "###\n",
    "### AUTOGRADER TEST - DO NOT REMOVE\n",
    "###\n"
   ]
  }
 ],
 "metadata": {
  "colab": {
   "name": "Lesson 3.ipynb",
   "provenance": []
  },
  "kernelspec": {
   "display_name": "Python 3 (ipykernel)",
   "language": "python",
   "name": "python3"
  },
  "language_info": {
   "codemirror_mode": {
    "name": "ipython",
    "version": 3
   },
   "file_extension": ".py",
   "mimetype": "text/x-python",
   "name": "python",
   "nbconvert_exporter": "python",
   "pygments_lexer": "ipython3",
   "version": "3.9.6"
  }
 },
 "nbformat": 4,
 "nbformat_minor": 1
}
