{
 "cells": [
  {
   "cell_type": "code",
   "execution_count": 2,
   "id": "9706fe21",
   "metadata": {},
   "outputs": [
    {
     "name": "stdout",
     "output_type": "stream",
     "text": [
      "{1: 30, 2: 45, 3: 57, 4: 62}\n",
      "{1: 30, 2: 43, 3: 57, 4: 62}\n"
     ]
    }
   ],
   "source": [
    "dd = {1:30, 2:45, 3: 57} ##dd has 3 key-value pairs\n",
    "extra = {4:62}\n",
    "dd.update(extra)\n",
    "print(dd) ## see that dd now has 4 key-value pairs \n",
    "\n",
    "extra1 = {2:43}\n",
    "dd.update(extra1)\n",
    "print(dd) ## see that the element of dd with key 2 is updated"
   ]
  },
  {
   "cell_type": "code",
   "execution_count": 39,
   "id": "f0a20143",
   "metadata": {},
   "outputs": [
    {
     "name": "stdout",
     "output_type": "stream",
     "text": [
      "banana\n"
     ]
    }
   ],
   "source": [
    "item_sold = {\"vedge\" : ['b', 'c'], \"fruits\" : ['a', 'banana', 'orange']}\n",
    "print(item_sold[\"fruits\"][1])\n",
    "\n"
   ]
  },
  {
   "cell_type": "code",
   "execution_count": 45,
   "id": "b0016254",
   "metadata": {},
   "outputs": [
    {
     "name": "stdout",
     "output_type": "stream",
     "text": [
      "False True\n"
     ]
    }
   ],
   "source": [
    "dd = {\"cat\": 12, \"dog\": 6, \"elephant\": 23, \"bear\": 20}\n",
    "print(23 in dd, \"cat\" in dd)"
   ]
  },
  {
   "cell_type": "code",
   "execution_count": null,
   "id": "8ffe5eaf",
   "metadata": {},
   "outputs": [],
   "source": []
  },
  {
   "cell_type": "code",
   "execution_count": null,
   "id": "4d76329b",
   "metadata": {},
   "outputs": [],
   "source": []
  }
 ],
 "metadata": {
  "kernelspec": {
   "display_name": "Python 3 (ipykernel)",
   "language": "python",
   "name": "python3"
  },
  "language_info": {
   "codemirror_mode": {
    "name": "ipython",
    "version": 3
   },
   "file_extension": ".py",
   "mimetype": "text/x-python",
   "name": "python",
   "nbconvert_exporter": "python",
   "pygments_lexer": "ipython3",
   "version": "3.9.6"
  }
 },
 "nbformat": 4,
 "nbformat_minor": 5
}
