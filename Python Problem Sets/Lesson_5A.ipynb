{
 "cells": [
  {
   "cell_type": "markdown",
   "metadata": {
    "colab_type": "text",
    "deletable": false,
    "editable": false,
    "id": "1hVEGotd1HQG",
    "nbgrader": {
     "grade": false,
     "locked": true,
     "solution": false
    }
   },
   "source": [
    "### 10.014 Computational Thinking For Design, Fall 2021\n",
    "\n",
    "## Problem Set 5A\n",
    "\n",
    "© Singapore University of Technology and Design, 2021"
   ]
  },
  {
   "cell_type": "markdown",
   "metadata": {
    "deletable": false,
    "editable": false,
    "nbgrader": {
     "grade": false,
     "locked": true,
     "solution": false
    }
   },
   "source": [
    "### Lesson Material For This Problem Set \n",
    "\n",
    "Material for [Lesson 5](https://colab.research.google.com/drive/1lQz1o8N2xaWVhjOqT8_hHeKQh47p3B0O?usp=sharing)"
   ]
  },
  {
   "cell_type": "markdown",
   "metadata": {
    "colab_type": "text",
    "deletable": false,
    "editable": false,
    "id": "JTIYME9zjsji",
    "nbgrader": {
     "grade": false,
     "locked": true,
     "solution": false
    }
   },
   "source": [
    "### Problem 5.01 ```create_dictionary(fruits, prices)```"
   ]
  },
  {
   "cell_type": "markdown",
   "metadata": {
    "colab_type": "text",
    "deletable": false,
    "editable": false,
    "id": "lS7-B1zy30CE",
    "nbgrader": {
     "grade": false,
     "locked": true,
     "solution": false
    }
   },
   "source": [
    "\n",
    "\n",
    "The function takes in two lists, ```fruits``` and ```prices```. \n",
    "\n",
    "The ```fruits``` list contains names of fruits as strings and the corresponding elements in ```prices``` lists contains their unit prices as float values. \n",
    "\n",
    "It returns a dictionary with the elements in ```fruits``` as keys, and the corresponding ```prices``` as values. \n",
    "\n",
    "If the lists are of different length, return ```None```.\n",
    "\n",
    "**sample test cases**\n",
    "```python \n",
    "f = ['apple', 'orange']\n",
    "p = [0.43, 0.51]\n",
    "dd = create_dictionary(f, p)\n",
    "print(dd)\n",
    "f = ['apple']\n",
    "p = [0.43, 0.51]\n",
    "dd = create_dictionary(f, p)\n",
    "print(dd)\n",
    "```\n",
    "\n",
    "**expected output**\n",
    "```python\n",
    "{'apple':0.43, 'orange':0.51}\n",
    "None\n",
    "```\n",
    "\n"
   ]
  },
  {
   "cell_type": "markdown",
   "metadata": {
    "deletable": false,
    "editable": false,
    "nbgrader": {
     "grade": false,
     "locked": true,
     "solution": false
    }
   },
   "source": [
    "#### Your solution here: "
   ]
  },
  {
   "cell_type": "code",
   "execution_count": 9,
   "metadata": {},
   "outputs": [
    {
     "name": "stdout",
     "output_type": "stream",
     "text": [
      "{'apple': 0.43, 'orange': 0.51}\n",
      "None\n"
     ]
    }
   ],
   "source": [
    "def create_dictionary(f, p):\n",
    "    if (len(f) == len(p)):\n",
    "        dd = {}\n",
    "        for fruits, prices in zip(f, p):\n",
    "            dd[fruits] = prices\n",
    "            #dd.update({fruits:prices})\n",
    "        return dd\n",
    "    else:\n",
    "        return None\n",
    "\n",
    "\n",
    "f = ['apple', 'orange']\n",
    "p = [0.43, 0.51]\n",
    "dd = create_dictionary(f, p)\n",
    "print(dd)      \n",
    "f = ['apple']\n",
    "p = [0.43, 0.51]\n",
    "dd = create_dictionary(f, p)\n",
    "print(dd)"
   ]
  },
  {
   "cell_type": "markdown",
   "metadata": {
    "deletable": false,
    "editable": false,
    "nbgrader": {
     "grade": false,
     "locked": true,
     "solution": false
    }
   },
   "source": [
    "#### Hidden test cases: "
   ]
  },
  {
   "cell_type": "code",
   "execution_count": 2,
   "metadata": {
    "collapsed": true,
    "deletable": false,
    "editable": false,
    "nbgrader": {
     "grade": true,
     "grade_id": "5.01test1",
     "locked": true,
     "points": "1",
     "solution": false
    }
   },
   "outputs": [],
   "source": [
    "###\n",
    "### AUTOGRADER TEST - DO NOT REMOVE\n",
    "###\n"
   ]
  },
  {
   "cell_type": "code",
   "execution_count": 3,
   "metadata": {
    "collapsed": true,
    "deletable": false,
    "editable": false,
    "nbgrader": {
     "grade": true,
     "grade_id": "5.01test2",
     "locked": true,
     "points": "1",
     "solution": false
    }
   },
   "outputs": [],
   "source": [
    "###\n",
    "### AUTOGRADER TEST - DO NOT REMOVE\n",
    "###\n"
   ]
  },
  {
   "cell_type": "code",
   "execution_count": 4,
   "metadata": {
    "collapsed": true,
    "deletable": false,
    "editable": false,
    "nbgrader": {
     "grade": true,
     "grade_id": "5.01test3",
     "locked": true,
     "points": "1",
     "solution": false
    }
   },
   "outputs": [],
   "source": [
    "###\n",
    "### AUTOGRADER TEST - DO NOT REMOVE\n",
    "###\n"
   ]
  },
  {
   "cell_type": "markdown",
   "metadata": {
    "colab_type": "text",
    "deletable": false,
    "editable": false,
    "id": "yaB8Tptqkbdy",
    "nbgrader": {
     "grade": false,
     "locked": true,
     "solution": false
    }
   },
   "source": [
    "### Problem 5.02 ```get_value(dd,k)```"
   ]
  },
  {
   "cell_type": "markdown",
   "metadata": {
    "colab_type": "text",
    "deletable": false,
    "editable": false,
    "id": "Kdwd_cFj1KOI",
    "nbgrader": {
     "grade": false,
     "locked": true,
     "solution": false
    }
   },
   "source": [
    "\n",
    "The function takes in a dictionary ```dd``` and a key ```k```. \n",
    "If ```k``` exists as a key\n",
    "- return the associated value\n",
    "- else, return ```None```\n",
    "\n",
    "**sample test cases**\n",
    "```python \n",
    "sample_dict = {1:2, 2:3}\n",
    "key = 2\n",
    "value = get_value(sample_dict, key)\n",
    "print(value)\n",
    "key = 3\n",
    "value = get_value(sample_dict, key)\n",
    "print(value)\n",
    "```\n",
    "\n",
    "**expected output**\n",
    "```python\n",
    "3\n",
    "None\n",
    "```\n",
    "\n"
   ]
  },
  {
   "cell_type": "markdown",
   "metadata": {
    "deletable": false,
    "editable": false,
    "nbgrader": {
     "grade": false,
     "locked": true,
     "solution": false
    }
   },
   "source": [
    "#### Your solution here: "
   ]
  },
  {
   "cell_type": "code",
   "execution_count": 42,
   "metadata": {
    "nbgrader": {
     "grade": false,
     "grade_id": "5.02test1",
     "locked": false,
     "points": "2",
     "solution": false
    }
   },
   "outputs": [
    {
     "name": "stdout",
     "output_type": "stream",
     "text": [
      "3\n",
      "None\n"
     ]
    }
   ],
   "source": [
    "def get_value(sample_dict, key):\n",
    "    return sample_dict.get(key)\n",
    "\n",
    "\"\"\"\n",
    "def get_value(sample_dict, key):\n",
    "    for i in dd.keys():\n",
    "        if(key == i):\n",
    "            return sample_dict.get(key)\n",
    "        else:\n",
    "            return None\"\"\"\n",
    "    \n",
    "sample_dict = {1:2, 2:3}\n",
    "key = 2\n",
    "value = get_value(sample_dict, key)\n",
    "print(value)        \n",
    "sample_dict = {1:2, 2:3}\n",
    "key = 3\n",
    "value = get_value(sample_dict, key)\n",
    "print(value)"
   ]
  },
  {
   "cell_type": "code",
   "execution_count": 6,
   "metadata": {
    "deletable": false,
    "editable": false,
    "nbgrader": {
     "grade": true,
     "grade_id": "5.02test1",
     "locked": true,
     "points": "1",
     "solution": false
    }
   },
   "outputs": [],
   "source": [
    "###\n",
    "### AUTOGRADER TEST - DO NOT REMOVE\n",
    "###\n"
   ]
  },
  {
   "cell_type": "code",
   "execution_count": 7,
   "metadata": {
    "deletable": false,
    "editable": false,
    "nbgrader": {
     "grade": true,
     "grade_id": "5.02test2",
     "locked": true,
     "points": "1",
     "solution": false
    }
   },
   "outputs": [],
   "source": [
    "###\n",
    "### AUTOGRADER TEST - DO NOT REMOVE\n",
    "###\n"
   ]
  },
  {
   "cell_type": "code",
   "execution_count": 8,
   "metadata": {
    "deletable": false,
    "editable": false,
    "nbgrader": {
     "grade": true,
     "grade_id": "5.02test3",
     "locked": true,
     "points": "1",
     "solution": false
    }
   },
   "outputs": [],
   "source": [
    "###\n",
    "### AUTOGRADER TEST - DO NOT REMOVE\n",
    "###\n"
   ]
  },
  {
   "cell_type": "markdown",
   "metadata": {
    "colab_type": "text",
    "deletable": false,
    "editable": false,
    "id": "JlcXn0StlNL8",
    "nbgrader": {
     "grade": false,
     "locked": true,
     "solution": false
    }
   },
   "source": [
    "### Problem 5.03 ```extract_data(dd, k)```"
   ]
  },
  {
   "cell_type": "markdown",
   "metadata": {
    "colab_type": "text",
    "deletable": false,
    "editable": false,
    "id": "tYLYZPx75LRS",
    "nbgrader": {
     "grade": false,
     "locked": true,
     "solution": false
    }
   },
   "source": [
    "A dictionary ```dd``` has the following format: \n",
    "\n",
    "```python\n",
    "dd = {'A': (1,2), 'B': (-3,4), 'C': (-1,2)}\n",
    "```\n",
    "\n",
    "Each key-value pair represents a point in 2-D space. The key is the label of the point, and the associated value is a tuple containing the coordinates of the point. \n",
    "\n",
    "This function takes in ```dd``` and a key ```k```.\n",
    "\n",
    "If ```k``` exists in ```d```\n",
    "- return the distance of the point from the origin, rounded to 2 decimal places. \n",
    "- else, return ```None```. \n",
    "\n",
    "**sample test cases**\n",
    "```python\n",
    "dd = {'A': (1,2), 'B': (-3,4), 'C': (-1,2)}\n",
    "key = 'A'\n",
    "result = extract_data(dd, key)\n",
    "print(result)\n",
    "key = 'D'\n",
    "result = extract_data(dd, key)\n",
    "print(result)\n",
    "```\n",
    "\n",
    "**expected output**\n",
    "```python\n",
    "2.24\n",
    "None\n",
    "```\n"
   ]
  },
  {
   "cell_type": "markdown",
   "metadata": {
    "deletable": false,
    "editable": false,
    "nbgrader": {
     "grade": false,
     "locked": true,
     "solution": false
    }
   },
   "source": [
    "#### Your solution here: "
   ]
  },
  {
   "cell_type": "code",
   "execution_count": 43,
   "metadata": {},
   "outputs": [
    {
     "name": "stdout",
     "output_type": "stream",
     "text": [
      "2.24\n",
      "None\n"
     ]
    }
   ],
   "source": [
    "from math import *\n",
    "\n",
    "def extract_data(dd,key):\n",
    "    for i in dd.keys():\n",
    "        if(key == i):\n",
    "            x = int(dd.get(key)[0])\n",
    "            y = int(dd.get(key)[1])\n",
    "            distance = round(sqrt(x*x+y*y),2)\n",
    "            return distance\n",
    "    else:\n",
    "        return None\n",
    "dd = {'A': (1,2), 'B': (-3,4), 'C': (-1,2)}\n",
    "key = 'A'\n",
    "result = extract_data(dd, key)\n",
    "print(result)    \n",
    "key = 'D'\n",
    "result = extract_data(dd, key)\n",
    "print(result)"
   ]
  },
  {
   "cell_type": "code",
   "execution_count": 10,
   "metadata": {
    "deletable": false,
    "editable": false,
    "nbgrader": {
     "grade": true,
     "grade_id": "5.03test1",
     "locked": true,
     "points": "1",
     "solution": false
    }
   },
   "outputs": [],
   "source": [
    "###\n",
    "### AUTOGRADER TEST - DO NOT REMOVE\n",
    "###\n"
   ]
  },
  {
   "cell_type": "code",
   "execution_count": 11,
   "metadata": {
    "deletable": false,
    "editable": false,
    "nbgrader": {
     "grade": true,
     "grade_id": "5.03test2",
     "locked": true,
     "points": "1",
     "solution": false
    }
   },
   "outputs": [],
   "source": [
    "###\n",
    "### AUTOGRADER TEST - DO NOT REMOVE\n",
    "###\n"
   ]
  },
  {
   "cell_type": "code",
   "execution_count": 12,
   "metadata": {
    "deletable": false,
    "editable": false,
    "nbgrader": {
     "grade": true,
     "grade_id": "5.03test3",
     "locked": true,
     "points": "1",
     "solution": false
    }
   },
   "outputs": [],
   "source": [
    "###\n",
    "### AUTOGRADER TEST - DO NOT REMOVE\n",
    "###\n"
   ]
  },
  {
   "cell_type": "markdown",
   "metadata": {
    "colab_type": "text",
    "deletable": false,
    "editable": false,
    "id": "z6uj1hGunGbn",
    "nbgrader": {
     "grade": false,
     "locked": true,
     "solution": false
    }
   },
   "source": [
    "### Problem 5.04 ```get_base_counts(dna)```"
   ]
  },
  {
   "cell_type": "markdown",
   "metadata": {
    "colab_type": "text",
    "deletable": false,
    "editable": false,
    "id": "9W4ZKkhH6WHJ",
    "nbgrader": {
     "grade": false,
     "locked": true,
     "solution": false
    }
   },
   "source": [
    "This function takes a DNA string as an input. As a DNA string,  it should contain only the letters ```A```, ```C```, ```G```, and ```T``` (upper case only). \n",
    "\n",
    "The function returns the count of the number of times each of the four letters A, C, G, and T appear in the input string, in the form of a dictionary. \n",
    "\n",
    "If the input string contains other letters, the function will return the string, ```'The input DNA string is invalid'``` \n",
    "\n",
    "**sample test cases**\n",
    "\n",
    "```python\n",
    "result = get_base_counts('AACCCGT')\n",
    "print(result)\n",
    "result = get_base_counts('AACCG')\n",
    "print(result)\n",
    "result = get_base_counts('AAB')\n",
    "print(result)\n",
    "```\n",
    "\n",
    "**expected output**\n",
    "```python \n",
    "{'A':2, 'C':3, 'G':1, 'T':1}\n",
    "{'A':2, 'C':2, 'G':1, 'T':0}\n",
    "The input DNA string is invalid\n",
    "```"
   ]
  },
  {
   "cell_type": "markdown",
   "metadata": {
    "deletable": false,
    "editable": false,
    "nbgrader": {
     "grade": false,
     "locked": true,
     "solution": false
    }
   },
   "source": [
    "#### Your solution here: "
   ]
  },
  {
   "cell_type": "code",
   "execution_count": 48,
   "metadata": {},
   "outputs": [
    {
     "name": "stdout",
     "output_type": "stream",
     "text": [
      "{'A': 2, 'C': 3, 'G': 1, 'T': 1}\n",
      "{'A': 2, 'C': 2, 'G': 1, 'T': 0}\n",
      "The input DNA string is invalid\n"
     ]
    }
   ],
   "source": [
    "def get_base_counts(dna):\n",
    "    for i in range(len(dna)):\n",
    "        if(dna[i] != 'A' and dna[i] != 'C' and dna[i] != 'G' and dna[i] != 'T'):\n",
    "            return 'The input DNA string is invalid'\n",
    "        elif(len(dna)<1):\n",
    "            return 'The input DNA string is invalid'\n",
    "    else:\n",
    "        return {'A': dna.count('A'), 'C': dna.count('C'), 'G': dna.count('G'), 'T': dna.count('T')}\n",
    "\n",
    "result = get_base_counts('AACCCGT')\n",
    "print(result)\n",
    "result = get_base_counts('AACCG')\n",
    "print(result)\n",
    "result = get_base_counts('AAB')\n",
    "print(result)"
   ]
  },
  {
   "cell_type": "code",
   "execution_count": 14,
   "metadata": {
    "deletable": false,
    "editable": false,
    "nbgrader": {
     "grade": true,
     "grade_id": "5.04test1",
     "locked": true,
     "points": "1",
     "solution": false
    }
   },
   "outputs": [],
   "source": [
    "###\n",
    "### AUTOGRADER TEST - DO NOT REMOVE\n",
    "###\n"
   ]
  },
  {
   "cell_type": "code",
   "execution_count": 15,
   "metadata": {
    "deletable": false,
    "editable": false,
    "nbgrader": {
     "grade": true,
     "grade_id": "5.04test2",
     "locked": true,
     "points": "1",
     "solution": false
    }
   },
   "outputs": [],
   "source": [
    "###\n",
    "### AUTOGRADER TEST - DO NOT REMOVE\n",
    "###\n"
   ]
  },
  {
   "cell_type": "code",
   "execution_count": 16,
   "metadata": {
    "deletable": false,
    "editable": false,
    "nbgrader": {
     "grade": true,
     "grade_id": "5.04test3",
     "locked": true,
     "points": "1",
     "solution": false
    }
   },
   "outputs": [],
   "source": [
    "###\n",
    "### AUTOGRADER TEST - DO NOT REMOVE\n",
    "###\n"
   ]
  },
  {
   "cell_type": "code",
   "execution_count": 17,
   "metadata": {
    "deletable": false,
    "editable": false,
    "nbgrader": {
     "grade": true,
     "grade_id": "5.04test4",
     "locked": true,
     "points": "1",
     "solution": false
    }
   },
   "outputs": [],
   "source": [
    "###\n",
    "### AUTOGRADER TEST - DO NOT REMOVE\n",
    "###\n"
   ]
  },
  {
   "cell_type": "code",
   "execution_count": 18,
   "metadata": {
    "deletable": false,
    "editable": false,
    "nbgrader": {
     "grade": true,
     "grade_id": "5.04test5",
     "locked": true,
     "points": "1",
     "solution": false
    }
   },
   "outputs": [],
   "source": [
    "###\n",
    "### AUTOGRADER TEST - DO NOT REMOVE\n",
    "###\n"
   ]
  },
  {
   "cell_type": "markdown",
   "metadata": {
    "colab_type": "text",
    "deletable": false,
    "editable": false,
    "id": "_gKPlWmUpPoi",
    "nbgrader": {
     "grade": false,
     "locked": true,
     "solution": false
    }
   },
   "source": [
    "### Problem 5.05 ```evaluate_polynomial(dd,x)```"
   ]
  },
  {
   "cell_type": "markdown",
   "metadata": {
    "colab_type": "text",
    "deletable": false,
    "editable": false,
    "id": "Q1DQiBVYoKtZ",
    "nbgrader": {
     "grade": false,
     "locked": true,
     "solution": false
    }
   },
   "source": [
    "A polynomial can be represented by a dictionary, where the keys are the power and the values are the coefficients.  \n",
    "\n",
    "For example, $y = x^3 + 2x + 1$ can be written as:\n",
    "```python\n",
    "{3:1, 1:2, 0:1}\n",
    "```\n",
    "\n",
    "The function takes in such a dictionary ``dd`` and a numerical value ```x```. It finds the value of the polynomial at ```x``` and returns it, rounded to two decimal places. \n",
    "\n",
    "You may assume that ```dd``` will have at least one key-value pair and all keys and values are integers. \n",
    "\n",
    "\n",
    "---\n",
    "> #### Note\n",
    "> You can use the ```round()``` function for this question. \n",
    ">\n",
    "> If you work out the test case below by hand, the result comes to 2.125. \n",
    "> Rounding to 2 decimal places, since there is a choice of 2.13 or 2.12, Python rounds towards the even choice. \n",
    ">\n",
    "> Details of how the rounding is done are found in the [documentation](https://docs.python.org/release/3.1.5/library/functions.html#round)\n",
    ">\n",
    "\n",
    "---\n",
    "\n",
    "**sample test cases**\n",
    "\n",
    "```python\n",
    "dd = {3:1, 1:2, 0:1}\n",
    "x = 0.5\n",
    "result = evaluate_polynomial(dd,x)\n",
    "print(result)\n",
    "```\n",
    "\n",
    "**expected output**\n",
    "```\n",
    "2.12\n",
    "```"
   ]
  },
  {
   "cell_type": "markdown",
   "metadata": {
    "deletable": false,
    "editable": false,
    "nbgrader": {
     "grade": false,
     "locked": true,
     "solution": false
    }
   },
   "source": [
    "#### Your solution here:"
   ]
  },
  {
   "cell_type": "code",
   "execution_count": 20,
   "metadata": {},
   "outputs": [
    {
     "name": "stdout",
     "output_type": "stream",
     "text": [
      "2.12\n"
     ]
    }
   ],
   "source": [
    "def evaluate_polynomial(dd,x):\n",
    "    result = 0\n",
    "    for key, value in dd.items():\n",
    "        result += value*(x**key)\n",
    "    return round(result, 2)\n",
    "    \n",
    "dd = {3:1, 1:2, 0:1}\n",
    "x = 0.5\n",
    "result = evaluate_polynomial(dd,x)\n",
    "print(result)"
   ]
  },
  {
   "cell_type": "code",
   "execution_count": 20,
   "metadata": {
    "deletable": false,
    "editable": false,
    "nbgrader": {
     "grade": true,
     "grade_id": "5.05test1",
     "locked": true,
     "points": "1",
     "solution": false
    }
   },
   "outputs": [],
   "source": [
    "###\n",
    "### AUTOGRADER TEST - DO NOT REMOVE\n",
    "###\n"
   ]
  },
  {
   "cell_type": "code",
   "execution_count": 21,
   "metadata": {
    "deletable": false,
    "editable": false,
    "nbgrader": {
     "grade": true,
     "grade_id": "5.05test2",
     "locked": true,
     "points": "1",
     "solution": false
    }
   },
   "outputs": [],
   "source": [
    "###\n",
    "### AUTOGRADER TEST - DO NOT REMOVE\n",
    "###\n"
   ]
  },
  {
   "cell_type": "code",
   "execution_count": 22,
   "metadata": {
    "deletable": false,
    "editable": false,
    "nbgrader": {
     "grade": true,
     "grade_id": "5.05test3",
     "locked": true,
     "points": "1",
     "solution": false
    }
   },
   "outputs": [],
   "source": [
    "###\n",
    "### AUTOGRADER TEST - DO NOT REMOVE\n",
    "###\n"
   ]
  },
  {
   "cell_type": "code",
   "execution_count": 23,
   "metadata": {
    "deletable": false,
    "editable": false,
    "nbgrader": {
     "grade": true,
     "grade_id": "5.05test4",
     "locked": true,
     "points": "1",
     "solution": false
    }
   },
   "outputs": [],
   "source": [
    "###\n",
    "### AUTOGRADER TEST - DO NOT REMOVE\n",
    "###\n"
   ]
  },
  {
   "cell_type": "markdown",
   "metadata": {
    "colab_type": "text",
    "deletable": false,
    "editable": false,
    "id": "WWLsUm59rRKh",
    "nbgrader": {
     "grade": false,
     "locked": true,
     "solution": false
    }
   },
   "source": [
    "### Problem 5.06 ```diff(pp)```"
   ]
  },
  {
   "cell_type": "markdown",
   "metadata": {
    "colab_type": "text",
    "deletable": false,
    "editable": false,
    "id": "t_fUmE7V6gfj",
    "nbgrader": {
     "grade": false,
     "locked": true,
     "solution": false
    }
   },
   "source": [
    "The function ```diff``` takes in a dictionary ```pp``` that represents a polynomial, and returns the dictionary representation of its derivative. Assume that all keys and values are integers. \n",
    "\n",
    "The algorithm is summarized as follows. Let the dictionary containing the derivative be ```dp```.\n",
    "\n",
    "1. looping over each key in ```pp```, \n",
    "   - ```dp```[ key - 1] = key $\\times$ ```pp```[key]\n",
    "\n",
    "**sample test cases**\n",
    "```python\n",
    "p={0:-3, 3:2, 5:-1} \n",
    "result = diff(p)\n",
    "print(result)\n",
    "```\n",
    "**expected output**\n",
    "```python\n",
    "{2:6, 4:-5}\n",
    "```"
   ]
  },
  {
   "cell_type": "markdown",
   "metadata": {
    "deletable": false,
    "editable": false,
    "nbgrader": {
     "grade": false,
     "locked": true,
     "solution": false
    }
   },
   "source": [
    "#### Your solution below:"
   ]
  },
  {
   "cell_type": "code",
   "execution_count": 29,
   "metadata": {},
   "outputs": [
    {
     "name": "stdout",
     "output_type": "stream",
     "text": [
      "{2: 6, 4: -5}\n"
     ]
    }
   ],
   "source": [
    "def diff(pp):\n",
    "    dp = {}\n",
    "    for key, value in pp.items():\n",
    "        if (key>0):\n",
    "            dp[key-1] = key * pp[key]\n",
    "        else:\n",
    "            pass\n",
    "    return dp\n",
    "\n",
    "p={0:-3, 3:2, 5:-1} \n",
    "result = diff(p)\n",
    "print(result)"
   ]
  },
  {
   "cell_type": "code",
   "execution_count": 25,
   "metadata": {
    "deletable": false,
    "editable": false,
    "nbgrader": {
     "grade": true,
     "grade_id": "5.06test1",
     "locked": true,
     "points": "1",
     "solution": false
    }
   },
   "outputs": [],
   "source": [
    "###\n",
    "### AUTOGRADER TEST - DO NOT REMOVE\n",
    "###\n"
   ]
  },
  {
   "cell_type": "code",
   "execution_count": 26,
   "metadata": {
    "deletable": false,
    "editable": false,
    "nbgrader": {
     "grade": true,
     "grade_id": "5.06test2",
     "locked": true,
     "points": "1",
     "solution": false
    }
   },
   "outputs": [],
   "source": [
    "###\n",
    "### AUTOGRADER TEST - DO NOT REMOVE\n",
    "###\n"
   ]
  },
  {
   "cell_type": "code",
   "execution_count": 27,
   "metadata": {
    "deletable": false,
    "editable": false,
    "nbgrader": {
     "grade": true,
     "grade_id": "5.06test3",
     "locked": true,
     "points": "1",
     "solution": false
    }
   },
   "outputs": [],
   "source": [
    "###\n",
    "### AUTOGRADER TEST - DO NOT REMOVE\n",
    "###\n"
   ]
  },
  {
   "cell_type": "markdown",
   "metadata": {
    "colab_type": "text",
    "deletable": false,
    "editable": false,
    "id": "k8SBIRHSiRCI",
    "nbgrader": {
     "grade": false,
     "locked": true,
     "solution": false
    }
   },
   "source": [
    "### Problem 5.07 ```read_list(ls, reg_no, key)```\n",
    "\n"
   ]
  },
  {
   "cell_type": "markdown",
   "metadata": {
    "colab_type": "text",
    "deletable": false,
    "editable": false,
    "id": "zkGZUrjbiclk",
    "nbgrader": {
     "grade": false,
     "locked": true,
     "solution": false
    }
   },
   "source": [
    "Information on the cars in a second-hand car dealer is stored as a list of dictionaries. \n",
    "\n",
    "Each dictionary should have the keys ```'reg'``` (registration number),```'make'``` and ```'price'```, but due to data entry errors, some of these keys are missing. \n",
    "\n",
    "You can assume that each registration number is unique.\n",
    "\n",
    "```python\n",
    "ls = [\n",
    "  {'reg': '1234A', 'make':'Caelum', 'price': 24999}, \n",
    "  {'reg': '888B', 'make':'Noctis', 'price': 12499}, \n",
    "  {'reg': '365K', 'make':'Cloud', 'price': 7499},\n",
    "  {'reg': '1043W', 'price': 2499}, \n",
    "  {'reg': '7422M', 'make': 'Lucis'} ]\n",
    "``` \n",
    "\n",
    "This function queries this list ```ls```. \n",
    "\n",
    "It takes in the registration number ```reg_no``` as a string, and a ```key``` to retrive. \n",
    "\n",
    "It returns the value if the data is available. Otherwise, ```None``` is returned. \n",
    "\n",
    "\n",
    "**sample test cases**\n",
    "\n",
    "```python\n",
    "### using the list ls defined above\n",
    "result = read_list(ls, '888B', 'make')\n",
    "print(result)\n",
    "result = read_list(ls, '7422M', 'price')\n",
    "print(result)\n",
    "```\n",
    "\n",
    "**expected output**\n",
    "```\n",
    "Noctis\n",
    "None\n",
    "```\n",
    "\n",
    "\n"
   ]
  },
  {
   "cell_type": "code",
   "execution_count": 5,
   "metadata": {},
   "outputs": [
    {
     "name": "stdout",
     "output_type": "stream",
     "text": [
      "Caelum\n",
      "None\n",
      "None\n"
     ]
    }
   ],
   "source": [
    "def read_list(ls, reg_no, key):\n",
    "    for i in ls:\n",
    "        for k, v in i.items():\n",
    "            if(reg_no == (list(i.values())[0])):\n",
    "                result = i.get(key)\n",
    "                \n",
    "            else: \n",
    "                return None\n",
    "        return result\n",
    "            \n",
    "\n",
    "ls = [\n",
    "  {'reg': '1234A', 'make':'Caelum', 'price': 24999}, \n",
    "  {'reg': '888B', 'make':'Noctis', 'price': 12499}, \n",
    "  {'reg': '365K', 'make':'Cloud', 'price': 7499},\n",
    "  {'reg': '1043W', 'price': 2499}, \n",
    "  {'reg': '7422M', 'make': 'Lucis'} ]\n",
    "\n",
    "result = read_list(ls, '1234A', 'make')\n",
    "print(result)\n",
    "result = read_list(ls, '888B', 'make')\n",
    "print(result)\n",
    "result = read_list(ls, '7422M', 'price')\n",
    "print(result)\n",
    "\n",
    "\n",
    "###Problem -> only able to loop once"
   ]
  },
  {
   "cell_type": "code",
   "execution_count": 29,
   "metadata": {
    "deletable": false,
    "editable": false,
    "nbgrader": {
     "grade": true,
     "grade_id": "5.07test1",
     "locked": true,
     "points": "1",
     "solution": false
    }
   },
   "outputs": [],
   "source": [
    "###\n",
    "### AUTOGRADER TEST - DO NOT REMOVE\n",
    "###\n"
   ]
  },
  {
   "cell_type": "code",
   "execution_count": 30,
   "metadata": {
    "deletable": false,
    "editable": false,
    "nbgrader": {
     "grade": true,
     "grade_id": "5.07test2",
     "locked": true,
     "points": "1",
     "solution": false
    }
   },
   "outputs": [],
   "source": [
    "###\n",
    "### AUTOGRADER TEST - DO NOT REMOVE\n",
    "###\n"
   ]
  },
  {
   "cell_type": "code",
   "execution_count": 31,
   "metadata": {
    "deletable": false,
    "editable": false,
    "nbgrader": {
     "grade": true,
     "grade_id": "5.07test3",
     "locked": true,
     "points": "1",
     "solution": false
    }
   },
   "outputs": [],
   "source": [
    "###\n",
    "### AUTOGRADER TEST - DO NOT REMOVE\n",
    "###\n"
   ]
  },
  {
   "cell_type": "code",
   "execution_count": 32,
   "metadata": {
    "deletable": false,
    "editable": false,
    "nbgrader": {
     "grade": true,
     "grade_id": "5.07test4",
     "locked": true,
     "points": "1",
     "solution": false
    }
   },
   "outputs": [],
   "source": [
    "###\n",
    "### AUTOGRADER TEST - DO NOT REMOVE\n",
    "###\n"
   ]
  },
  {
   "cell_type": "code",
   "execution_count": 33,
   "metadata": {
    "deletable": false,
    "editable": false,
    "nbgrader": {
     "grade": true,
     "grade_id": "5.07test5",
     "locked": true,
     "points": "1",
     "solution": false
    }
   },
   "outputs": [],
   "source": [
    "###\n",
    "### AUTOGRADER TEST - DO NOT REMOVE\n",
    "###\n"
   ]
  },
  {
   "cell_type": "markdown",
   "metadata": {
    "deletable": false,
    "editable": false,
    "nbgrader": {
     "grade": false,
     "locked": true,
     "solution": false
    }
   },
   "source": [
    "### Problem 5.08 ```get_highest_value(dd)```"
   ]
  },
  {
   "cell_type": "markdown",
   "metadata": {
    "deletable": false,
    "editable": false,
    "nbgrader": {
     "grade": false,
     "locked": true,
     "solution": false
    }
   },
   "source": [
    "This function takes in a dictionary ```dd```. \n",
    "\n",
    "The keys are of any acceptable data type, but the values are positive integers. \n",
    "\n",
    "The function searches for the key that has the highest value, and returns the key and the value. \n",
    "\n",
    "**sample test cases**\n",
    "\n",
    "```python \n",
    "data = {'a': 123, 'b': 132, 'c': 95}\n",
    "results = get_highest_value(data)\n",
    "print(results)\n",
    "```\n",
    "\n",
    "**expected output**\n",
    "```\n",
    "(b,132)\n",
    "```"
   ]
  },
  {
   "cell_type": "markdown",
   "metadata": {
    "deletable": false,
    "editable": false,
    "nbgrader": {
     "grade": false,
     "locked": true,
     "solution": false
    }
   },
   "source": [
    "#### Your solution here: "
   ]
  },
  {
   "cell_type": "code",
   "execution_count": 68,
   "metadata": {},
   "outputs": [
    {
     "name": "stdout",
     "output_type": "stream",
     "text": [
      "('b', 132)\n"
     ]
    }
   ],
   "source": [
    "def get_highest_value(dd):\n",
    "    max_key = max(dd, key=dd.get)\n",
    "    all_values = dd.values()\n",
    "    max_value = max(all_values)\n",
    "    results = (max_key, max_value)\n",
    "    return results\n",
    "\n",
    "data = {'a': 123, 'b': 132, 'c': 95}\n",
    "results = get_highest_value(data)\n",
    "print(results)\n",
    "\n",
    "## Can try to find an easier way to find the max_key ??"
   ]
  },
  {
   "cell_type": "code",
   "execution_count": 35,
   "metadata": {
    "deletable": false,
    "editable": false,
    "nbgrader": {
     "grade": true,
     "grade_id": "5.08test1",
     "locked": true,
     "points": "1",
     "solution": false
    }
   },
   "outputs": [],
   "source": [
    "###\n",
    "### AUTOGRADER TEST - DO NOT REMOVE\n",
    "###\n"
   ]
  },
  {
   "cell_type": "code",
   "execution_count": 36,
   "metadata": {
    "deletable": false,
    "editable": false,
    "nbgrader": {
     "grade": true,
     "grade_id": "5.08test2",
     "locked": true,
     "points": "1",
     "solution": false
    }
   },
   "outputs": [],
   "source": [
    "###\n",
    "### AUTOGRADER TEST - DO NOT REMOVE\n",
    "###\n"
   ]
  },
  {
   "cell_type": "code",
   "execution_count": 37,
   "metadata": {
    "deletable": false,
    "editable": false,
    "nbgrader": {
     "grade": true,
     "grade_id": "5.08test3",
     "locked": true,
     "points": "1",
     "solution": false
    }
   },
   "outputs": [],
   "source": [
    "###\n",
    "### AUTOGRADER TEST - DO NOT REMOVE\n",
    "###\n"
   ]
  }
 ],
 "metadata": {
  "colab": {
   "name": "Lesson 5.ipynb",
   "provenance": []
  },
  "kernelspec": {
   "display_name": "Python 3 (ipykernel)",
   "language": "python",
   "name": "python3"
  },
  "language_info": {
   "codemirror_mode": {
    "name": "ipython",
    "version": 3
   },
   "file_extension": ".py",
   "mimetype": "text/x-python",
   "name": "python",
   "nbconvert_exporter": "python",
   "pygments_lexer": "ipython3",
   "version": "3.9.6"
  }
 },
 "nbformat": 4,
 "nbformat_minor": 1
}
