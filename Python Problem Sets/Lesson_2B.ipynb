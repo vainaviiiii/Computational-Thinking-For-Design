{
 "cells": [
  {
   "cell_type": "markdown",
   "metadata": {
    "colab_type": "text",
    "deletable": false,
    "editable": false,
    "id": "nzSs4TEJq25o",
    "nbgrader": {
     "grade": false,
     "locked": true,
     "solution": false
    }
   },
   "source": [
    "### 10.014 Computational Thinking For Design, Fall 2021\n",
    "\n",
    "## Problem Set 2B\n",
    "\n",
    "© Singapore University of Technology and Design, 2021"
   ]
  },
  {
   "cell_type": "markdown",
   "metadata": {
    "deletable": false,
    "editable": false,
    "nbgrader": {
     "grade": false,
     "locked": true,
     "solution": false
    }
   },
   "source": [
    "### Lesson Materials For This Problem Set \n",
    "\n",
    "Materials for [Lesson 2](https://colab.research.google.com/drive/19jemS8AVKD7X6LrH9BiQ_cVEkQ9gYbzK?usp=sharing)"
   ]
  },
  {
   "cell_type": "markdown",
   "metadata": {
    "deletable": false,
    "editable": false,
    "nbgrader": {
     "grade": false,
     "locked": true,
     "solution": false
    }
   },
   "source": [
    "### Problem 2.11 ```compound_interest(amount, rate, periods, time)```"
   ]
  },
  {
   "cell_type": "markdown",
   "metadata": {
    "colab_type": "text",
    "deletable": false,
    "editable": false,
    "id": "trs1DuSUw9yk",
    "nbgrader": {
     "grade": false,
     "locked": true,
     "solution": false
    }
   },
   "source": [
    "You have a bank deposit of ```amount``` that pays an annual interest rate of ```rate```. ```rate``` is expressed as a decimal value between 0 and 1. \n",
    "\n",
    "```periods``` is the number of times interest is compounded in a year. \n",
    "\n",
    "For example, if the interest is compounded monthly, ```periods``` would have a value of 12.  \n",
    "\n",
    "```time``` is the time in years for this deposit to mature. \n",
    "\n",
    "The future value of this deposit $f$ is given by\n",
    "\\begin{equation}\n",
    "f = amount \\left(   1 + \\frac{rate}{periods} \\right)^{periods \\times time}\n",
    "\\end{equation}\n",
    "\n",
    "You can assume that all inputs to this function will be ```int``` or ```float``` and have positive values, and ```rate``` will be a ```float``` value between 0 and 1, \n",
    "\n",
    "Round the return value to three decimal places. \n",
    "\n",
    "Test cases: \n",
    "\n",
    "```python\n",
    "print ( compound_interest(1, 0.03, 1, 1) )\n",
    "print ( compound_interest(1, 0.12 ,12, 1) )\n",
    "print ( compound_interest(1, 1 ,1000, 1) )\n",
    "``` \n",
    "\n",
    "gives the following output: \n",
    "\n",
    "```python\n",
    "1.03\n",
    "1.127\n",
    "2.717\n",
    "``` \n",
    "\n",
    "---\n",
    "\n",
    "> #### Something to consider\n",
    ">\n",
    "> Recall your Mathematics. How would you use this function to estimate the value of $e$, the euler number? \n",
    ">\n",
    "\n",
    "----"
   ]
  },
  {
   "cell_type": "markdown",
   "metadata": {
    "deletable": false,
    "editable": false,
    "nbgrader": {
     "grade": false,
     "locked": true,
     "solution": false
    }
   },
   "source": [
    "#### Your solution below: "
   ]
  },
  {
   "cell_type": "code",
   "execution_count": 1,
   "metadata": {},
   "outputs": [
    {
     "name": "stdout",
     "output_type": "stream",
     "text": [
      "1.03\n"
     ]
    }
   ],
   "source": [
    "def compound_interest(amount, rate,periods, time):\n",
    "    f = amount * (1 + rate/periods)**(periods*time)\n",
    "    return f\n",
    "    \n",
    "\n",
    "### Add in code to test your function\n",
    "print ( compound_interest(1, 0.03, 1, 1) )"
   ]
  },
  {
   "cell_type": "markdown",
   "metadata": {
    "deletable": false,
    "editable": false,
    "nbgrader": {
     "grade": false,
     "locked": true,
     "solution": false
    }
   },
   "source": [
    "#### Hidden test cases"
   ]
  },
  {
   "cell_type": "code",
   "execution_count": null,
   "metadata": {
    "collapsed": true,
    "deletable": false,
    "editable": false,
    "nbgrader": {
     "grade": true,
     "grade_id": "2.11test1",
     "locked": true,
     "points": "1",
     "solution": false
    }
   },
   "outputs": [],
   "source": [
    "###\n",
    "### AUTOGRADER TEST - DO NOT REMOVE\n",
    "###\n"
   ]
  },
  {
   "cell_type": "code",
   "execution_count": null,
   "metadata": {
    "collapsed": true,
    "deletable": false,
    "editable": false,
    "nbgrader": {
     "grade": true,
     "grade_id": "2.11test2",
     "locked": true,
     "points": "1",
     "solution": false
    }
   },
   "outputs": [],
   "source": [
    "###\n",
    "### AUTOGRADER TEST - DO NOT REMOVE\n",
    "###\n"
   ]
  },
  {
   "cell_type": "code",
   "execution_count": null,
   "metadata": {
    "collapsed": true,
    "deletable": false,
    "editable": false,
    "nbgrader": {
     "grade": true,
     "grade_id": "2.11test3",
     "locked": true,
     "points": "1",
     "solution": false
    }
   },
   "outputs": [],
   "source": [
    "###\n",
    "### AUTOGRADER TEST - DO NOT REMOVE\n",
    "###\n"
   ]
  },
  {
   "cell_type": "code",
   "execution_count": null,
   "metadata": {
    "collapsed": true,
    "deletable": false,
    "editable": false,
    "nbgrader": {
     "grade": true,
     "grade_id": "2.11test4",
     "locked": true,
     "points": "1",
     "solution": false
    }
   },
   "outputs": [],
   "source": [
    "###\n",
    "### AUTOGRADER TEST - DO NOT REMOVE\n",
    "###\n"
   ]
  },
  {
   "cell_type": "markdown",
   "metadata": {
    "deletable": false,
    "editable": false,
    "nbgrader": {
     "grade": false,
     "locked": true,
     "solution": false
    }
   },
   "source": [
    "### Problem 2.12 ```area_vol_cylinder( radius, length)```"
   ]
  },
  {
   "cell_type": "markdown",
   "metadata": {
    "colab_type": "text",
    "deletable": false,
    "editable": false,
    "id": "gAg23gROR2u5",
    "nbgrader": {
     "grade": false,
     "locked": true,
     "solution": false
    }
   },
   "source": [
    "This function takes in the ```radius``` and the ```length``` of a cylinder.  \n",
    "\n",
    "It returns two values, the area of its circular face, followed by its volume, both rounded to two decimal places.  \n",
    "\n",
    "Use the following formulas:    \n",
    "- $area = \\pi (radius)^2$.   \n",
    "- $volume = area \\times length$\n",
    "\n",
    "In your function, you must use the ```pi``` value from the ```math``` library. \n",
    "\n",
    "Test cases:\n",
    "\n",
    "```python\n",
    "print(area_vol_cylinder(1.0,2.0))\n",
    "print(area_vol_cylinder(2.0,2.3))\n",
    "print(area_vol_cylinder(1.5,4))\n",
    "print(area_vol_cylinder(2.2,5.0))\n",
    "```\n",
    "\n",
    "giving the following output  (area, volume): \n",
    "```python\n",
    "(3.14 , 6.28)\n",
    "(12.57 , 28.9)\n",
    "(7.07 , 28.27)\n",
    "(15.21 , 76.03)\n",
    "```\n"
   ]
  },
  {
   "cell_type": "markdown",
   "metadata": {
    "deletable": false,
    "editable": false,
    "nbgrader": {
     "grade": false,
     "locked": true,
     "solution": false
    }
   },
   "source": [
    "#### Your solution below:"
   ]
  },
  {
   "cell_type": "code",
   "execution_count": 21,
   "metadata": {},
   "outputs": [
    {
     "name": "stdout",
     "output_type": "stream",
     "text": [
      "(3.14, 6.28)\n"
     ]
    }
   ],
   "source": [
    "### Write code to import the math library\n",
    "from math import *\n",
    "\n",
    "def area_vol_cylinder(radius, length):\n",
    "    area = round((pi * radius**2), 2)\n",
    "    volume = round((area * length), 2)\n",
    "    return (area, volume)\n",
    "\n",
    "print(area_vol_cylinder(1.0,2.0))\n",
    "\n",
    "### Remember how to ROUND OFF to 2d.p. -> round(value, d.p.)!!!"
   ]
  },
  {
   "cell_type": "markdown",
   "metadata": {
    "deletable": false,
    "editable": false,
    "nbgrader": {
     "grade": false,
     "locked": true,
     "solution": false
    }
   },
   "source": [
    "#### hidden test cases "
   ]
  },
  {
   "cell_type": "code",
   "execution_count": null,
   "metadata": {
    "collapsed": true,
    "deletable": false,
    "editable": false,
    "nbgrader": {
     "grade": true,
     "grade_id": "2.12test1",
     "locked": true,
     "points": "1",
     "solution": false
    }
   },
   "outputs": [],
   "source": [
    "###\n",
    "### AUTOGRADER TEST - DO NOT REMOVE\n",
    "###\n"
   ]
  },
  {
   "cell_type": "code",
   "execution_count": null,
   "metadata": {
    "collapsed": true,
    "deletable": false,
    "editable": false,
    "nbgrader": {
     "grade": true,
     "grade_id": "2.12test2",
     "locked": true,
     "points": "1",
     "solution": false
    }
   },
   "outputs": [],
   "source": [
    "###\n",
    "### AUTOGRADER TEST - DO NOT REMOVE\n",
    "###\n"
   ]
  },
  {
   "cell_type": "code",
   "execution_count": null,
   "metadata": {
    "collapsed": true,
    "deletable": false,
    "editable": false,
    "nbgrader": {
     "grade": true,
     "grade_id": "2.12test3",
     "locked": true,
     "points": "1",
     "solution": false
    }
   },
   "outputs": [],
   "source": [
    "###\n",
    "### AUTOGRADER TEST - DO NOT REMOVE\n",
    "###\n"
   ]
  },
  {
   "cell_type": "markdown",
   "metadata": {
    "deletable": false,
    "editable": false,
    "nbgrader": {
     "grade": false,
     "locked": true,
     "solution": false
    }
   },
   "source": [
    "### Problem 2.13 ```seconds_to_hours( seconds)```"
   ]
  },
  {
   "cell_type": "markdown",
   "metadata": {
    "colab_type": "text",
    "deletable": false,
    "editable": false,
    "id": "aELMHRBkSP9Z",
    "nbgrader": {
     "grade": false,
     "locked": true,
     "solution": false
    }
   },
   "source": [
    "This function takes in ```seconds``` as its input parameter and calculates the equivalent time in terms of the number of hours, minutes and seconds. ```seconds``` is a positive integer value below 86400. \n",
    "\n",
    "For example, 29500 seconds is 8 hours, 11 minutes and 40 seconds. \n",
    "\n",
    "It returns three integer values: \n",
    "- the hour value\n",
    "- the minutes value \n",
    "- the seconds value \n",
    "\n",
    "Test cases:\n",
    "\n",
    "```python\n",
    "print(seconds_to_hours(29500))\n",
    "print(seconds_to_hours(7210))\n",
    "```\n",
    "output is \n",
    "```\n",
    "(8, 11, 40)\n",
    "(2, 0, 10)\n",
    "```\n",
    "\n",
    "---\n",
    "\n",
    "> #### Hint\n",
    "> \n",
    "> The integer division operator and the modulo operator will be useful in this question. \n",
    ">\n",
    "\n",
    "---\n",
    "\n",
    "---\n",
    "\n",
    "> #### ATTENTION\n",
    "> \n",
    "> Save your solution to this problem. We will need it in Lesson 4 \n",
    ">\n",
    "\n",
    "---\n",
    "\n"
   ]
  },
  {
   "cell_type": "markdown",
   "metadata": {
    "deletable": false,
    "editable": false,
    "nbgrader": {
     "grade": false,
     "locked": true,
     "solution": false
    }
   },
   "source": [
    "#### Your solution here: "
   ]
  },
  {
   "cell_type": "code",
   "execution_count": 14,
   "metadata": {},
   "outputs": [
    {
     "name": "stdout",
     "output_type": "stream",
     "text": [
      "(8, 11, 40)\n"
     ]
    }
   ],
   "source": [
    "def seconds_to_hours(seconds):\n",
    "    SECONDS_PER_HOUR = 60*60\n",
    "    No_of_hours = int(seconds / SECONDS_PER_HOUR)\n",
    "    SECONDS_PER_MINUTE = 60\n",
    "    No_of_minutes = int((seconds % SECONDS_PER_HOUR) / SECONDS_PER_MINUTE)\n",
    "    No_of_seconds = (seconds % SECONDS_PER_HOUR) % SECONDS_PER_MINUTE\n",
    "    \n",
    "    return (No_of_hours, No_of_minutes, No_of_seconds)\n",
    "    \n",
    "print(seconds_to_hours(29500))"
   ]
  },
  {
   "cell_type": "markdown",
   "metadata": {
    "deletable": false,
    "editable": false,
    "nbgrader": {
     "grade": false,
     "locked": true,
     "solution": false
    }
   },
   "source": [
    "#### hidden test cases"
   ]
  },
  {
   "cell_type": "code",
   "execution_count": null,
   "metadata": {
    "collapsed": true,
    "deletable": false,
    "editable": false,
    "nbgrader": {
     "grade": true,
     "grade_id": "2.13test1",
     "locked": true,
     "points": "1",
     "solution": false
    }
   },
   "outputs": [],
   "source": [
    "###\n",
    "### AUTOGRADER TEST - DO NOT REMOVE\n",
    "###\n"
   ]
  },
  {
   "cell_type": "code",
   "execution_count": null,
   "metadata": {
    "collapsed": true,
    "deletable": false,
    "editable": false,
    "nbgrader": {
     "grade": true,
     "grade_id": "2.13test2",
     "locked": true,
     "points": "1",
     "solution": false
    }
   },
   "outputs": [],
   "source": [
    "###\n",
    "### AUTOGRADER TEST - DO NOT REMOVE\n",
    "###\n"
   ]
  },
  {
   "cell_type": "code",
   "execution_count": null,
   "metadata": {
    "collapsed": true,
    "deletable": false,
    "editable": false,
    "nbgrader": {
     "grade": true,
     "grade_id": "2.13test3",
     "locked": true,
     "points": "1",
     "solution": false
    }
   },
   "outputs": [],
   "source": [
    "###\n",
    "### AUTOGRADER TEST - DO NOT REMOVE\n",
    "###\n"
   ]
  },
  {
   "cell_type": "code",
   "execution_count": null,
   "metadata": {
    "collapsed": true,
    "deletable": false,
    "editable": false,
    "nbgrader": {
     "grade": true,
     "grade_id": "2.13test4",
     "locked": true,
     "points": "1",
     "solution": false
    }
   },
   "outputs": [],
   "source": [
    "###\n",
    "### AUTOGRADER TEST - DO NOT REMOVE\n",
    "###\n"
   ]
  },
  {
   "cell_type": "markdown",
   "metadata": {
    "deletable": false,
    "editable": false,
    "nbgrader": {
     "grade": false,
     "locked": true,
     "solution": false
    }
   },
   "source": [
    "### Problem 2.14 ```fahrenheit_to_celsius( f )``` "
   ]
  },
  {
   "cell_type": "markdown",
   "metadata": {
    "colab_type": "text",
    "deletable": false,
    "editable": false,
    "id": "6JLwnQEhNonn",
    "nbgrader": {
     "grade": false,
     "locked": true,
     "solution": false
    }
   },
   "source": [
    "This function takes a fahrenheit value as input and returns its centigrade equivalent. \n",
    "- Round the return value to two decimal places. \n",
    "- If the return value is less than absolute zero (-273.15 degrees celsius), return ```None```\n",
    "\n",
    "Recall that if $C$ denotes the centigrade value and $F$ its fahrenheit equivalent, then $F = C ∗ 9/5 + 32$. \n",
    "\n",
    "You may assume that the input will always be of type ```int``` or ```float```.\n",
    "\n",
    "Test cases: \n",
    "\n",
    "```python\n",
    "print(fahrenheit_to_celsius(-500))\n",
    "print(fahrenheit_to_celsius(32))\n",
    "print(fahrenheit_to_celsius(99)) \n",
    "print(fahrenheit_to_celsius(212))\n",
    "```\n",
    "\n",
    "gives the following output\n",
    "\n",
    "```python\n",
    "None\n",
    "0.0\n",
    "37.22\n",
    "100.0\n",
    "```"
   ]
  },
  {
   "cell_type": "markdown",
   "metadata": {
    "deletable": false,
    "editable": false,
    "nbgrader": {
     "grade": false,
     "locked": true,
     "solution": false
    }
   },
   "source": [
    "#### Your solution:"
   ]
  },
  {
   "cell_type": "code",
   "execution_count": 20,
   "metadata": {},
   "outputs": [
    {
     "name": "stdout",
     "output_type": "stream",
     "text": [
      "100.0\n"
     ]
    }
   ],
   "source": [
    "def fahrenheit_to_celsius(f):\n",
    "    c = (f-32)*5/9\n",
    "    if (c < -273.15):\n",
    "        return None\n",
    "    else: \n",
    "        return round(c, 2)\n",
    "    \n",
    "print(fahrenheit_to_celsius(212))   "
   ]
  },
  {
   "cell_type": "markdown",
   "metadata": {
    "deletable": false,
    "editable": false,
    "nbgrader": {
     "grade": false,
     "locked": true,
     "solution": false
    }
   },
   "source": [
    "#### Hidden test cases"
   ]
  },
  {
   "cell_type": "code",
   "execution_count": null,
   "metadata": {
    "collapsed": true,
    "deletable": false,
    "editable": false,
    "nbgrader": {
     "grade": true,
     "grade_id": "2.14test1",
     "locked": true,
     "points": "1",
     "solution": false
    }
   },
   "outputs": [],
   "source": [
    "###\n",
    "### AUTOGRADER TEST - DO NOT REMOVE\n",
    "###\n"
   ]
  },
  {
   "cell_type": "code",
   "execution_count": null,
   "metadata": {
    "collapsed": true,
    "deletable": false,
    "editable": false,
    "nbgrader": {
     "grade": true,
     "grade_id": "2.14test2",
     "locked": true,
     "points": "1",
     "solution": false
    }
   },
   "outputs": [],
   "source": [
    "###\n",
    "### AUTOGRADER TEST - DO NOT REMOVE\n",
    "###\n"
   ]
  },
  {
   "cell_type": "code",
   "execution_count": null,
   "metadata": {
    "collapsed": true,
    "deletable": false,
    "editable": false,
    "nbgrader": {
     "grade": true,
     "grade_id": "2.14test3",
     "locked": true,
     "points": "1",
     "solution": false
    }
   },
   "outputs": [],
   "source": [
    "###\n",
    "### AUTOGRADER TEST - DO NOT REMOVE\n",
    "###\n"
   ]
  },
  {
   "cell_type": "code",
   "execution_count": null,
   "metadata": {
    "collapsed": true,
    "deletable": false,
    "editable": false,
    "nbgrader": {
     "grade": true,
     "grade_id": "2.14test4",
     "locked": true,
     "points": "1",
     "solution": false
    }
   },
   "outputs": [],
   "source": [
    "###\n",
    "### AUTOGRADER TEST - DO NOT REMOVE\n",
    "###\n"
   ]
  }
 ],
 "metadata": {
  "colab": {
   "collapsed_sections": [
    "arNs5SvnU411",
    "eWLQYfgKMFqZ"
   ],
   "name": "Lesson 2.ipynb",
   "provenance": []
  },
  "kernelspec": {
   "display_name": "Python 3 (ipykernel)",
   "language": "python",
   "name": "python3"
  },
  "language_info": {
   "codemirror_mode": {
    "name": "ipython",
    "version": 3
   },
   "file_extension": ".py",
   "mimetype": "text/x-python",
   "name": "python",
   "nbconvert_exporter": "python",
   "pygments_lexer": "ipython3",
   "version": "3.9.6"
  }
 },
 "nbformat": 4,
 "nbformat_minor": 1
}
