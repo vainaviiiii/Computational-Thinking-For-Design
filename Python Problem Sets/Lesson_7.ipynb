{
 "cells": [
  {
   "cell_type": "markdown",
   "metadata": {
    "colab_type": "text",
    "deletable": false,
    "editable": false,
    "id": "J_cLQuljKEaA",
    "nbgrader": {
     "grade": false,
     "locked": true,
     "solution": false
    }
   },
   "source": [
    "### 10.014 Computational Thinking For Design, Fall 2021\n",
    "\n",
    "## Problem Set 7\n",
    "\n",
    "© Singapore University of Technology and Design, 2021\n"
   ]
  },
  {
   "cell_type": "markdown",
   "metadata": {
    "deletable": false,
    "editable": false,
    "nbgrader": {
     "grade": false,
     "locked": true,
     "solution": false
    }
   },
   "source": [
    "### Lesson Materials For This Problem Set \n",
    "\n",
    "Materials for [Lesson 7](https://colab.research.google.com/drive/1_fjGIuLffIJfg8J9VJthrUgCJTCh4b9p?usp=sharing)"
   ]
  },
  {
   "cell_type": "markdown",
   "metadata": {
    "deletable": false,
    "editable": false,
    "nbgrader": {
     "grade": false,
     "locked": true,
     "solution": false
    }
   },
   "source": [
    "### Problem 7.01 ```class PolarComplex```"
   ]
  },
  {
   "cell_type": "markdown",
   "metadata": {
    "deletable": false,
    "editable": false,
    "nbgrader": {
     "grade": false,
     "locked": true,
     "solution": false
    }
   },
   "source": [
    "Recall that a complex number can be expressed in several forms, the cartesian form, the trigonometric form, or the polar form. Note that in engineering, we write  $j = \\sqrt{-1}$\n",
    "\n",
    "\\begin{equation}\n",
    "a + jb = R ( cos \\theta + j sin \\theta ) = Re^{j\\theta}\n",
    "\\end{equation}\n",
    "\n",
    "Write a ```PolarComplex``` class that has the following methods. There is no need to round any numerical values. \n",
    "\n",
    "- the ```__init__()``` method takes in two parameters, ```r``` and ```theta``` and initializes the instance attributes ```self._r``` and ```self._theta```. You can assume that ```r``` and ```theta``` are always numerical values. Note that ```theta``` is specified in radians. See Note 1 below.\n",
    "- ```get_modulus()``` instance method returns the value of ```self._r```\n",
    "- ```get_argument()``` instance method returns the value of ```self._theta```\n",
    "- ```get_real()``` instance method returns the value of the real part in the cartesian form\n",
    "- ```get_imaginary()``` instance method returns the value of the imaginary part in the cartesian form \n",
    "- ```get_cartesian_form()``` instance method returns the cartesian form, which is of datatype ```complex```. See Note 2 below. \n",
    "- ```get_polar_form_string()``` instance method returns the polar form in the form of a string formatted using the ```format``` method. In this form, the modulus and argument are displayed with three decimal places. The format of the string is <b><font color=\"blue\">[modulus]</font><font color=\"black\"></b>[space]<b>exp(</b>[space]<b>j*</b></font><b><font color=\"blue\">[argument]</font></b><font color=\"black\">[space]<b>)</font></b>. See test cases below for an example.\n",
    "\n",
    "\n",
    "Test Cases 1\n",
    "```python\n",
    "import math \n",
    "a = PolarComplex(5, math.pi/3)\n",
    "print(a.get_modulus())\n",
    "print(a.get_argument())\n",
    "print(a.get_real())\n",
    "print(a.get_imaginary())\n",
    "print(a.get_cartesian_form())\n",
    "```\n",
    "\n",
    "output:  \n",
    "\n",
    "```python\n",
    "5\n",
    "1.0471975511965976\n",
    "2.5000000000000004\n",
    "4.330127018922193\n",
    "(2.5000000000000004+4.330127018922193j)\n",
    "```\n",
    "\n",
    "Test Cases 2\n",
    "```python \n",
    "import math \n",
    "a = PolarComplex(5, math.pi/3)\n",
    "b = PolarComplex(10/3, math.pi/6)\n",
    "print(a.get_polar_form_string())\n",
    "print(b.get_polar_form_string())\n",
    "```\n",
    "\n",
    "output \n",
    "```python\n",
    "## If 0 < r < 10 and 0 < theta < 2pi, \n",
    "## each string below has length 20.\n",
    "5.000 exp( j*1.047 )\n",
    "3.333 exp( j*0.524 )\n",
    "```\n",
    "\n",
    "------\n",
    "> **Notes** \n",
    "> \n",
    "> 1. Prefixing instance variables with an underscore is a convention among python programmers. It tells users of your class that they should not access these variables directly. That is to say: \n",
    "> ```python\n",
    "> c = PolarComplex(2, 1)\n",
    "> ## DON'T DO THIS (even though you can) BECAUSE THESE ARE INTERNAL VARIABLES \n",
    "> print(c._r, c._theta) \n",
    "> ## You can do this, because I wrote these methods for you to call\n",
    "> print(c.get_modulus(), c.get_argument()) \n",
    "> ```\n",
    "> This is because, as a writer of this class, you may want to have instance variables that are used internally within your class i.e. \"private\" and shouldn't be accessed by whoever instantiates your class. \n",
    "> You'll certainly encounter this concept again in 10.020 Data-Driven World. \n",
    ">\n",
    "> 2. There are two ways of instantiating a ```complex``` class. You can write ```complex(1, 2)``` or write ```1 + 2*1j```. \n",
    "> \n",
    ">\n",
    "------"
   ]
  },
  {
   "cell_type": "code",
   "execution_count": 69,
   "metadata": {},
   "outputs": [
    {
     "name": "stdout",
     "output_type": "stream",
     "text": [
      "(2.5000000000000004+4.330127018922193j)\n",
      "5.000 exp( j*1.047 )\n",
      "3.333 exp( j*0.524 )\n"
     ]
    }
   ],
   "source": [
    "class PolarComplex:\n",
    "    \n",
    "    def __init__(self, r, theta):\n",
    "        r = self._r\n",
    "        theta = self._theta\n",
    "    \n",
    "    def get_modulus(self):\n",
    "        return self._r\n",
    "    \n",
    "    def get_argument(self):\n",
    "        return self._theta\n",
    "    \n",
    "    def get_real(self):\n",
    "        return self._r*math.cos(self._theta)\n",
    "    \n",
    "    def get_imaginary(self):\n",
    "        return self._r*math.sin(self._theta)\n",
    "    \n",
    "    def get_cartesian_form(self):\n",
    "        return complex(self.get_real(),self.get_imaginary())\n",
    "    \n",
    "    def get_polar_form_string(self):\n",
    "        printed_string = \"{} exp( j*{} )\".format('%.3f'% round(self.get_modulus(),3), '%.3f'% round(float(self.get_argument()),3))\n",
    "        return printed_string\n",
    "        \n",
    "    \n",
    "import math \n",
    "a = PolarComplex(5, math.pi/3)\n",
    "b = PolarComplex(10/3, math.pi/6)\n",
    "print(a.get_cartesian_form())\n",
    "print(a.get_polar_form_string())\n",
    "print(b.get_polar_form_string())"
   ]
  },
  {
   "cell_type": "code",
   "execution_count": 66,
   "metadata": {},
   "outputs": [
    {
     "name": "stdout",
     "output_type": "stream",
     "text": [
      "5.0\n"
     ]
    }
   ],
   "source": [
    "(%.3f % round(self.get_modulus(),3), %.3f % round(float(self.get_argument()),3))"
   ]
  },
  {
   "cell_type": "code",
   "execution_count": null,
   "metadata": {
    "deletable": false,
    "editable": false,
    "nbgrader": {
     "grade": true,
     "grade_id": "7.01test1",
     "locked": true,
     "points": "1",
     "solution": false
    }
   },
   "outputs": [],
   "source": [
    "###\n",
    "### AUTOGRADER TEST - DO NOT REMOVE\n",
    "###\n"
   ]
  },
  {
   "cell_type": "code",
   "execution_count": null,
   "metadata": {
    "deletable": false,
    "editable": false,
    "nbgrader": {
     "grade": true,
     "grade_id": "7.01test2",
     "locked": true,
     "points": "1",
     "solution": false
    }
   },
   "outputs": [],
   "source": [
    "###\n",
    "### AUTOGRADER TEST - DO NOT REMOVE\n",
    "###\n"
   ]
  },
  {
   "cell_type": "code",
   "execution_count": null,
   "metadata": {
    "deletable": false,
    "editable": false,
    "nbgrader": {
     "grade": true,
     "grade_id": "7.01test3",
     "locked": true,
     "points": "1",
     "solution": false
    }
   },
   "outputs": [],
   "source": [
    "###\n",
    "### AUTOGRADER TEST - DO NOT REMOVE\n",
    "###\n"
   ]
  },
  {
   "cell_type": "code",
   "execution_count": null,
   "metadata": {
    "deletable": false,
    "editable": false,
    "nbgrader": {
     "grade": true,
     "grade_id": "7.01test4",
     "locked": true,
     "points": "1",
     "solution": false
    }
   },
   "outputs": [],
   "source": [
    "###\n",
    "### AUTOGRADER TEST - DO NOT REMOVE\n",
    "###\n"
   ]
  },
  {
   "cell_type": "code",
   "execution_count": null,
   "metadata": {
    "deletable": false,
    "editable": false,
    "nbgrader": {
     "grade": true,
     "grade_id": "7.01test5",
     "locked": true,
     "points": "1",
     "solution": false
    }
   },
   "outputs": [],
   "source": [
    "###\n",
    "### AUTOGRADER TEST - DO NOT REMOVE\n",
    "###\n"
   ]
  },
  {
   "cell_type": "code",
   "execution_count": null,
   "metadata": {
    "deletable": false,
    "editable": false,
    "nbgrader": {
     "grade": true,
     "grade_id": "7.01test6",
     "locked": true,
     "points": "1",
     "solution": false
    }
   },
   "outputs": [],
   "source": [
    "###\n",
    "### AUTOGRADER TEST - DO NOT REMOVE\n",
    "###\n"
   ]
  }
 ],
 "metadata": {
  "colab": {
   "name": "Lesson 6.ipynb",
   "provenance": []
  },
  "kernelspec": {
   "display_name": "Python 3 (ipykernel)",
   "language": "python",
   "name": "python3"
  },
  "language_info": {
   "codemirror_mode": {
    "name": "ipython",
    "version": 3
   },
   "file_extension": ".py",
   "mimetype": "text/x-python",
   "name": "python",
   "nbconvert_exporter": "python",
   "pygments_lexer": "ipython3",
   "version": "3.9.6"
  }
 },
 "nbformat": 4,
 "nbformat_minor": 1
}
