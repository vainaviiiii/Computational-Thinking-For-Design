{
 "cells": [
  {
   "cell_type": "markdown",
   "metadata": {
    "colab_type": "text",
    "deletable": false,
    "editable": false,
    "id": "nzSs4TEJq25o",
    "nbgrader": {
     "grade": false,
     "locked": true,
     "solution": false
    }
   },
   "source": [
    "### 10.014 Computational Thinking For Design, Fall 2021\n",
    "\n",
    "## Problem Set 2A\n",
    "\n",
    "\n",
    "© Singapore University of Technology and Design, 2021 "
   ]
  },
  {
   "cell_type": "markdown",
   "metadata": {
    "deletable": false,
    "editable": false,
    "nbgrader": {
     "grade": false,
     "locked": true,
     "solution": false
    }
   },
   "source": [
    "### Lesson Materials For This Problem Set \n",
    "\n",
    "Materials for [Lesson 2](https://colab.research.google.com/drive/19jemS8AVKD7X6LrH9BiQ_cVEkQ9gYbzK?usp=sharing)"
   ]
  },
  {
   "cell_type": "markdown",
   "metadata": {
    "colab_type": "text",
    "deletable": false,
    "editable": false,
    "id": "uaem1eSJXqfq",
    "nbgrader": {
     "grade": false,
     "locked": true,
     "solution": false
    }
   },
   "source": [
    "### Problem 2.01 ```calculate_bmi( weight, height)```"
   ]
  },
  {
   "cell_type": "markdown",
   "metadata": {
    "colab_type": "text",
    "deletable": false,
    "editable": false,
    "id": "JjZgcXp4tV-_",
    "nbgrader": {
     "grade": false,
     "locked": true,
     "solution": false
    }
   },
   "source": [
    "\n",
    "This function takes in the ```weight``` in kilograms and ```height``` in centimetres, and returns the Body Mass Index (BMI), rounded to one decimal place. \n",
    "\n",
    "The BMI can be calculated by taking the weight in kilograms and dividing it by the square of the height in meters. \n",
    "\n",
    "You can assume that the height is never zero, and inputs to the function will always be ```int``` or ```float```. \n",
    "\n",
    "Use the ```round()``` function. \n",
    "\n",
    "Test cases: \n",
    "\n",
    "```python\n",
    "print ( calculate_bmi (2.5,50) )\n",
    "print ( calculate_bmi (50 ,150) )\n",
    "print ( calculate_bmi (43.5 ,142.3) )\n",
    "``` \n",
    "\n",
    "gives the following output: \n",
    "\n",
    "\n",
    "```python\n",
    "10.0\n",
    "22.2\n",
    "21.5\n",
    "```"
   ]
  },
  {
   "cell_type": "markdown",
   "metadata": {
    "deletable": false,
    "editable": false,
    "nbgrader": {
     "grade": false,
     "locked": true,
     "solution": false
    }
   },
   "source": [
    "#### Your solution: \n",
    "- Type your solution here by removing the comment statements starting with ```#```\n",
    "- With your cursor in the cell, press **CTRL+ENTER** to run the cell. Doing so puts the function in memory. \n",
    "- ```pass``` is a placeholder keyword that does nothing\n",
    "\n",
    "**Testing your function**\n",
    "- Some sample tests are given in the question. \n",
    "- To test that your function gives the correct output, put statements below your function to execute your function. \n",
    "- The sample tests given in the question are not meant to be exhaustive.\n",
    "- You have to read the requirements in the question, and write additional tests accordingly."
   ]
  },
  {
   "cell_type": "code",
   "execution_count": 1,
   "metadata": {},
   "outputs": [
    {
     "name": "stdout",
     "output_type": "stream",
     "text": [
      "10.0\n"
     ]
    }
   ],
   "source": [
    "def calculate_bmi( weight, height):\n",
    "    height = height/100\n",
    "    BMI = weight / (height**2)\n",
    "    return BMI\n",
    "\n",
    "### Add any additional print statements to test your function \n",
    "print(calculate_bmi(2.5, 50))"
   ]
  },
  {
   "cell_type": "markdown",
   "metadata": {
    "deletable": false,
    "editable": false,
    "nbgrader": {
     "grade": false,
     "locked": true,
     "solution": false
    }
   },
   "source": [
    "#### Hidden test cases\n",
    "- The test cases are hidden to prevent hardcoded solutions from being awarded points. \n",
    "- Passing these test cases awards you points for this question. \n",
    "- Click **SUBMIT** to run the hidden test cases for **all** the questions. \n",
    "- You should only click **SUBMIT** when you are ready to submit your answer for **all** questions. "
   ]
  },
  {
   "cell_type": "code",
   "execution_count": null,
   "metadata": {
    "deletable": false,
    "editable": false,
    "nbgrader": {
     "grade": true,
     "grade_id": "2.01test1",
     "locked": true,
     "points": "1",
     "solution": false
    }
   },
   "outputs": [],
   "source": [
    "###\n",
    "### AUTOGRADER TEST - DO NOT REMOVE\n",
    "###\n"
   ]
  },
  {
   "cell_type": "code",
   "execution_count": null,
   "metadata": {
    "collapsed": true,
    "deletable": false,
    "editable": false,
    "nbgrader": {
     "grade": true,
     "grade_id": "2.01test2",
     "locked": true,
     "points": "1",
     "solution": false
    }
   },
   "outputs": [],
   "source": [
    "###\n",
    "### AUTOGRADER TEST - DO NOT REMOVE\n",
    "###\n"
   ]
  },
  {
   "cell_type": "code",
   "execution_count": null,
   "metadata": {
    "collapsed": true,
    "deletable": false,
    "editable": false,
    "nbgrader": {
     "grade": true,
     "grade_id": "2.01test3",
     "locked": true,
     "points": "1",
     "solution": false
    }
   },
   "outputs": [],
   "source": [
    "###\n",
    "### AUTOGRADER TEST - DO NOT REMOVE\n",
    "###\n"
   ]
  },
  {
   "cell_type": "markdown",
   "metadata": {
    "colab_type": "text",
    "deletable": false,
    "editable": false,
    "id": "VxYK1mg4Xjwy",
    "nbgrader": {
     "grade": false,
     "locked": true,
     "solution": false
    }
   },
   "source": [
    "### Problem 2.02  ```position_velocity( vo, t)```"
   ]
  },
  {
   "cell_type": "markdown",
   "metadata": {
    "colab_type": "text",
    "deletable": false,
    "editable": false,
    "id": "56yQqxO8ttiT",
    "nbgrader": {
     "grade": false,
     "locked": true,
     "solution": false
    }
   },
   "source": [
    "At time $t$, the $y$-coordinate of an object in freefall launched with initial velocity $v_0$ is given by \n",
    "\n",
    "\\begin{equation}\n",
    "y(t) = v_0 t - \\frac{1}{2} gt^2\n",
    "\\end{equation}\n",
    "\n",
    "where $g = 9.81 m/s^2$. \n",
    "\n",
    "This function thus takes in the initial velocity ```vo``` and time ```t``` .\n",
    "\n",
    "It returns two values, $y(t)$, followed by $y'(t)$. Both values are rounded to **three** decimal places. \n",
    "\n",
    "$y'(t)$ is  the first derivative of $y(t)$ with respect to $t$. Use your knowledge of calculus and/or physics to derive its formula. \n",
    "\n",
    "You may assume that inputs to the function will always be type ```int``` or ```float```. \n",
    "\n",
    "---\n",
    "> #### Example \n",
    "> This is how a function can return two values. \n",
    "> The function is actually returning a datatype called a **tuple**, \n",
    "> however, you need not worry about this now. \n",
    "> ```python\n",
    "> def some_function():\n",
    ">     #code not shown\n",
    ">     return a, b\n",
    "> ```\n",
    "\n",
    "---\n",
    "\n",
    "\n",
    "Test cases: \n",
    "\n",
    "```python\n",
    "print(position_velocity(5.0, 0))\n",
    "print(position_velocity(10.0, 1))\n",
    "print(position_velocity(5.886, 0.3))\n",
    "```\n",
    "gives the following output\n",
    "\n",
    "```python\n",
    "(0.0, 5.0)\n",
    "(5.095, 0.19)\n",
    "(1.324, 2.943)\n",
    "```"
   ]
  },
  {
   "cell_type": "markdown",
   "metadata": {
    "deletable": false,
    "editable": false,
    "nbgrader": {
     "grade": false,
     "locked": true,
     "solution": false
    }
   },
   "source": [
    "#### Your solution below"
   ]
  },
  {
   "cell_type": "code",
   "execution_count": 5,
   "metadata": {},
   "outputs": [
    {
     "name": "stdout",
     "output_type": "stream",
     "text": [
      "(0.0, 5.0)\n"
     ]
    }
   ],
   "source": [
    "def position_velocity( vo, t):\n",
    "    g = 9.81\n",
    "    position = vo * t - 1/2*g*(t**2)\n",
    "    velocity = vo - g*t\n",
    "    return position, velocity \n",
    "\n",
    "### Add any additional print statements to test your function \n",
    "print(position_velocity(5.0, 0))"
   ]
  },
  {
   "cell_type": "markdown",
   "metadata": {
    "deletable": false,
    "editable": false,
    "nbgrader": {
     "grade": false,
     "locked": true,
     "solution": false
    }
   },
   "source": [
    "#### Hidden test cases"
   ]
  },
  {
   "cell_type": "code",
   "execution_count": null,
   "metadata": {
    "collapsed": true,
    "deletable": false,
    "editable": false,
    "nbgrader": {
     "grade": true,
     "grade_id": "2.02test1",
     "locked": true,
     "points": "1",
     "solution": false
    }
   },
   "outputs": [],
   "source": [
    "###\n",
    "### AUTOGRADER TEST - DO NOT REMOVE\n",
    "###\n"
   ]
  },
  {
   "cell_type": "code",
   "execution_count": null,
   "metadata": {
    "collapsed": true,
    "deletable": false,
    "editable": false,
    "nbgrader": {
     "grade": true,
     "grade_id": "2.02test2",
     "locked": true,
     "points": "1",
     "solution": false
    }
   },
   "outputs": [],
   "source": [
    "###\n",
    "### AUTOGRADER TEST - DO NOT REMOVE\n",
    "###\n"
   ]
  },
  {
   "cell_type": "code",
   "execution_count": null,
   "metadata": {
    "collapsed": true,
    "deletable": false,
    "editable": false,
    "nbgrader": {
     "grade": true,
     "grade_id": "2.02test3",
     "locked": true,
     "points": "1",
     "solution": false
    }
   },
   "outputs": [],
   "source": [
    "###\n",
    "### AUTOGRADER TEST - DO NOT REMOVE\n",
    "###\n"
   ]
  },
  {
   "cell_type": "markdown",
   "metadata": {
    "colab_type": "text",
    "deletable": false,
    "editable": false,
    "id": "xomG1XekXeqz",
    "nbgrader": {
     "grade": false,
     "locked": true,
     "solution": false
    }
   },
   "source": [
    "### Problem 2.03 ```decay(a, t)```"
   ]
  },
  {
   "cell_type": "markdown",
   "metadata": {
    "colab_type": "text",
    "deletable": false,
    "editable": false,
    "id": "3HfMoOYQ1tyx",
    "nbgrader": {
     "grade": false,
     "locked": true,
     "solution": false
    }
   },
   "source": [
    "An object is hung from a spring and made to oscillate. It also experiences some friction. \n",
    "\n",
    "Its displacement $x$ from the equilibrium position at time $t$ is given by the formula\n",
    "\n",
    "\\begin{equation}\n",
    "x = e^{-at} \\cos(at) \n",
    "\\end{equation}\n",
    "\n",
    "$a$ is a parameter that describes the motion. \n",
    "\n",
    "This function thus takes in ```a``` and ```t``` and returns the value of $x$ according to the formula above. There is no need to round the return value. \n",
    "\n",
    "Import the ```math``` module and use the necessary functions. \n",
    "\n",
    "Test cases: \n",
    "\n",
    "```python\n",
    "print ( decay(2, 0) )\n",
    "print ( decay(2, 0.5) )\n",
    "``` \n",
    "\n",
    "gives the following output: \n",
    "\n",
    "```python\n",
    "1.0\n",
    "0.19876611034641298\n",
    "```"
   ]
  },
  {
   "cell_type": "markdown",
   "metadata": {
    "deletable": false,
    "editable": false,
    "nbgrader": {
     "grade": false,
     "locked": true,
     "solution": false
    }
   },
   "source": [
    "#### Your solution: "
   ]
  },
  {
   "cell_type": "code",
   "execution_count": 9,
   "metadata": {},
   "outputs": [
    {
     "name": "stdout",
     "output_type": "stream",
     "text": [
      "1.0\n"
     ]
    }
   ],
   "source": [
    "### write code to import the math library \n",
    "from math import *\n",
    "\n",
    "def decay(a,t):\n",
    "    x = (e**(-a*t))*cos(a*t)\n",
    "    return x\n",
    "    \n",
    "print(decay(2, 0))\n",
    "\n",
    "### Add any additional print statements to test your function "
   ]
  },
  {
   "cell_type": "markdown",
   "metadata": {
    "deletable": false,
    "editable": false,
    "nbgrader": {
     "grade": false,
     "locked": true,
     "solution": false
    }
   },
   "source": [
    "#### Hidden test cases"
   ]
  },
  {
   "cell_type": "code",
   "execution_count": 10,
   "metadata": {
    "deletable": false,
    "editable": false,
    "nbgrader": {
     "grade": true,
     "grade_id": "2.03test1",
     "locked": true,
     "points": "1",
     "solution": false
    }
   },
   "outputs": [],
   "source": [
    "###\n",
    "### AUTOGRADER TEST - DO NOT REMOVE\n",
    "###\n"
   ]
  },
  {
   "cell_type": "code",
   "execution_count": null,
   "metadata": {
    "collapsed": true,
    "deletable": false,
    "editable": false,
    "nbgrader": {
     "grade": true,
     "grade_id": "2.03test2",
     "locked": true,
     "points": "1",
     "solution": false
    }
   },
   "outputs": [],
   "source": [
    "###\n",
    "### AUTOGRADER TEST - DO NOT REMOVE\n",
    "###\n"
   ]
  },
  {
   "cell_type": "code",
   "execution_count": null,
   "metadata": {
    "collapsed": true,
    "deletable": false,
    "editable": false,
    "nbgrader": {
     "grade": true,
     "grade_id": "2.03test3",
     "locked": true,
     "points": "1",
     "solution": false
    }
   },
   "outputs": [],
   "source": [
    "###\n",
    "### AUTOGRADER TEST - DO NOT REMOVE\n",
    "###\n"
   ]
  },
  {
   "cell_type": "markdown",
   "metadata": {
    "colab_type": "text",
    "deletable": false,
    "editable": false,
    "id": "zWhkDg0wXY-b",
    "nbgrader": {
     "grade": false,
     "locked": true,
     "solution": false
    }
   },
   "source": [
    "### Problem 2.04 ```describe_bmi( bmi )```"
   ]
  },
  {
   "cell_type": "markdown",
   "metadata": {
    "colab_type": "text",
    "deletable": false,
    "editable": false,
    "id": "5ECA4lHk2ggj",
    "nbgrader": {
     "grade": false,
     "locked": true,
     "solution": false
    }
   },
   "source": [
    "This function takes in a ```bmi``` value and returns a string. \n",
    "\n",
    "The string is the BMI classification according to the following rules: \n",
    "- BMI < 18.5: ```\"nutritional deficiency\"```\n",
    "- 18.5 ≤ BMI < 23: ```\"low risk\"```\n",
    "- 23 ≤ BMI < 27.5: ```\"moderate risk\"``` \n",
    "- BMI ≥ 27.5: ```\"high risk\"```\n",
    "\n",
    "You may assume that ```bmi``` is always positive. \n",
    "\n",
    "Test Cases:\n",
    "```python\n",
    "print(describe_bmi(18))\n",
    "print(describe_bmi(20)) \n",
    "print(describe_bmi(24))\n",
    "print(describe_bmi(27.5)) \n",
    "```\n",
    "results in the following output: \n",
    "```\n",
    "nutritional deficiency\n",
    "low risk\n",
    "moderate risk\n",
    "high risk\n",
    "```\n"
   ]
  },
  {
   "cell_type": "markdown",
   "metadata": {
    "deletable": false,
    "editable": false,
    "nbgrader": {
     "grade": false,
     "locked": true,
     "solution": false
    }
   },
   "source": [
    "#### Your solution: \n",
    "remember to add test cases to check for the boundary between the different conditions e.g. what should ```describe_bmi(23)``` give you? "
   ]
  },
  {
   "cell_type": "code",
   "execution_count": 18,
   "metadata": {},
   "outputs": [
    {
     "name": "stdout",
     "output_type": "stream",
     "text": [
      "moderate risk\n"
     ]
    }
   ],
   "source": [
    "def describe_bmi(bmi):\n",
    "    if(bmi<18.5):\n",
    "        return \"nutitional deficiency\"\n",
    "    elif(18.5<=bmi<23):\n",
    "        return \"low risk\"\n",
    "    elif(23<=bmi<27.5):\n",
    "        return \"moderate risk\"\n",
    "    elif(bmi>=27.5):\n",
    "        return \"high risk\"\n",
    "\n",
    "### Add any additional print statements to test your function \n",
    "print(describe_bmi(23))"
   ]
  },
  {
   "cell_type": "markdown",
   "metadata": {
    "deletable": false,
    "editable": false,
    "nbgrader": {
     "grade": false,
     "locked": true,
     "solution": false
    }
   },
   "source": [
    "#### Hidden test cases"
   ]
  },
  {
   "cell_type": "code",
   "execution_count": null,
   "metadata": {
    "collapsed": true,
    "deletable": false,
    "editable": false,
    "nbgrader": {
     "grade": true,
     "grade_id": "2.04test1",
     "locked": true,
     "points": "1",
     "solution": false
    }
   },
   "outputs": [],
   "source": [
    "###\n",
    "### AUTOGRADER TEST - DO NOT REMOVE\n",
    "###\n"
   ]
  },
  {
   "cell_type": "code",
   "execution_count": null,
   "metadata": {
    "collapsed": true,
    "deletable": false,
    "editable": false,
    "nbgrader": {
     "grade": true,
     "grade_id": "2.04test2",
     "locked": true,
     "points": "1",
     "solution": false
    }
   },
   "outputs": [],
   "source": [
    "###\n",
    "### AUTOGRADER TEST - DO NOT REMOVE\n",
    "###\n"
   ]
  },
  {
   "cell_type": "code",
   "execution_count": null,
   "metadata": {
    "collapsed": true,
    "deletable": false,
    "editable": false,
    "nbgrader": {
     "grade": true,
     "grade_id": "2.04test3",
     "locked": true,
     "points": "1",
     "solution": false
    }
   },
   "outputs": [],
   "source": [
    "###\n",
    "### AUTOGRADER TEST - DO NOT REMOVE\n",
    "###\n"
   ]
  },
  {
   "cell_type": "code",
   "execution_count": null,
   "metadata": {
    "collapsed": true,
    "deletable": false,
    "editable": false,
    "nbgrader": {
     "grade": true,
     "grade_id": "2.04test4",
     "locked": true,
     "points": "1",
     "solution": false
    }
   },
   "outputs": [],
   "source": [
    "###\n",
    "### AUTOGRADER TEST - DO NOT REMOVE\n",
    "###\n"
   ]
  },
  {
   "cell_type": "markdown",
   "metadata": {
    "colab_type": "text",
    "deletable": false,
    "editable": false,
    "id": "wF1ld2-SXRRi",
    "nbgrader": {
     "grade": false,
     "locked": true,
     "solution": false
    }
   },
   "source": [
    "### Problem 2.05 ```is_positive_even(n)```"
   ]
  },
  {
   "cell_type": "markdown",
   "metadata": {
    "colab_type": "text",
    "deletable": false,
    "editable": false,
    "id": "D-uwsSwp0OZy",
    "nbgrader": {
     "grade": false,
     "locked": true,
     "solution": false
    }
   },
   "source": [
    "This function returns ```True``` if ```n``` is a positive even number, and ```False``` otherwise. \n",
    "\n",
    "Note that ```True``` and ```False``` are boolean objects, not strings. \n",
    "\n",
    "You may assume that ```n``` will always be of type ```int```. \n",
    "\n",
    "---\n",
    "> #### CONSIDER:\n",
    ">\n",
    "> Do you need to write a set of if-else statements?\n",
    "\n",
    "---\n",
    "\n",
    "Test Cases: \n",
    "\n",
    "```python \n",
    "print(is_positive_even(-2))\n",
    "print(is_positive_even(2))\n",
    "print(is_positive_even(3))\n",
    "```\n",
    "gives the following output:\n",
    "\n",
    "```python\n",
    "False\n",
    "True\n",
    "False\n",
    "```"
   ]
  },
  {
   "cell_type": "markdown",
   "metadata": {
    "deletable": false,
    "editable": false,
    "nbgrader": {
     "grade": false,
     "locked": true,
     "solution": false
    }
   },
   "source": [
    "#### Your solution below"
   ]
  },
  {
   "cell_type": "code",
   "execution_count": 25,
   "metadata": {},
   "outputs": [
    {
     "name": "stdout",
     "output_type": "stream",
     "text": [
      "False\n"
     ]
    }
   ],
   "source": [
    "def is_positive_even(n):\n",
    "    if(n>0):\n",
    "        if(n%2==0):\n",
    "            return True\n",
    "        else:\n",
    "            return False\n",
    "    else:\n",
    "        return False\n",
    "print(is_positive_even(-2))"
   ]
  },
  {
   "cell_type": "markdown",
   "metadata": {
    "deletable": false,
    "editable": false,
    "nbgrader": {
     "grade": false,
     "locked": true,
     "solution": false
    }
   },
   "source": [
    "#### Hidden test cases"
   ]
  },
  {
   "cell_type": "code",
   "execution_count": null,
   "metadata": {
    "collapsed": true,
    "deletable": false,
    "editable": false,
    "nbgrader": {
     "grade": true,
     "grade_id": "2.05test1",
     "locked": true,
     "points": "1",
     "solution": false
    }
   },
   "outputs": [],
   "source": [
    "###\n",
    "### AUTOGRADER TEST - DO NOT REMOVE\n",
    "###\n"
   ]
  },
  {
   "cell_type": "code",
   "execution_count": null,
   "metadata": {
    "collapsed": true,
    "deletable": false,
    "editable": false,
    "nbgrader": {
     "grade": true,
     "grade_id": "2.05test2",
     "locked": true,
     "points": "1",
     "solution": false
    }
   },
   "outputs": [],
   "source": [
    "###\n",
    "### AUTOGRADER TEST - DO NOT REMOVE\n",
    "###\n"
   ]
  },
  {
   "cell_type": "code",
   "execution_count": null,
   "metadata": {
    "collapsed": true,
    "deletable": false,
    "editable": false,
    "nbgrader": {
     "grade": true,
     "grade_id": "2.05test3",
     "locked": true,
     "points": "1",
     "solution": false
    }
   },
   "outputs": [],
   "source": [
    "###\n",
    "### AUTOGRADER TEST - DO NOT REMOVE\n",
    "###\n"
   ]
  },
  {
   "cell_type": "markdown",
   "metadata": {
    "colab_type": "text",
    "deletable": false,
    "editable": false,
    "id": "x4dFny9LXL5y",
    "nbgrader": {
     "grade": false,
     "locked": true,
     "solution": false
    }
   },
   "source": [
    "### Problem 2.06 ```letter_grade( mark )```"
   ]
  },
  {
   "cell_type": "markdown",
   "metadata": {
    "colab_type": "text",
    "deletable": false,
    "editable": false,
    "id": "wQMhxC8eD4cM",
    "nbgrader": {
     "grade": false,
     "locked": true,
     "solution": false
    }
   },
   "source": [
    "\n",
    "\n",
    "The argument ```mark``` is an integer value representing a student's mark. \n",
    "\n",
    "The function returns the letter grade as a string, according to the table below. \n",
    "\n",
    "| Mark Range | Grade |\n",
    "|------------|-------|\n",
    "| 90 - 100   | A |\n",
    "| 80 - 89    | B |\n",
    "| 70 - 79    | C |\n",
    "| 60 - 69    | D |\n",
    "| 0 - 59 | E | \n",
    "\n",
    "If ```mark``` has a value that is outside of the range of this table, return ```None```. \n",
    "\n",
    "---\n",
    "\n",
    "> #### REMINDER\n",
    ">\n",
    "> The ```None``` keyword is a python keyword that is used to define a null value, and is a datatype on its own. \n",
    "\n",
    "---\n",
    "\n",
    "Test cases: \n",
    "\n",
    "```python\n",
    "print(letter_grade(102))\n",
    "print(letter_grade(100))\n",
    "print(letter_grade(83)) \n",
    "print(letter_grade(75))\n",
    "print(letter_grade(67))\n",
    "print(letter_grade(52))\n",
    "print(letter_grade(-2))\n",
    "```\n",
    "\n",
    "gives the following output:\n",
    "\n",
    "```python\n",
    "None\n",
    "A\n",
    "B\n",
    "C\n",
    "D\n",
    "E\n",
    "None\n",
    "```\n",
    "\n",
    "\n",
    "\n",
    "\n",
    "\n"
   ]
  },
  {
   "cell_type": "markdown",
   "metadata": {
    "deletable": false,
    "editable": false,
    "nbgrader": {
     "grade": false,
     "locked": true,
     "solution": false
    }
   },
   "source": [
    "#### Your solution: \n",
    "Don't forget to write your own test cases"
   ]
  },
  {
   "cell_type": "code",
   "execution_count": 31,
   "metadata": {},
   "outputs": [
    {
     "name": "stdout",
     "output_type": "stream",
     "text": [
      "B\n"
     ]
    }
   ],
   "source": [
    "def letter_grade(mark):\n",
    "    if (mark > 100 or mark < 0):\n",
    "        return None\n",
    "    elif (mark < 60):\n",
    "        return \"E\"\n",
    "    elif (mark < 70):\n",
    "        return \"D\"\n",
    "    elif (mark < 80):\n",
    "        return \"C\"\n",
    "    elif (mark < 90):\n",
    "        return \"B\"\n",
    "    else:\n",
    "        return \"A\"\n",
    "\n",
    "print(letter_grade(80))\n",
    "\n",
    "### Remember to make the grade that is going to displayed a \"str\" type!!!\n"
   ]
  },
  {
   "cell_type": "markdown",
   "metadata": {
    "deletable": false,
    "editable": false,
    "nbgrader": {
     "grade": false,
     "locked": true,
     "solution": false
    }
   },
   "source": [
    "#### Hidden test cases "
   ]
  },
  {
   "cell_type": "code",
   "execution_count": null,
   "metadata": {
    "deletable": false,
    "editable": false,
    "nbgrader": {
     "grade": true,
     "grade_id": "2.06test1",
     "locked": true,
     "points": "1",
     "solution": false
    }
   },
   "outputs": [],
   "source": [
    "###\n",
    "### AUTOGRADER TEST - DO NOT REMOVE\n",
    "###\n"
   ]
  },
  {
   "cell_type": "code",
   "execution_count": null,
   "metadata": {
    "collapsed": true,
    "deletable": false,
    "editable": false,
    "nbgrader": {
     "grade": true,
     "grade_id": "2.06test2",
     "locked": true,
     "points": "1",
     "solution": false
    }
   },
   "outputs": [],
   "source": [
    "###\n",
    "### AUTOGRADER TEST - DO NOT REMOVE\n",
    "###\n"
   ]
  },
  {
   "cell_type": "code",
   "execution_count": null,
   "metadata": {
    "collapsed": true,
    "deletable": false,
    "editable": false,
    "nbgrader": {
     "grade": true,
     "grade_id": "2.06test3",
     "locked": true,
     "points": "1",
     "solution": false
    }
   },
   "outputs": [],
   "source": [
    "###\n",
    "### AUTOGRADER TEST - DO NOT REMOVE\n",
    "###\n"
   ]
  },
  {
   "cell_type": "code",
   "execution_count": null,
   "metadata": {
    "deletable": false,
    "editable": false,
    "nbgrader": {
     "grade": true,
     "grade_id": "2.06test4 ",
     "locked": true,
     "points": "1",
     "solution": false
    }
   },
   "outputs": [],
   "source": [
    "###\n",
    "### AUTOGRADER TEST - DO NOT REMOVE\n",
    "###\n"
   ]
  },
  {
   "cell_type": "markdown",
   "metadata": {
    "colab_type": "text",
    "deletable": false,
    "editable": false,
    "id": "LfRxOCHwWkbN",
    "nbgrader": {
     "grade": false,
     "locked": true,
     "solution": false
    }
   },
   "source": [
    "### Problem 2.07 ```largest_area(s,u,v)```"
   ]
  },
  {
   "cell_type": "markdown",
   "metadata": {
    "colab_type": "text",
    "deletable": false,
    "editable": false,
    "id": "cl3jyIIhWz7L",
    "nbgrader": {
     "grade": false,
     "locked": true,
     "solution": false
    }
   },
   "source": [
    "A square piece of paper has side ```s```. You take a pencil and draw a line parallel to one edge at a distance ```u``` away. From the perpendicular edge, you draw another such line a distance ```v``` away. You then shade the largest area formed in this way.\n",
    "\n",
    "![paper](https://drive.google.com/uc?export=view&id=1aasE9uILluC1V9TyWhq7PLvYES1BZ5TE)\n",
    "\n",
    "The function ```largest_area``` returns this largest area. \n",
    "\n",
    "- If ```s```, ```u``` or ```v``` are negative, return ```None```.    \n",
    "- else if ```u``` or ```v``` are larger than ```s```, return ```None```. \n",
    "- else return the area of the largest area formed.   \n",
    "\n",
    "```python \n",
    "result = largest_area(10, 3, 4)\n",
    "print(result)\n",
    "result = largest_area(10, 11, 4)\n",
    "print(result)\n",
    "result = largest_area(-10, 3, 4)\n",
    "print(result)\n",
    "```\n",
    "```\n",
    "42\n",
    "None\n",
    "None\n",
    "```\n",
    "\n",
    "---\n",
    "\n",
    "**ATTENTION**\n",
    "\n",
    "Please give some thought to this question. \n",
    "\n",
    "Note that the largest square need not be the one shown in the diagram above.\n",
    "\n",
    "---\n",
    "\n",
    "*Acknowledgements: This problem is adapted from [Kattis]( https://open.kattis.com/problems/pieceofcake2)*"
   ]
  },
  {
   "cell_type": "markdown",
   "metadata": {
    "deletable": false,
    "editable": false,
    "nbgrader": {
     "grade": false,
     "locked": true,
     "solution": false
    }
   },
   "source": [
    "#### Your solution here:"
   ]
  },
  {
   "cell_type": "code",
   "execution_count": 35,
   "metadata": {
    "nbgrader": {
     "grade": false,
     "locked": false,
     "points": "1",
     "solution": false
    }
   },
   "outputs": [
    {
     "name": "stdout",
     "output_type": "stream",
     "text": [
      "42\n"
     ]
    }
   ],
   "source": [
    "def largest_area(s,u,v):\n",
    "    if (s < 0 or u < 0 or v < 0):\n",
    "        return None\n",
    "    elif (u > s or v > s):\n",
    "        return None\n",
    "    else:\n",
    "        area =(s-u)*(s-v)\n",
    "        return area\n",
    "    \n",
    "result = largest_area(10, 3, 4)\n",
    "print(result)\n",
    "    "
   ]
  },
  {
   "cell_type": "markdown",
   "metadata": {
    "deletable": false,
    "editable": false,
    "nbgrader": {
     "grade": false,
     "locked": true,
     "solution": false
    }
   },
   "source": [
    "#### Hidden test cases"
   ]
  },
  {
   "cell_type": "code",
   "execution_count": null,
   "metadata": {
    "deletable": false,
    "editable": false,
    "nbgrader": {
     "grade": true,
     "grade_id": "2.07test1",
     "locked": true,
     "points": "1",
     "solution": false
    }
   },
   "outputs": [],
   "source": [
    "###\n",
    "### AUTOGRADER TEST - DO NOT REMOVE\n",
    "###\n"
   ]
  },
  {
   "cell_type": "code",
   "execution_count": null,
   "metadata": {
    "deletable": false,
    "editable": false,
    "nbgrader": {
     "grade": true,
     "grade_id": "2.07test2",
     "locked": true,
     "points": "1",
     "solution": false
    }
   },
   "outputs": [],
   "source": [
    "###\n",
    "### AUTOGRADER TEST - DO NOT REMOVE\n",
    "###\n"
   ]
  },
  {
   "cell_type": "code",
   "execution_count": null,
   "metadata": {
    "deletable": false,
    "editable": false,
    "nbgrader": {
     "grade": true,
     "grade_id": "2.07test3",
     "locked": true,
     "points": "1",
     "solution": false
    }
   },
   "outputs": [],
   "source": [
    "###\n",
    "### AUTOGRADER TEST - DO NOT REMOVE\n",
    "###\n"
   ]
  },
  {
   "cell_type": "code",
   "execution_count": null,
   "metadata": {
    "deletable": false,
    "editable": false,
    "nbgrader": {
     "grade": true,
     "grade_id": "2.07test4",
     "locked": true,
     "points": "1",
     "solution": false
    }
   },
   "outputs": [],
   "source": [
    "###\n",
    "### AUTOGRADER TEST - DO NOT REMOVE\n",
    "###\n"
   ]
  },
  {
   "cell_type": "code",
   "execution_count": null,
   "metadata": {
    "deletable": false,
    "editable": false,
    "nbgrader": {
     "grade": true,
     "grade_id": "2.07test5",
     "locked": true,
     "points": "1",
     "solution": false
    }
   },
   "outputs": [],
   "source": [
    "###\n",
    "### AUTOGRADER TEST - DO NOT REMOVE\n",
    "###\n"
   ]
  },
  {
   "cell_type": "code",
   "execution_count": null,
   "metadata": {
    "deletable": false,
    "editable": false,
    "nbgrader": {
     "grade": true,
     "grade_id": "2.07test6",
     "locked": true,
     "points": "1",
     "solution": false
    }
   },
   "outputs": [],
   "source": [
    "###\n",
    "### AUTOGRADER TEST - DO NOT REMOVE\n",
    "###\n"
   ]
  },
  {
   "cell_type": "code",
   "execution_count": null,
   "metadata": {
    "deletable": false,
    "editable": false,
    "nbgrader": {
     "grade": true,
     "grade_id": "2.07test7",
     "locked": true,
     "points": "1",
     "solution": false
    }
   },
   "outputs": [],
   "source": [
    "###\n",
    "### AUTOGRADER TEST - DO NOT REMOVE\n",
    "###\n"
   ]
  }
 ],
 "metadata": {
  "colab": {
   "collapsed_sections": [
    "arNs5SvnU411",
    "eWLQYfgKMFqZ"
   ],
   "name": "Lesson 2.ipynb",
   "provenance": []
  },
  "kernelspec": {
   "display_name": "Python 3 (ipykernel)",
   "language": "python",
   "name": "python3"
  },
  "language_info": {
   "codemirror_mode": {
    "name": "ipython",
    "version": 3
   },
   "file_extension": ".py",
   "mimetype": "text/x-python",
   "name": "python",
   "nbconvert_exporter": "python",
   "pygments_lexer": "ipython3",
   "version": "3.9.6"
  }
 },
 "nbformat": 4,
 "nbformat_minor": 1
}
