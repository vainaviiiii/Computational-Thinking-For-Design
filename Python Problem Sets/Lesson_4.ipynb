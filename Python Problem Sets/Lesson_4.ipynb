{
 "cells": [
  {
   "cell_type": "markdown",
   "metadata": {
    "colab_type": "text",
    "deletable": false,
    "editable": false,
    "id": "e0ZPC4DjacRV",
    "nbgrader": {
     "grade": false,
     "locked": true,
     "solution": false
    }
   },
   "source": [
    "### 10.014 Computational Thinking For Design, Fall 2021\n",
    "\n",
    "## Problem Set 4\n",
    "\n",
    "© Singapore University of Technology and Design, 2021\n"
   ]
  },
  {
   "cell_type": "code",
   "execution_count": 80,
   "metadata": {},
   "outputs": [
    {
     "ename": "FileNotFoundError",
     "evalue": "[Errno 2] No such file or directory: 'mytextfile.txt'",
     "output_type": "error",
     "traceback": [
      "\u001b[1;31m---------------------------------------------------------------------------\u001b[0m",
      "\u001b[1;31mFileNotFoundError\u001b[0m                         Traceback (most recent call last)",
      "\u001b[1;32m~\\AppData\\Local\\Temp/ipykernel_2636/2433879383.py\u001b[0m in \u001b[0;36m<module>\u001b[1;34m\u001b[0m\n\u001b[0;32m      3\u001b[0m \u001b[1;33m\u001b[0m\u001b[0m\n\u001b[0;32m      4\u001b[0m \u001b[1;31m# 2. Open the file and assign it to variable f\u001b[0m\u001b[1;33m\u001b[0m\u001b[1;33m\u001b[0m\u001b[1;33m\u001b[0m\u001b[0m\n\u001b[1;32m----> 5\u001b[1;33m \u001b[1;32mwith\u001b[0m \u001b[0mopen\u001b[0m\u001b[1;33m(\u001b[0m\u001b[0mfilename\u001b[0m\u001b[1;33m)\u001b[0m \u001b[1;32mas\u001b[0m \u001b[0mf\u001b[0m\u001b[1;33m:\u001b[0m\u001b[1;33m\u001b[0m\u001b[1;33m\u001b[0m\u001b[0m\n\u001b[0m\u001b[0;32m      6\u001b[0m \u001b[1;33m\u001b[0m\u001b[0m\n\u001b[0;32m      7\u001b[0m \u001b[1;31m# 3. Access f and print out each line\u001b[0m\u001b[1;33m\u001b[0m\u001b[1;33m\u001b[0m\u001b[1;33m\u001b[0m\u001b[0m\n",
      "\u001b[1;31mFileNotFoundError\u001b[0m: [Errno 2] No such file or directory: 'mytextfile.txt'"
     ]
    }
   ],
   "source": [
    "# 1. Your filename is specified as a string\n",
    "filename = 'mytextfile.txt'\n",
    "\n",
    "# 2. Open the file and assign it to variable f\n",
    "with open(filename) as f: \n",
    "\n",
    "# 3. Access f and print out each line\n",
    "    for ss in f:\n",
    "        print(ss) #what data type is ss?"
   ]
  },
  {
   "cell_type": "markdown",
   "metadata": {},
   "source": [
    "### Lesson Materials For This Problem Set \n",
    "\n",
    "Materials for [Lesson 4](https://colab.research.google.com/drive/1jynmakc0g016LKMfzbuhmIM8k4CJ_EV2?usp=sharing)"
   ]
  },
  {
   "cell_type": "markdown",
   "metadata": {
    "colab_type": "text",
    "deletable": false,
    "editable": false,
    "id": "TPJXjFvN98c8",
    "nbgrader": {
     "grade": false,
     "locked": true,
     "solution": false
    }
   },
   "source": [
    "### Problem 4.00 ```bmi_information(weight, height)```"
   ]
  },
  {
   "cell_type": "markdown",
   "metadata": {
    "colab_type": "text",
    "deletable": false,
    "editable": false,
    "id": "-0l0cWIi-EH_",
    "nbgrader": {
     "grade": false,
     "locked": true,
     "solution": false
    }
   },
   "source": [
    "This function \n",
    "- takes in the weight in kg and height in cm of a person\n",
    "- calculates the BMI of the person\n",
    "- determines its risk category \n",
    "- returns a string that describes both information. \n",
    "\n",
    "Use the ```format()``` method of a string.\n",
    "\n",
    "You can reuse the functions ```calculate_bmi()``` and ```describe_bmi()``` in Problem Set 2.\n",
    "\n",
    "```python\n",
    "info = bmi_information( 70, 167) \n",
    "print(info)\n",
    "```\n",
    "```\n",
    "Your BMI is 25.1 and your category is moderate risk.\n",
    "```\n",
    "Please note that \n",
    "- the BMI is displayed to one decimal place \n",
    "- there is a full-stop at the end of the sentence.\n"
   ]
  },
  {
   "cell_type": "markdown",
   "metadata": {
    "deletable": false,
    "editable": false,
    "nbgrader": {
     "grade": false,
     "locked": true,
     "solution": false
    }
   },
   "source": [
    "#### Your solution here:\n",
    "\n",
    "Reminder: after writing your solution, don't forget to write code to execute the function and display its output"
   ]
  },
  {
   "cell_type": "code",
   "execution_count": 26,
   "metadata": {},
   "outputs": [
    {
     "name": "stdout",
     "output_type": "stream",
     "text": [
      "Your BMI is 10.0 and your category is nutitional deficiency.\n"
     ]
    }
   ],
   "source": [
    "def calculate_bmi( weight, height):\n",
    "    height = height/100\n",
    "    BMI = round(weight / (height**2), 1)\n",
    "    return BMI\n",
    "    \n",
    "def describe_bmi(bmi):\n",
    "    if(bmi<18.5):\n",
    "        description = \"nutitional deficiency\"\n",
    "        return description\n",
    "    elif(18.5<=bmi<23):\n",
    "        description = \"low risk\"\n",
    "        return description\n",
    "    elif(23<=bmi<27.5):\n",
    "        description = \"moderate risk\"\n",
    "        return description\n",
    "    elif(bmi>=27.5):\n",
    "        description = \"high risk\"\n",
    "        return description\n",
    "\n",
    "\n",
    "def bmi_information(weight, height):\n",
    "    bmi = calculate_bmi(weight, height)\n",
    "    description = describe_bmi(bmi)\n",
    "    info = \"Your BMI is {} and your category is {}.\". format (bmi, description)\n",
    "    return info\n",
    "    \n",
    "print(bmi_information(2.5, 50))"
   ]
  },
  {
   "cell_type": "code",
   "execution_count": 6,
   "metadata": {
    "deletable": false,
    "editable": false,
    "nbgrader": {
     "grade": true,
     "grade_id": "4.00test1",
     "locked": true,
     "points": "1",
     "solution": false
    }
   },
   "outputs": [],
   "source": [
    "###\n",
    "### AUTOGRADER TEST - DO NOT REMOVE\n",
    "###\n"
   ]
  },
  {
   "cell_type": "code",
   "execution_count": null,
   "metadata": {
    "collapsed": true,
    "deletable": false,
    "editable": false,
    "nbgrader": {
     "grade": true,
     "grade_id": "4.00test2",
     "locked": true,
     "points": "1",
     "solution": false
    }
   },
   "outputs": [],
   "source": [
    "###\n",
    "### AUTOGRADER TEST - DO NOT REMOVE\n",
    "###\n"
   ]
  },
  {
   "cell_type": "markdown",
   "metadata": {
    "colab_type": "text",
    "deletable": false,
    "editable": false,
    "id": "TWpZ6yP-aeWp",
    "nbgrader": {
     "grade": false,
     "locked": true,
     "solution": false
    }
   },
   "source": [
    "### Problem 4.01 ```reverse(s)```"
   ]
  },
  {
   "cell_type": "markdown",
   "metadata": {
    "colab_type": "text",
    "deletable": false,
    "editable": false,
    "id": "WJRKwPdKXTnU",
    "nbgrader": {
     "grade": false,
     "locked": true,
     "solution": false
    }
   },
   "source": [
    "This function takes in a string ```s```. \n",
    "\n",
    "It returns another string with the characters in reverse order. \n",
    "\n",
    "You should try two solutions, \n",
    "- one using loops\n",
    "- the other using slicing\n",
    "\n",
    "Test case: \n",
    "\n",
    "```python \n",
    "result = reverse('I choose you')\n",
    "print(result)\n",
    "```\n",
    "\n",
    "Output: \n",
    "```\n",
    "uoy esoohc I\n",
    "```\n",
    "\n",
    "\n"
   ]
  },
  {
   "cell_type": "markdown",
   "metadata": {},
   "source": [
    "#### Your solution here:"
   ]
  },
  {
   "cell_type": "code",
   "execution_count": 42,
   "metadata": {},
   "outputs": [
    {
     "name": "stdout",
     "output_type": "stream",
     "text": [
      "uoy esoohc I\n",
      "uoy esoohc I\n"
     ]
    }
   ],
   "source": [
    "def reverse(s):\n",
    "    new_string = s[::-1]\n",
    "    return new_string\n",
    "\n",
    "result = reverse('I choose you')\n",
    "print(result)\n",
    "\n",
    "def reverse(s):\n",
    "    n_str = \"\"\n",
    "    n=-1\n",
    "    for i in s:\n",
    "        add_alphabet = s[n]\n",
    "        n_str+=add_alphabet\n",
    "        n-=1\n",
    "    return n_str\n",
    "\n",
    "result = reverse('I choose you')\n",
    "print(result)"
   ]
  },
  {
   "cell_type": "code",
   "execution_count": null,
   "metadata": {
    "collapsed": true,
    "deletable": false,
    "editable": false,
    "nbgrader": {
     "grade": true,
     "grade_id": "4.01test2",
     "locked": true,
     "points": "1",
     "solution": false
    }
   },
   "outputs": [],
   "source": [
    "###\n",
    "### AUTOGRADER TEST - DO NOT REMOVE\n",
    "###\n"
   ]
  },
  {
   "cell_type": "code",
   "execution_count": null,
   "metadata": {
    "collapsed": true,
    "deletable": false,
    "editable": false,
    "nbgrader": {
     "grade": true,
     "grade_id": "4.01test1",
     "locked": true,
     "points": "1",
     "solution": false
    }
   },
   "outputs": [],
   "source": [
    "###\n",
    "### AUTOGRADER TEST - DO NOT REMOVE\n",
    "###\n"
   ]
  },
  {
   "cell_type": "markdown",
   "metadata": {
    "colab_type": "text",
    "deletable": false,
    "editable": false,
    "id": "pPte2RsKamqX",
    "nbgrader": {
     "grade": false,
     "locked": true,
     "solution": false
    }
   },
   "source": [
    "### Problem 4.02 ```is_palindrome(s)```"
   ]
  },
  {
   "cell_type": "markdown",
   "metadata": {
    "colab_type": "text",
    "deletable": false,
    "editable": false,
    "id": "LYeWDAb3YO5Z",
    "nbgrader": {
     "grade": false,
     "locked": true,
     "solution": false
    }
   },
   "source": [
    "This function takes in a string ```s```.\n",
    "\n",
    "If ```s``` is a palindrome, \n",
    "- it returns ```True```\n",
    "- else, it returns ```False``` \n",
    "\n",
    "\n",
    "You should try two solutions, \n",
    "- one using loops\n",
    "- the other using slicing \n",
    "\n",
    "Test case: \n",
    "\n",
    "```python\n",
    "result = is_palindrome('civic')\n",
    "print(result)\n",
    "result = is_palindrome('sonar')\n",
    "print(result)\n",
    "```\n",
    "\n",
    "Output:\n",
    "\n",
    "```\n",
    "True\n",
    "False\n",
    "```"
   ]
  },
  {
   "cell_type": "markdown",
   "metadata": {
    "deletable": false,
    "editable": false,
    "nbgrader": {
     "grade": false,
     "locked": true,
     "solution": false
    }
   },
   "source": [
    "#### Your solution here: "
   ]
  },
  {
   "cell_type": "code",
   "execution_count": 47,
   "metadata": {},
   "outputs": [
    {
     "name": "stdout",
     "output_type": "stream",
     "text": [
      "True\n",
      "False\n"
     ]
    }
   ],
   "source": [
    "def is_palindrome(s):\n",
    "    n_str = \"\"\n",
    "    n=-1\n",
    "    for i in s:\n",
    "        add_alphabet = s[n]\n",
    "        n_str+=add_alphabet\n",
    "        n-=1\n",
    "    if(n_str == s):\n",
    "        return True\n",
    "    else:\n",
    "        return False\n",
    "\n",
    "result = is_palindrome('civic')\n",
    "print(result)\n",
    "result = is_palindrome('sonar')\n",
    "print(result)"
   ]
  },
  {
   "cell_type": "code",
   "execution_count": null,
   "metadata": {
    "collapsed": true,
    "deletable": false,
    "editable": false,
    "nbgrader": {
     "grade": true,
     "grade_id": "4.02test1",
     "locked": true,
     "points": "1",
     "solution": false
    }
   },
   "outputs": [],
   "source": [
    "###\n",
    "### AUTOGRADER TEST - DO NOT REMOVE\n",
    "###\n"
   ]
  },
  {
   "cell_type": "code",
   "execution_count": null,
   "metadata": {
    "collapsed": true,
    "deletable": false,
    "editable": false,
    "nbgrader": {
     "grade": true,
     "grade_id": "4.02test2",
     "locked": true,
     "points": "1",
     "solution": false
    }
   },
   "outputs": [],
   "source": [
    "###\n",
    "### AUTOGRADER TEST - DO NOT REMOVE\n",
    "###\n"
   ]
  },
  {
   "cell_type": "code",
   "execution_count": null,
   "metadata": {
    "collapsed": true,
    "deletable": false,
    "editable": false,
    "nbgrader": {
     "grade": true,
     "grade_id": "4.02test3",
     "locked": true,
     "points": "1",
     "solution": false
    }
   },
   "outputs": [],
   "source": [
    "###\n",
    "### AUTOGRADER TEST - DO NOT REMOVE\n",
    "###\n"
   ]
  },
  {
   "cell_type": "markdown",
   "metadata": {
    "colab_type": "text",
    "deletable": false,
    "editable": false,
    "id": "LxOe2_Vvayzw",
    "nbgrader": {
     "grade": false,
     "locked": true,
     "solution": false
    }
   },
   "source": [
    "### Problem 4.03 ```match(a,b)```"
   ]
  },
  {
   "cell_type": "markdown",
   "metadata": {
    "colab_type": "text",
    "deletable": false,
    "editable": false,
    "id": "rJnPbh8dofSS",
    "nbgrader": {
     "grade": false,
     "locked": true,
     "solution": false
    }
   },
   "source": [
    "This function takes in two strings, ```a``` and ```b```. \n",
    "\n",
    "Both are never empty and both are always lowercase.\n",
    "\n",
    "String ```a``` is typically a few characters and string ```b``` is a word.\n",
    "\n",
    "If the characters at the end of ```b``` matches ```a```, \n",
    "- return ```True```, \n",
    "- otherwise, return ```False```. \n",
    "\n",
    "One way to solve this problem is to \n",
    "- obtain the length of ```a```\n",
    "- use this length to slice ```b``` at its end\n",
    "- now that you have ```a``` and the slice of ```b```, you are ready to compare them. \n",
    "\n",
    "Test cases: \n",
    "```python\n",
    "ending = 'nus'\n",
    "word = 'parvenus' \n",
    "result = match(ending, word)\n",
    "print(result)\n",
    "\n",
    "ending = 'nus'\n",
    "word = 'aviatrix'\n",
    "result = match(ending, word)\n",
    "print(result)\n",
    "\n",
    "ending = 'lar'\n",
    "word = 'agricolarum'\n",
    "result = match(ending, word)\n",
    "print(result)\n",
    "```\n",
    "\n",
    "the output is\n",
    "\n",
    "```\n",
    "True\n",
    "False\n",
    "False\n",
    "```\n",
    "\n"
   ]
  },
  {
   "cell_type": "markdown",
   "metadata": {
    "deletable": false,
    "editable": false,
    "nbgrader": {
     "grade": false,
     "locked": true,
     "solution": false
    }
   },
   "source": [
    "#### Your solution here:"
   ]
  },
  {
   "cell_type": "code",
   "execution_count": 53,
   "metadata": {},
   "outputs": [
    {
     "name": "stdout",
     "output_type": "stream",
     "text": [
      "True\n",
      "False\n",
      "False\n"
     ]
    }
   ],
   "source": [
    "def match(ending, word):\n",
    "    length_of_ending = len(ending)\n",
    "    ending_of_word = word[-length_of_ending:] \n",
    "    if(ending == ending_of_word):\n",
    "        return True\n",
    "    else:\n",
    "        return False\n",
    "    \n",
    "\n",
    "\n",
    "ending = 'nus'\n",
    "word = 'parvenus' \n",
    "result = match(ending, word)\n",
    "print(result)\n",
    "\n",
    "ending = 'nus'\n",
    "word = 'aviatrix'\n",
    "result = match(ending, word)\n",
    "print(result)\n",
    "\n",
    "ending = 'lar'\n",
    "word = 'agricolarum'\n",
    "result = match(ending, word)\n",
    "print(result)"
   ]
  },
  {
   "cell_type": "code",
   "execution_count": null,
   "metadata": {
    "collapsed": true,
    "deletable": false,
    "editable": false,
    "nbgrader": {
     "grade": true,
     "grade_id": "4.03test1",
     "locked": true,
     "points": "1",
     "solution": false
    }
   },
   "outputs": [],
   "source": [
    "###\n",
    "### AUTOGRADER TEST - DO NOT REMOVE\n",
    "###\n"
   ]
  },
  {
   "cell_type": "code",
   "execution_count": null,
   "metadata": {
    "collapsed": true,
    "deletable": false,
    "editable": false,
    "nbgrader": {
     "grade": true,
     "grade_id": "4.03test2",
     "locked": true,
     "points": "1",
     "solution": false
    }
   },
   "outputs": [],
   "source": [
    "###\n",
    "### AUTOGRADER TEST - DO NOT REMOVE\n",
    "###\n"
   ]
  },
  {
   "cell_type": "code",
   "execution_count": null,
   "metadata": {
    "collapsed": true,
    "deletable": false,
    "editable": false,
    "nbgrader": {
     "grade": true,
     "grade_id": "4.03test3",
     "locked": true,
     "points": "1",
     "solution": false
    }
   },
   "outputs": [],
   "source": [
    "###\n",
    "### AUTOGRADER TEST - DO NOT REMOVE\n",
    "###\n"
   ]
  },
  {
   "cell_type": "code",
   "execution_count": null,
   "metadata": {
    "deletable": false,
    "editable": false,
    "nbgrader": {
     "grade": true,
     "grade_id": "4.03test4",
     "locked": true,
     "points": "1",
     "solution": false
    }
   },
   "outputs": [],
   "source": [
    "###\n",
    "### AUTOGRADER TEST - DO NOT REMOVE\n",
    "###\n"
   ]
  },
  {
   "cell_type": "markdown",
   "metadata": {},
   "source": [
    "### Problem 4.04 has been deleted."
   ]
  },
  {
   "cell_type": "markdown",
   "metadata": {
    "colab_type": "text",
    "id": "YVz2wJBRQnBg"
   },
   "source": [
    "### Problem 4.05 ```check_password(pwd)```"
   ]
  },
  {
   "cell_type": "markdown",
   "metadata": {
    "colab_type": "text",
    "id": "6Bd8oV_bbwkC"
   },
   "source": [
    "This function checks whether the string ```pwd``` is a valid password. \n",
    "\n",
    "The rules are \n",
    "- a password must have at least 8 characters\n",
    "- a password must consist of only letters and digits\n",
    "- a password must contain at least two digits\n",
    "\n",
    "```python\n",
    "ans = check_password('test') \n",
    "print(ans)\n",
    "ans=check_password('testtest') \n",
    "print(ans)\n",
    "ans=check_password('testt22') \n",
    "print(ans)\n",
    "ans=check_password('testte22') \n",
    "print(ans)\n",
    "```\n",
    "```\n",
    "False\n",
    "False\n",
    "False\n",
    "True\n",
    "```\n"
   ]
  },
  {
   "cell_type": "markdown",
   "metadata": {
    "deletable": false,
    "editable": false,
    "nbgrader": {
     "grade": false,
     "locked": true,
     "solution": false
    }
   },
   "source": [
    "#### your solution here:"
   ]
  },
  {
   "cell_type": "code",
   "execution_count": 9,
   "metadata": {},
   "outputs": [
    {
     "name": "stdout",
     "output_type": "stream",
     "text": [
      "False\n",
      "False\n",
      "False\n",
      "True\n"
     ]
    }
   ],
   "source": [
    "            \n",
    "\"\"\" Shelen's Ans:\n",
    "ans = check_password('test') \n",
    "print(ans)\n",
    "ans=check_password('testtest') \n",
    "print(ans) \n",
    "ans=check_password('testt22') \n",
    "print(ans)\n",
    "ans=check_password('testte22') \n",
    "print(ans)\n",
    "\n",
    "def check_password(pwd):\n",
    "    length = len(pwd)\n",
    "    a = pwd.isalnum()\n",
    "    if (length >= 8 and a):\n",
    "        x = 0\n",
    "        for i in pwd:\n",
    "            if(i.isdigit()):\n",
    "                x = x + 1\n",
    "        if(x>=2):\n",
    "            return True\n",
    "        return False\n",
    "    else:\n",
    "        return False\"\"\"\n",
    "\n",
    "def check_password(pwd):\n",
    "    if(len(pwd)<8):\n",
    "        return False\n",
    "    \n",
    "    elif not pwd.isalnum():\n",
    "        return False\n",
    "    \n",
    "    ls=[]\n",
    "    for i in pwd:\n",
    "        if (i.isdigit()):\n",
    "            ls.append(i)\n",
    "            if len(ls):\n",
    "                return True\n",
    "    \n",
    "    else:\n",
    "        return False\n",
    "\n",
    "ans = check_password('test') \n",
    "print(ans)\n",
    "ans=check_password('testtest') \n",
    "print(ans)\n",
    "ans=check_password('testt22') \n",
    "print(ans)\n",
    "ans=check_password('testte22') \n",
    "print(ans)"
   ]
  },
  {
   "cell_type": "code",
   "execution_count": 86,
   "metadata": {
    "deletable": false,
    "editable": false,
    "nbgrader": {
     "grade": true,
     "grade_id": "4.05test1",
     "locked": true,
     "points": "1",
     "solution": false
    }
   },
   "outputs": [],
   "source": [
    "###\n",
    "### AUTOGRADER TEST - DO NOT REMOVE\n",
    "###\n"
   ]
  },
  {
   "cell_type": "code",
   "execution_count": null,
   "metadata": {
    "collapsed": true,
    "deletable": false,
    "editable": false,
    "nbgrader": {
     "grade": true,
     "grade_id": "4.05test2",
     "locked": true,
     "points": "1",
     "solution": false
    }
   },
   "outputs": [],
   "source": [
    "###\n",
    "### AUTOGRADER TEST - DO NOT REMOVE\n",
    "###\n"
   ]
  },
  {
   "cell_type": "code",
   "execution_count": null,
   "metadata": {
    "collapsed": true,
    "deletable": false,
    "editable": false,
    "nbgrader": {
     "grade": true,
     "grade_id": "4.05test3",
     "locked": true,
     "points": "1",
     "solution": false
    }
   },
   "outputs": [],
   "source": [
    "###\n",
    "### AUTOGRADER TEST - DO NOT REMOVE\n",
    "###\n"
   ]
  },
  {
   "cell_type": "code",
   "execution_count": null,
   "metadata": {
    "collapsed": true,
    "deletable": false,
    "editable": false,
    "nbgrader": {
     "grade": true,
     "grade_id": "4.05test4",
     "locked": true,
     "points": "1",
     "solution": false
    }
   },
   "outputs": [],
   "source": [
    "###\n",
    "### AUTOGRADER TEST - DO NOT REMOVE\n",
    "###\n"
   ]
  },
  {
   "cell_type": "code",
   "execution_count": null,
   "metadata": {
    "collapsed": true,
    "deletable": false,
    "editable": false,
    "nbgrader": {
     "grade": true,
     "grade_id": "4.05test5",
     "locked": true,
     "points": "1",
     "solution": false
    }
   },
   "outputs": [],
   "source": [
    "###\n",
    "### AUTOGRADER TEST - DO NOT REMOVE\n",
    "###\n"
   ]
  },
  {
   "cell_type": "markdown",
   "metadata": {
    "colab_type": "text",
    "deletable": false,
    "editable": false,
    "id": "Nk9P0hkgQwzh",
    "nbgrader": {
     "grade": false,
     "locked": true,
     "solution": false
    }
   },
   "source": [
    "### Problem 4.06 ```longest_common_prefix(s1, s2)```"
   ]
  },
  {
   "cell_type": "markdown",
   "metadata": {
    "colab_type": "text",
    "deletable": false,
    "editable": false,
    "id": "a0OmGWgEQ2lg",
    "nbgrader": {
     "grade": false,
     "locked": true,
     "solution": false
    }
   },
   "source": [
    "This function takes in two strings and returns their longest prefix. \n",
    "\n",
    "For example, the longest common prefix of ```distance``` and ```disinfection``` is ```dis```. \n",
    "\n",
    "If the two strings have no common longest common prefix, the method returns an empty string.\n",
    "\n",
    "Either or both of the strings may be empty, in which case, there is no common prefix as well.\n",
    "\n",
    "```python\n",
    "ans=longest_common_prefix('distance','disinfection') \n",
    "print(ans)\n",
    "ans=longest_common_prefix('testing','technical') \n",
    "print(ans)\n",
    "ans=longest_common_prefix('rosses','crosses') \n",
    "print(ans)\n",
    "```\n",
    "```\n",
    "dis\n",
    "te\n",
    "\n",
    "```\n",
    "\n",
    "\n",
    "\n"
   ]
  },
  {
   "cell_type": "markdown",
   "metadata": {
    "deletable": false,
    "editable": false,
    "nbgrader": {
     "grade": false,
     "locked": true,
     "solution": false
    }
   },
   "source": [
    "#### Your solution here:"
   ]
  },
  {
   "cell_type": "code",
   "execution_count": 23,
   "metadata": {
    "scrolled": true
   },
   "outputs": [
    {
     "name": "stdout",
     "output_type": "stream",
     "text": [
      "dis\n",
      "---\n",
      "te\n",
      "---\n",
      "\n"
     ]
    }
   ],
   "source": [
    "\"\"\"  Shelen's Ans:\n",
    "def longest_common_prefix(s1, s2):\n",
    "    if(s1[0:3] == s2[0:3]):\n",
    "        return s1[0:3]\n",
    "    elif(s1[0:2] == s2[0:2]):\n",
    "        return s1[0:2]\n",
    "    else:\n",
    "        return\"\"\n",
    "        \n",
    "        \n",
    "\n",
    "ans=longest_common_prefix('distance','disinfection') \n",
    "print(ans)\n",
    "ans=longest_common_prefix('testing','technical') \n",
    "print(ans)\n",
    "ans=longest_common_prefix('rosses','crosses') \n",
    "print(ans)\"\"\"\n",
    "\n",
    "\n",
    "def get_base_counts(dna):\n",
    "    for i in range(len(dna)):\n",
    "        if(dna[i] != 'A' and dna[i] != 'C' and dna[i] != 'G' and dna[i] != 'T'):\n",
    "            return []\n",
    "        elif(len(dna)<1):\n",
    "            return []\n",
    "    else:\n",
    "        return [dna.count('A'), dna.count('C'), dna.count('G'), dna.count('T')]\n",
    "\n",
    "result = get_base_counts('AACCCGT')\n",
    "print(result)\n",
    "result = get_base_counts('AACCG')\n",
    "print(result)\n",
    "result = get_base_counts('AAB')\n",
    "print(result)"
   ]
  },
  {
   "cell_type": "code",
   "execution_count": 11,
   "metadata": {
    "deletable": false,
    "editable": false,
    "nbgrader": {
     "grade": true,
     "grade_id": "4.06test1",
     "locked": true,
     "points": "1",
     "solution": false
    }
   },
   "outputs": [],
   "source": [
    "###\n",
    "### AUTOGRADER TEST - DO NOT REMOVE\n",
    "###\n"
   ]
  },
  {
   "cell_type": "code",
   "execution_count": null,
   "metadata": {
    "collapsed": true,
    "deletable": false,
    "editable": false,
    "nbgrader": {
     "grade": true,
     "grade_id": "4.06test2",
     "locked": true,
     "points": "1",
     "solution": false
    }
   },
   "outputs": [],
   "source": [
    "###\n",
    "### AUTOGRADER TEST - DO NOT REMOVE\n",
    "###\n"
   ]
  },
  {
   "cell_type": "code",
   "execution_count": null,
   "metadata": {
    "collapsed": true,
    "deletable": false,
    "editable": false,
    "nbgrader": {
     "grade": true,
     "grade_id": "4.06test3",
     "locked": true,
     "points": "1",
     "solution": false
    }
   },
   "outputs": [],
   "source": [
    "###\n",
    "### AUTOGRADER TEST - DO NOT REMOVE\n",
    "###\n"
   ]
  },
  {
   "cell_type": "code",
   "execution_count": null,
   "metadata": {
    "collapsed": true,
    "deletable": false,
    "editable": false,
    "nbgrader": {
     "grade": true,
     "grade_id": "4.06test4",
     "locked": true,
     "points": "1",
     "solution": false
    }
   },
   "outputs": [],
   "source": [
    "###\n",
    "### AUTOGRADER TEST - DO NOT REMOVE\n",
    "###\n"
   ]
  },
  {
   "cell_type": "markdown",
   "metadata": {
    "colab_type": "text",
    "deletable": false,
    "editable": false,
    "id": "fnFWXVGHQd07",
    "nbgrader": {
     "grade": false,
     "locked": true,
     "solution": false
    }
   },
   "source": [
    "### Problem 4.07 ```binary_to_decimal(s)```"
   ]
  },
  {
   "cell_type": "markdown",
   "metadata": {
    "colab_type": "text",
    "deletable": false,
    "editable": false,
    "id": "n8qa0aSgY7QJ",
    "nbgrader": {
     "grade": false,
     "locked": true,
     "solution": false
    }
   },
   "source": [
    "This function takes in a string that represents a binary number. \n",
    "\n",
    "It returns the decimal equivalent as an integer. \n",
    "\n",
    "You may assume that \n",
    "- the string will not be empty\n",
    "- the string will contain only ```1``` and ```0```\n",
    "\n",
    "\n",
    "```python \n",
    "print(binary_to_decimal('100'))  \n",
    "print(binary_to_decimal('101'))  \n",
    "print(binary_to_decimal('10001'))  \n",
    "print(binary_to_decimal('10101'))  \n",
    "```\n",
    "\n",
    "```python \n",
    "4\n",
    "5\n",
    "17\n",
    "21\n",
    "```"
   ]
  },
  {
   "cell_type": "code",
   "execution_count": 29,
   "metadata": {},
   "outputs": [
    {
     "name": "stdout",
     "output_type": "stream",
     "text": [
      "4\n",
      "5\n",
      "17\n",
      "21\n"
     ]
    }
   ],
   "source": [
    "def binary_to_decimal(s):\n",
    "    return int(s, 2)\n",
    "\n",
    "print(binary_to_decimal('100'))  \n",
    "print(binary_to_decimal('101'))  \n",
    "print(binary_to_decimal('10001'))  \n",
    "print(binary_to_decimal('10101'))"
   ]
  },
  {
   "cell_type": "code",
   "execution_count": null,
   "metadata": {
    "collapsed": true,
    "deletable": false,
    "editable": false,
    "nbgrader": {
     "grade": true,
     "grade_id": "4.07test1",
     "locked": true,
     "points": "1",
     "solution": false
    }
   },
   "outputs": [],
   "source": [
    "###\n",
    "### AUTOGRADER TEST - DO NOT REMOVE\n",
    "###\n"
   ]
  },
  {
   "cell_type": "code",
   "execution_count": null,
   "metadata": {
    "collapsed": true,
    "deletable": false,
    "editable": false,
    "nbgrader": {
     "grade": true,
     "grade_id": "4.07test2",
     "locked": true,
     "points": "1",
     "solution": false
    }
   },
   "outputs": [],
   "source": [
    "###\n",
    "### AUTOGRADER TEST - DO NOT REMOVE\n",
    "###\n"
   ]
  },
  {
   "cell_type": "code",
   "execution_count": null,
   "metadata": {
    "collapsed": true,
    "deletable": false,
    "editable": false,
    "nbgrader": {
     "grade": true,
     "grade_id": "4.07test3",
     "locked": true,
     "points": "1",
     "solution": false
    }
   },
   "outputs": [],
   "source": [
    "###\n",
    "### AUTOGRADER TEST - DO NOT REMOVE\n",
    "###\n"
   ]
  },
  {
   "cell_type": "code",
   "execution_count": null,
   "metadata": {
    "collapsed": true,
    "deletable": false,
    "editable": false,
    "nbgrader": {
     "grade": true,
     "grade_id": "4.07test4",
     "locked": true,
     "points": "1",
     "solution": false
    }
   },
   "outputs": [],
   "source": [
    "###\n",
    "### AUTOGRADER TEST - DO NOT REMOVE\n",
    "###\n"
   ]
  },
  {
   "cell_type": "markdown",
   "metadata": {
    "colab_type": "text",
    "deletable": false,
    "editable": false,
    "id": "nN96ZW_ITfKS",
    "nbgrader": {
     "grade": false,
     "locked": true,
     "solution": false
    }
   },
   "source": [
    "### Problem 4.08 ```uncompressed(s)```"
   ]
  },
  {
   "cell_type": "markdown",
   "metadata": {
    "colab_type": "text",
    "deletable": false,
    "editable": false,
    "id": "-lfK6kpUSiOh",
    "nbgrader": {
     "grade": false,
     "locked": true,
     "solution": false
    }
   },
   "source": [
    "This function takes in a string that is encoded and decodes it.\n",
    "\n",
    "The string is encoded using what is known as **run-length encoding**: \n",
    "- Each alphabetic character is preceded by a single digit. \n",
    "- This indicates the number of times that the character is repeated. \n",
    "\n",
    "For example, \n",
    "- decoding ```1x1y``` gives ```xy```\n",
    "- decoding ```2a5b1c``` gives ```aabbbbbc```\n",
    "- decoding ```1a1b2c``` gives ```abcc```\n",
    "- decoding ```1a9b3b1c``` gives ```abbbbbbbbbbbbc```"
   ]
  },
  {
   "cell_type": "code",
   "execution_count": 38,
   "metadata": {},
   "outputs": [
    {
     "name": "stdout",
     "output_type": "stream",
     "text": [
      "['this', 'place', 'is', 'awesome']\n"
     ]
    }
   ],
   "source": [
    "s = \"   This Place Is Awesome   \"\n",
    "s = s.lower().split()\n",
    "\n",
    "print(s)"
   ]
  },
  {
   "cell_type": "markdown",
   "metadata": {
    "deletable": false,
    "editable": false,
    "nbgrader": {
     "grade": false,
     "locked": true,
     "solution": false
    }
   },
   "source": [
    "#### Your solution here: "
   ]
  },
  {
   "cell_type": "code",
   "execution_count": 39,
   "metadata": {},
   "outputs": [
    {
     "name": "stdout",
     "output_type": "stream",
     "text": [
      "xy\n"
     ]
    }
   ],
   "source": [
    "def uncompressed(s):\n",
    "    output=\"\"\n",
    "    num=\"\"\n",
    "    for i in s:\n",
    "        if i.isalpha():\n",
    "            output+=i*int(num)\n",
    "            num=\"\"\n",
    "        else:\n",
    "            num+=i\n",
    "    return output\n",
    "\n",
    "do = uncompressed(\"1x1y\")\n",
    "print(do)"
   ]
  },
  {
   "cell_type": "code",
   "execution_count": null,
   "metadata": {
    "collapsed": true,
    "deletable": false,
    "editable": false,
    "nbgrader": {
     "grade": true,
     "grade_id": "4.08test1",
     "locked": true,
     "points": "1",
     "solution": false
    }
   },
   "outputs": [],
   "source": [
    "###\n",
    "### AUTOGRADER TEST - DO NOT REMOVE\n",
    "###\n"
   ]
  },
  {
   "cell_type": "code",
   "execution_count": null,
   "metadata": {
    "collapsed": true,
    "deletable": false,
    "editable": false,
    "nbgrader": {
     "grade": true,
     "grade_id": "4.08test2",
     "locked": true,
     "points": "1",
     "solution": false
    }
   },
   "outputs": [],
   "source": [
    "###\n",
    "### AUTOGRADER TEST - DO NOT REMOVE\n",
    "###\n"
   ]
  },
  {
   "cell_type": "code",
   "execution_count": null,
   "metadata": {
    "collapsed": true,
    "deletable": false,
    "editable": false,
    "nbgrader": {
     "grade": true,
     "grade_id": "4.08test3",
     "locked": true,
     "points": "1",
     "solution": false
    }
   },
   "outputs": [],
   "source": [
    "###\n",
    "### AUTOGRADER TEST - DO NOT REMOVE\n",
    "###\n"
   ]
  },
  {
   "cell_type": "code",
   "execution_count": null,
   "metadata": {
    "collapsed": true,
    "deletable": false,
    "editable": false,
    "nbgrader": {
     "grade": true,
     "grade_id": "4.08test4",
     "locked": true,
     "points": "1",
     "solution": false
    }
   },
   "outputs": [],
   "source": [
    "###\n",
    "### AUTOGRADER TEST - DO NOT REMOVE\n",
    "###\n"
   ]
  },
  {
   "cell_type": "markdown",
   "metadata": {
    "colab_type": "text",
    "deletable": false,
    "editable": false,
    "id": "PnZGoROcVxzM",
    "nbgrader": {
     "grade": false,
     "locked": true,
     "solution": false
    }
   },
   "source": [
    "### Problem 4.09 ```get_base_counts(dna)```"
   ]
  },
  {
   "cell_type": "markdown",
   "metadata": {
    "colab_type": "text",
    "deletable": false,
    "editable": false,
    "id": "bszht8KzU-vR",
    "nbgrader": {
     "grade": false,
     "locked": true,
     "solution": false
    }
   },
   "source": [
    "\n",
    "This function takes a DNA string as an input. As a DNA string,  it should contain only the letters ```A```, ```C```, ```G```, and ```T``` (upper case only). The DNA string will have length of at least one.\n",
    "\n",
    "The function returns the count of the number of times each of the four letters A, C, G, and T appear in the input string, in the form of a list. \n",
    "\n",
    "If the input string contains other letters the function will return an empty list. \n",
    "\n",
    "**NOTE** In Problem Set 5, there will be another version of this problem. Don't forget to save your solution for this problem set.\n",
    "\n",
    "```python\n",
    "result = get_base_counts('AACCCGT')\n",
    "print(result)\n",
    "result = get_base_counts('AACCG')\n",
    "print(result)\n",
    "result = get_base_counts('AAB')\n",
    "print(result)\n",
    "```\n",
    "\n",
    "```python \n",
    "[2, 3, 1, 1]\n",
    "[2, 2, 1, 0]\n",
    "[]\n",
    "```"
   ]
  },
  {
   "cell_type": "markdown",
   "metadata": {
    "deletable": false,
    "editable": false,
    "nbgrader": {
     "grade": false,
     "locked": true,
     "solution": false
    }
   },
   "source": [
    "#### Your solution below:"
   ]
  },
  {
   "cell_type": "code",
   "execution_count": 8,
   "metadata": {},
   "outputs": [
    {
     "name": "stdout",
     "output_type": "stream",
     "text": [
      "[2, 3, 1, 1]\n",
      "[2, 2, 1, 0]\n",
      "[]\n"
     ]
    }
   ],
   "source": [
    "def get_base_counts(dna):\n",
    "    for i in range(len(dna)):\n",
    "        if(dna[i] != 'A' and dna[i] != 'C' and dna[i] != 'G' and dna[i] != 'T'):\n",
    "            return []\n",
    "        elif(len(dna)<1):\n",
    "            return []\n",
    "    else:\n",
    "        return [dna.count('A'), dna.count('C'), dna.count('G'), dna.count('T')]\n",
    "\n",
    "result = get_base_counts('AACCCGT')\n",
    "print(result)\n",
    "result = get_base_counts('AACCG')\n",
    "print(result)\n",
    "result = get_base_counts('AAB')\n",
    "print(result)"
   ]
  },
  {
   "cell_type": "code",
   "execution_count": 4,
   "metadata": {
    "deletable": false,
    "editable": false,
    "nbgrader": {
     "grade": true,
     "grade_id": "4.09test1",
     "locked": true,
     "points": "1",
     "solution": false
    }
   },
   "outputs": [],
   "source": [
    "###\n",
    "### AUTOGRADER TEST - DO NOT REMOVE\n",
    "###\n"
   ]
  },
  {
   "cell_type": "code",
   "execution_count": null,
   "metadata": {
    "collapsed": true,
    "deletable": false,
    "editable": false,
    "nbgrader": {
     "grade": true,
     "grade_id": "4.09test2",
     "locked": true,
     "points": "1",
     "solution": false
    }
   },
   "outputs": [],
   "source": [
    "###\n",
    "### AUTOGRADER TEST - DO NOT REMOVE\n",
    "###\n"
   ]
  },
  {
   "cell_type": "code",
   "execution_count": null,
   "metadata": {
    "collapsed": true,
    "deletable": false,
    "editable": false,
    "nbgrader": {
     "grade": true,
     "grade_id": "4.09test3",
     "locked": true,
     "points": "1",
     "solution": false
    }
   },
   "outputs": [],
   "source": [
    "###\n",
    "### AUTOGRADER TEST - DO NOT REMOVE\n",
    "###\n"
   ]
  },
  {
   "cell_type": "code",
   "execution_count": null,
   "metadata": {
    "collapsed": true,
    "deletable": false,
    "editable": false,
    "nbgrader": {
     "grade": true,
     "grade_id": "4.09test4",
     "locked": true,
     "points": "1",
     "solution": false
    }
   },
   "outputs": [],
   "source": [
    "###\n",
    "### AUTOGRADER TEST - DO NOT REMOVE\n",
    "###\n"
   ]
  },
  {
   "cell_type": "code",
   "execution_count": null,
   "metadata": {
    "collapsed": true,
    "deletable": false,
    "editable": false,
    "nbgrader": {
     "grade": true,
     "grade_id": "4.09test5",
     "locked": true,
     "points": "1",
     "solution": false
    }
   },
   "outputs": [],
   "source": [
    "###\n",
    "### AUTOGRADER TEST - DO NOT REMOVE\n",
    "###\n"
   ]
  }
 ],
 "metadata": {
  "colab": {
   "name": "Lesson 4.ipynb",
   "provenance": []
  },
  "kernelspec": {
   "display_name": "Python 3 (ipykernel)",
   "language": "python",
   "name": "python3"
  },
  "language_info": {
   "codemirror_mode": {
    "name": "ipython",
    "version": 3
   },
   "file_extension": ".py",
   "mimetype": "text/x-python",
   "name": "python",
   "nbconvert_exporter": "python",
   "pygments_lexer": "ipython3",
   "version": "3.9.6"
  }
 },
 "nbformat": 4,
 "nbformat_minor": 1
}
