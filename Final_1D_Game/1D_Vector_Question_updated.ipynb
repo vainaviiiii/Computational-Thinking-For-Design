{
 "cells": [
  {
   "cell_type": "code",
   "execution_count": 12,
   "id": "5c5a22f1",
   "metadata": {},
   "outputs": [
    {
     "name": "stdout",
     "output_type": "stream",
     "text": [
      "Q2: OA = (3, 6) and OB = (2, 9). Vector BA = (_M_, _N_). M = ? and N = ?\n",
      "Hint: Vector OA (RED), Vector OB (BLUE), Vector BA (BLACK)\n"
     ]
    },
    {
     "data": {
      "image/png": "[encoded data removed]",
      "text/plain": [
       "<Figure size 432x288 with 1 Axes>"
      ]
     },
     "metadata": {
      "needs_background": "light"
     },
     "output_type": "display_data"
    },
    {
     "name": "stdout",
     "output_type": "stream",
     "text": [
      "M = 1\n",
      "N = -3\n",
      "True\n"
     ]
    }
   ],
   "source": [
    "## Question 2 -> Position vector\n",
    "\n",
    "import random\n",
    "import numpy as np\n",
    "import matplotlib.pyplot as plt\n",
    "\n",
    "def question_2():\n",
    "    #Assigning random variables for the question\n",
    "    x_1 = random.randint(0,20)\n",
    "    y_1 = random.randint(0,20)\n",
    "    x_2 = random.randint(0,20)\n",
    "    y_2 = random.randint(0,20)\n",
    "    message_1 = print(\"Q2: OA = ({}, {}) and OB = ({}, {}). Vector BA = (_M_, _N_). M = ? and N = ?\".format(x_1, y_1, x_2, y_2))\n",
    "    message_2 = print(\"Hint: Vector OA (RED), Vector OB (BLUE), Vector BA (BLACK)\")\n",
    "    # Setup vectors in array and plot in quiver\n",
    "    V = np.array([ [x_1,y_1], [x_2,y_2] ])\n",
    "    origin = np.array([[0, 0],[0, 0]])\n",
    "    plt.quiver(*origin, V[:,0], V[:,1], color=['r','b','g'], angles='xy', scale_units='xy', scale=1)\n",
    "\n",
    "    # Setup resultant vector\n",
    "    v12 = V[0] - V[1] # edit this to check resultant\n",
    "    plt.quiver(*origin, v12[0], v12[1], angles='xy', scale_units='xy', scale=1)\n",
    "    \n",
    "    # Plot graph\n",
    "    plt.xlim([-25,25])\n",
    "    plt.ylim([-25,25])\n",
    "    plt.show()\n",
    "\n",
    "    #To check if the ans inputed matches the correct ans:\n",
    "    ans_1_i = int(input(\"M = \"))\n",
    "    ans_1_ii = int(input(\"N = \"))\n",
    "    if ((ans_1_i == (x_1 - x_2)) and (ans_1_ii == (y_1 - y_2))):\n",
    "        return True\n",
    "    else:\n",
    "        return False\n",
    "\n",
    "print(question_2())"
   ]
  },
  {
   "cell_type": "code",
   "execution_count": null,
   "id": "cadfb2db",
   "metadata": {},
   "outputs": [],
   "source": []
  },
  {
   "cell_type": "code",
   "execution_count": null,
   "id": "1ab256e5",
   "metadata": {},
   "outputs": [],
   "source": []
  }
 ],
 "metadata": {
  "kernelspec": {
   "display_name": "Python 3 (ipykernel)",
   "language": "python",
   "name": "python3"
  },
  "language_info": {
   "codemirror_mode": {
    "name": "ipython",
    "version": 3
   },
   "file_extension": ".py",
   "mimetype": "text/x-python",
   "name": "python",
   "nbconvert_exporter": "python",
   "pygments_lexer": "ipython3",
   "version": "3.9.6"
  }
 },
 "nbformat": 4,
 "nbformat_minor": 5
}
