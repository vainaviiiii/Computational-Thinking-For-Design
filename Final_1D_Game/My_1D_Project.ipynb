{
 "cells": [
  {
   "cell_type": "code",
   "execution_count": 1,
   "id": "6413a60f",
   "metadata": {},
   "outputs": [
    {
     "name": "stdout",
     "output_type": "stream",
     "text": [
      "Difference between Vector and Scalar: \n",
      "(i) Is distance a (a)Vector or (b)Scalar? Select a or b. d\n",
      "(ii) Is displacement a (a)Vector or (b)Scalar? Select a or b. d\n",
      "False\n"
     ]
    }
   ],
   "source": [
    "## Question 1 (Normal vector question)\n",
    "def question_1():\n",
    "    ans_1_i = input(\"Q1: Difference between Vector and Scalar: \\n(i) Is distance a (a)Vector or (b)Scalar? Select a or b. \")\n",
    "    ans_1_ii = input(\"(ii) Is displacement a (a)Vector or (b)Scalar? Select a or b. \")\n",
    "    if((ans_1_i == ('b' or 'B')) and (ans_1_ii == ('a' or 'A'))):\n",
    "        return True\n",
    "    else:\n",
    "        return False\n",
    "    \n",
    "print(question_1())"
   ]
  },
  {
   "cell_type": "code",
   "execution_count": null,
   "id": "ff106144",
   "metadata": {},
   "outputs": [
    {
     "data": {
      "image/png": "[encoded data removed]",
      "text/plain": [
       "<Figure size 432x288 with 1 Axes>"
      ]
     },
     "metadata": {
      "needs_background": "light"
     },
     "output_type": "display_data"
    },
    {
     "name": "stdout",
     "output_type": "stream",
     "text": [
      "OA = (11, 7) and OB = (19, 20). Vector AB = (_M_, _N_). \n"
     ]
    }
   ],
   "source": [
    "## Question 2 -> Position vector\n",
    "\n",
    "import random\n",
    "import numpy as np\n",
    "import matplotlib.pyplot as plt\n",
    "\n",
    "def question_2():\n",
    "    #Assigning random variables for the question\n",
    "    x_1 = random.randint(0,20)\n",
    "    y_1 = random.randint(0,20)\n",
    "    x_2 = random.randint(0,20)\n",
    "    y_2 = random.randint(0,20)\n",
    "    message_1 = print(\"Q2: OA = ({}, {}) and OB = ({}, {}). Vector BA = (_M_, _N_). M = ? and N = ?\".format(x_1, y_1, x_2, y_2))\n",
    "    message_2 = print(\"Hint: Vector OA (RED), Vector OB (BLUE), Vector BA (BLACK)\")\n",
    "    # Setup vectors in array and plot in quiver\n",
    "    V = np.array([ [x_1,y_1], [x_2,y_2] ])\n",
    "    origin = np.array([[0, 0],[0, 0]])\n",
    "    plt.quiver(*origin, V[:,0], V[:,1], color=['r','b','g'], angles='xy', scale_units='xy', scale=1)\n",
    "\n",
    "    # Setup resultant vector\n",
    "    v12 = V[0] - V[1] # edit this to check resultant\n",
    "    plt.quiver(*origin, v12[0], v12[1], angles='xy', scale_units='xy', scale=1)\n",
    "    \n",
    "    # Plot graph\n",
    "    plt.xlim([-25,25])\n",
    "    plt.ylim([-25,25])\n",
    "    plt.show()\n",
    "\n",
    "    #To check if the ans inputed matches the correct ans\n",
    "    ans_1_i = int(input(\"M = \"))\n",
    "    ans_1_ii = int(input(\"N = \"))\n",
    "    if ((ans_1_i == (x_1 - x_2)) and (ans_1_ii == (y_1 - y_2))):\n",
    "        return True\n",
    "    else:\n",
    "        return False\n",
    "\n",
    "print(question_2())"
   ]
  },
  {
   "cell_type": "code",
   "execution_count": null,
   "id": "a918cc89",
   "metadata": {},
   "outputs": [],
   "source": [
    "## To plot the vector as graphs\n",
    "\"\"\"from matplotlib import pyplot as plt\n",
    "def vectors_plot():\n",
    "    n = random.randint(0,20)\n",
    "    n_1 = random.randint(0,20)\n",
    "    n_2 = random.randint(0,20)\n",
    "    x1 = (0, n)\n",
    "    y1 = (0, n_1)\n",
    "    x2 = (0, n_2)\n",
    "    y2 = (0, n)\n",
    "    plt.plot(x1,y1)\n",
    "    plt.plot(x2,y2)\n",
    "    plt.title(\"Question 1\")\n",
    "    plt.xlabel(\"x1, x2\")\n",
    "    plt.ylabel(\"y1, y2\")\n",
    "    plt.legend([\"This is vector OA and OB.\"])\n",
    "    plt.show()\n",
    "    \n",
    "vectors_plot()\"\"\""
   ]
  },
  {
   "cell_type": "code",
   "execution_count": 2,
   "id": "0447eb96",
   "metadata": {},
   "outputs": [
    {
     "name": "stdout",
     "output_type": "stream",
     "text": [
      "Q3: Vector U = (11, 7) and Vector V = (18, 19). U + V = (_A_, _B_).\n"
     ]
    },
    {
     "ename": "KeyboardInterrupt",
     "evalue": "Interrupted by user",
     "output_type": "error",
     "traceback": [
      "\u001b[1;31m---------------------------------------------------------------------------\u001b[0m",
      "\u001b[1;31mKeyboardInterrupt\u001b[0m                         Traceback (most recent call last)",
      "\u001b[1;32m~\\AppData\\Local\\Temp/ipykernel_19288/3385524001.py\u001b[0m in \u001b[0;36m<module>\u001b[1;34m\u001b[0m\n\u001b[0;32m     17\u001b[0m         \u001b[1;32mreturn\u001b[0m \u001b[1;32mFalse\u001b[0m\u001b[1;33m\u001b[0m\u001b[1;33m\u001b[0m\u001b[0m\n\u001b[0;32m     18\u001b[0m \u001b[1;33m\u001b[0m\u001b[0m\n\u001b[1;32m---> 19\u001b[1;33m \u001b[0mprint\u001b[0m\u001b[1;33m(\u001b[0m\u001b[0mquestion_3\u001b[0m\u001b[1;33m(\u001b[0m\u001b[1;33m)\u001b[0m\u001b[1;33m)\u001b[0m\u001b[1;33m\u001b[0m\u001b[1;33m\u001b[0m\u001b[0m\n\u001b[0m",
      "\u001b[1;32m~\\AppData\\Local\\Temp/ipykernel_19288/3385524001.py\u001b[0m in \u001b[0;36mquestion_3\u001b[1;34m()\u001b[0m\n\u001b[0;32m     10\u001b[0m     \u001b[0mmessage_3\u001b[0m \u001b[1;33m=\u001b[0m \u001b[1;34m\"Q3: Vector U = ({}, {}) and Vector V = ({}, {}). U + V = (_A_, _B_).\"\u001b[0m\u001b[1;33m.\u001b[0m\u001b[0mformat\u001b[0m\u001b[1;33m(\u001b[0m\u001b[0mn_7\u001b[0m\u001b[1;33m,\u001b[0m \u001b[0mn_8\u001b[0m\u001b[1;33m,\u001b[0m \u001b[0mn_9\u001b[0m\u001b[1;33m,\u001b[0m \u001b[0mn_10\u001b[0m\u001b[1;33m)\u001b[0m\u001b[1;33m\u001b[0m\u001b[1;33m\u001b[0m\u001b[0m\n\u001b[0;32m     11\u001b[0m     \u001b[0mqns_3\u001b[0m \u001b[1;33m=\u001b[0m \u001b[0mprint\u001b[0m\u001b[1;33m(\u001b[0m\u001b[0mmessage_3\u001b[0m\u001b[1;33m)\u001b[0m\u001b[1;33m\u001b[0m\u001b[1;33m\u001b[0m\u001b[0m\n\u001b[1;32m---> 12\u001b[1;33m     \u001b[0mans_3_a\u001b[0m \u001b[1;33m=\u001b[0m \u001b[0mint\u001b[0m\u001b[1;33m(\u001b[0m\u001b[0minput\u001b[0m\u001b[1;33m(\u001b[0m\u001b[1;34m\"A = \"\u001b[0m\u001b[1;33m)\u001b[0m\u001b[1;33m)\u001b[0m\u001b[1;33m\u001b[0m\u001b[1;33m\u001b[0m\u001b[0m\n\u001b[0m\u001b[0;32m     13\u001b[0m     \u001b[0mans_3_b\u001b[0m \u001b[1;33m=\u001b[0m \u001b[0mint\u001b[0m\u001b[1;33m(\u001b[0m\u001b[0minput\u001b[0m\u001b[1;33m(\u001b[0m\u001b[1;34m\"B = \"\u001b[0m\u001b[1;33m)\u001b[0m\u001b[1;33m)\u001b[0m\u001b[1;33m\u001b[0m\u001b[1;33m\u001b[0m\u001b[0m\n\u001b[0;32m     14\u001b[0m     \u001b[1;32mif\u001b[0m\u001b[1;33m(\u001b[0m\u001b[1;33m(\u001b[0m\u001b[0mans_3_a\u001b[0m \u001b[1;33m==\u001b[0m \u001b[0mn_7\u001b[0m \u001b[1;33m+\u001b[0m \u001b[0mn_9\u001b[0m\u001b[1;33m)\u001b[0m \u001b[1;32mand\u001b[0m \u001b[1;33m(\u001b[0m\u001b[0mans_3_b\u001b[0m \u001b[1;33m==\u001b[0m \u001b[0mn_8\u001b[0m \u001b[1;33m+\u001b[0m \u001b[0mn_10\u001b[0m\u001b[1;33m)\u001b[0m\u001b[1;33m)\u001b[0m\u001b[1;33m:\u001b[0m\u001b[1;33m\u001b[0m\u001b[1;33m\u001b[0m\u001b[0m\n",
      "\u001b[1;32m~\\AppData\\Local\\Programs\\Python\\Python39\\lib\\site-packages\\ipykernel\\kernelbase.py\u001b[0m in \u001b[0;36mraw_input\u001b[1;34m(self, prompt)\u001b[0m\n\u001b[0;32m    979\u001b[0m                 \u001b[1;34m\"raw_input was called, but this frontend does not support input requests.\"\u001b[0m\u001b[1;33m\u001b[0m\u001b[1;33m\u001b[0m\u001b[0m\n\u001b[0;32m    980\u001b[0m             )\n\u001b[1;32m--> 981\u001b[1;33m         return self._input_request(\n\u001b[0m\u001b[0;32m    982\u001b[0m             \u001b[0mstr\u001b[0m\u001b[1;33m(\u001b[0m\u001b[0mprompt\u001b[0m\u001b[1;33m)\u001b[0m\u001b[1;33m,\u001b[0m\u001b[1;33m\u001b[0m\u001b[1;33m\u001b[0m\u001b[0m\n\u001b[0;32m    983\u001b[0m             \u001b[0mself\u001b[0m\u001b[1;33m.\u001b[0m\u001b[0m_parent_ident\u001b[0m\u001b[1;33m[\u001b[0m\u001b[1;34m\"shell\"\u001b[0m\u001b[1;33m]\u001b[0m\u001b[1;33m,\u001b[0m\u001b[1;33m\u001b[0m\u001b[1;33m\u001b[0m\u001b[0m\n",
      "\u001b[1;32m~\\AppData\\Local\\Programs\\Python\\Python39\\lib\\site-packages\\ipykernel\\kernelbase.py\u001b[0m in \u001b[0;36m_input_request\u001b[1;34m(self, prompt, ident, parent, password)\u001b[0m\n\u001b[0;32m   1024\u001b[0m             \u001b[1;32mexcept\u001b[0m \u001b[0mKeyboardInterrupt\u001b[0m\u001b[1;33m:\u001b[0m\u001b[1;33m\u001b[0m\u001b[1;33m\u001b[0m\u001b[0m\n\u001b[0;32m   1025\u001b[0m                 \u001b[1;31m# re-raise KeyboardInterrupt, to truncate traceback\u001b[0m\u001b[1;33m\u001b[0m\u001b[1;33m\u001b[0m\u001b[1;33m\u001b[0m\u001b[0m\n\u001b[1;32m-> 1026\u001b[1;33m                 \u001b[1;32mraise\u001b[0m \u001b[0mKeyboardInterrupt\u001b[0m\u001b[1;33m(\u001b[0m\u001b[1;34m\"Interrupted by user\"\u001b[0m\u001b[1;33m)\u001b[0m \u001b[1;32mfrom\u001b[0m \u001b[1;32mNone\u001b[0m\u001b[1;33m\u001b[0m\u001b[1;33m\u001b[0m\u001b[0m\n\u001b[0m\u001b[0;32m   1027\u001b[0m             \u001b[1;32mexcept\u001b[0m \u001b[0mException\u001b[0m\u001b[1;33m:\u001b[0m\u001b[1;33m\u001b[0m\u001b[1;33m\u001b[0m\u001b[0m\n\u001b[0;32m   1028\u001b[0m                 \u001b[0mself\u001b[0m\u001b[1;33m.\u001b[0m\u001b[0mlog\u001b[0m\u001b[1;33m.\u001b[0m\u001b[0mwarning\u001b[0m\u001b[1;33m(\u001b[0m\u001b[1;34m\"Invalid Message:\"\u001b[0m\u001b[1;33m,\u001b[0m \u001b[0mexc_info\u001b[0m\u001b[1;33m=\u001b[0m\u001b[1;32mTrue\u001b[0m\u001b[1;33m)\u001b[0m\u001b[1;33m\u001b[0m\u001b[1;33m\u001b[0m\u001b[0m\n",
      "\u001b[1;31mKeyboardInterrupt\u001b[0m: Interrupted by user"
     ]
    }
   ],
   "source": [
    "## Question 3 -> Addition of Column Vectors\n",
    "\n",
    "import random\n",
    "\n",
    "def question_3():\n",
    "    n_7 = random.randint(0,20)\n",
    "    n_8 = random.randint(0,20)\n",
    "    n_9 = random.randint(0,20)\n",
    "    n_10 = random.randint(0,20)\n",
    "    message_3 = \"Q3: Vector U = ({}, {}) and Vector V = ({}, {}). U + V = (_A_, _B_).\".format(n_7, n_8, n_9, n_10)\n",
    "    qns_3 = print(message_3)\n",
    "    ans_3_a = int(input(\"A = \")) \n",
    "    ans_3_b = int(input(\"B = \"))\n",
    "    if((ans_3_a == n_7 + n_9) and (ans_3_b == n_8 + n_10)):\n",
    "        return True \n",
    "    else:\n",
    "        return False\n",
    "\n",
    "print(question_3())\n"
   ]
  },
  {
   "cell_type": "code",
   "execution_count": 8,
   "id": "46909efd",
   "metadata": {},
   "outputs": [
    {
     "name": "stdout",
     "output_type": "stream",
     "text": [
      "Vector N = (7, 7). Vector M is the scalar nultiple of Vector N by 11? Vector M = (_A_, _B_).\n",
      "A = 77\n",
      "B = 77\n",
      "True\n"
     ]
    }
   ],
   "source": [
    "##Question 4 -> Scalar Multiplication of Column Vectors\n",
    "def question_4():\n",
    "    n_11 = random.randint(0,20)\n",
    "    n_12 = random.randint(0,20)\n",
    "    n_13 = random.randint(0,20)\n",
    "    message_4 = \"Q4: Vector N = ({}, {}). Vector M is the scalar nultiple of Vector N by {}? Vector M = (_A_, _B_).\".format(n_11, n_12, n_13)\n",
    "    qns_4 = print(message_4)\n",
    "    ans_4_a = int(input(\"A = \")) \n",
    "    ans_4_b = int(input(\"B = \"))\n",
    "    if((ans_4_a == n_13*n_11) and (ans_4_b == n_13*n_12)):\n",
    "        return True \n",
    "    else:\n",
    "        return False\n",
    "\n",
    "print(question_4())"
   ]
  },
  {
   "cell_type": "code",
   "execution_count": 5,
   "id": "783482cb",
   "metadata": {},
   "outputs": [
    {
     "name": "stdout",
     "output_type": "stream",
     "text": [
      "Q5:  P = (18, 12). Find the Modulus of Vector P. Round off your answer to 3 decimal places.\n",
      "Your Answer: 21.633\n",
      "True\n"
     ]
    }
   ],
   "source": [
    "## Question 5 -> Modulus of Column Vectors\n",
    "\n",
    "import random\n",
    "from math import *\n",
    "\n",
    "def question_5():\n",
    "    n_14 = random.randint(0,20)\n",
    "    n_15 = random.randint(0,20)\n",
    "    qn_5 = print(\"Q5:  P = ({}, {}). Find the Modulus of Vector P. Round off your answer to 3 decimal places.\".format (n_14, n_15))\n",
    "    ans_5 = float(input(\"Your Answer: \"))\n",
    "    rounded_ans = round(ans_5,3)\n",
    "    correct_ans = sqrt(n_14**2 + n_15**2)\n",
    "    if(rounded_ans == round(correct_ans,3)):\n",
    "        return True \n",
    "    else:\n",
    "        return False\n",
    "\n",
    "print(question_5())\n",
    "\n",
    "##Problems Encountered: Maybe can make the number result in a non-surds ans!!\n"
   ]
  },
  {
   "cell_type": "code",
   "execution_count": 8,
   "id": "6b4a33c1",
   "metadata": {},
   "outputs": [
    {
     "data": {
      "image/png": "[encoded data removed]",
      "text/plain": [
       "<Figure size 432x288 with 1 Axes>"
      ]
     },
     "metadata": {
      "needs_background": "light"
     },
     "output_type": "display_data"
    }
   ],
   "source": [
    "## How to Plot Vectors?\n",
    "\"\"\"import numpy as np\n",
    "import matplotlib.pyplot as plt\n",
    "\n",
    "V = np.array([[1,1], [-2,2], [4,-7]])\n",
    "origin = np.array([[0, 0, 0],[0, 0, 0]]) # origin point\n",
    "\n",
    "plt.quiver(*origin, V[:,0], V[:,1], color=['r','b','g'], scale=21)\n",
    "plt.show()\"\"\""
   ]
  },
  {
   "cell_type": "code",
   "execution_count": 13,
   "id": "91073a68",
   "metadata": {},
   "outputs": [
    {
     "data": {
      "image/png": "[encoded data removed]",
      "text/plain": [
       "<Figure size 432x288 with 1 Axes>"
      ]
     },
     "metadata": {
      "needs_background": "light"
     },
     "output_type": "display_data"
    }
   ],
   "source": [
    "## How to Plot Addition of Vectors?\n",
    "\"\"\"plt.quiver(*origin, V[:,0], V[:,1], color=['r','b','g'], scale=21)\n",
    "v12 = V[0] + V[1] # adding up the 1st (red) and 2nd (blue) vectors\n",
    "plt.quiver(*origin, v12[0], v12[1])\n",
    "plt.show()\"\"\""
   ]
  },
  {
   "cell_type": "code",
   "execution_count": null,
   "id": "fb98c7dc",
   "metadata": {},
   "outputs": [],
   "source": []
  }
 ],
 "metadata": {
  "kernelspec": {
   "display_name": "Python 3 (ipykernel)",
   "language": "python",
   "name": "python3"
  },
  "language_info": {
   "codemirror_mode": {
    "name": "ipython",
    "version": 3
   },
   "file_extension": ".py",
   "mimetype": "text/x-python",
   "name": "python",
   "nbconvert_exporter": "python",
   "pygments_lexer": "ipython3",
   "version": "3.9.6"
  }
 },
 "nbformat": 4,
 "nbformat_minor": 5
}
