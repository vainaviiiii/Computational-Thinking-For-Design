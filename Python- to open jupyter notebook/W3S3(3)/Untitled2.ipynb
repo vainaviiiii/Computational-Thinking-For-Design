{
 "cells": [
  {
   "cell_type": "code",
   "execution_count": 1,
   "id": "c68643d9",
   "metadata": {},
   "outputs": [
    {
     "name": "stdout",
     "output_type": "stream",
     "text": [
      "[2, 3, 4]\n"
     ]
    }
   ],
   "source": [
    "L=[1,2,3,4,5]\n",
    "print(L[1:4])"
   ]
  },
  {
   "cell_type": "code",
   "execution_count": 2,
   "id": "186a7bfa",
   "metadata": {},
   "outputs": [
    {
     "name": "stdout",
     "output_type": "stream",
     "text": [
      "True\n",
      "True\n",
      "True\n",
      "False\n"
     ]
    }
   ],
   "source": [
    "b=L\n",
    "c=L[:]\n",
    "\n",
    "print(b==L)\n",
    "print(b is L)\n",
    "\n",
    "print(c==L)\n",
    "print(c is L)\n"
   ]
  },
  {
   "cell_type": "code",
   "execution_count": null,
   "id": "8e81b5df",
   "metadata": {},
   "outputs": [],
   "source": []
  }
 ],
 "metadata": {
  "kernelspec": {
   "display_name": "Python 3 (ipykernel)",
   "language": "python",
   "name": "python3"
  },
  "language_info": {
   "codemirror_mode": {
    "name": "ipython",
    "version": 3
   },
   "file_extension": ".py",
   "mimetype": "text/x-python",
   "name": "python",
   "nbconvert_exporter": "python",
   "pygments_lexer": "ipython3",
   "version": "3.9.6"
  }
 },
 "nbformat": 4,
 "nbformat_minor": 5
}
