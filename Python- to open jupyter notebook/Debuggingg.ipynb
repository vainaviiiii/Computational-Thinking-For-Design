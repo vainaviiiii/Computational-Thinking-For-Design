{
 "cells": [
  {
   "cell_type": "code",
   "execution_count": 3,
   "id": "bb7c4072",
   "metadata": {},
   "outputs": [
    {
     "name": "stdout",
     "output_type": "stream",
     "text": [
      "me\n"
     ]
    }
   ],
   "source": [
    "my_str = \"Never tell me the odds\"\n",
    "my_ls = my_str.split()\n",
    "print(my_ls[2])"
   ]
  },
  {
   "cell_type": "code",
   "execution_count": 4,
   "id": "f99f54a7",
   "metadata": {},
   "outputs": [
    {
     "name": "stdout",
     "output_type": "stream",
     "text": [
      "(1, 2, 3)\n"
     ]
    }
   ],
   "source": [
    "tupple = 1,2,3\n",
    "print(tupple)"
   ]
  },
  {
   "cell_type": "code",
   "execution_count": 5,
   "id": "041c90d6",
   "metadata": {},
   "outputs": [
    {
     "name": "stdout",
     "output_type": "stream",
     "text": [
      "tr\n"
     ]
    }
   ],
   "source": [
    "s = \"python rocks\"\n",
    "print(s[2]+s[-5])"
   ]
  },
  {
   "cell_type": "code",
   "execution_count": 6,
   "id": "05cbed86",
   "metadata": {},
   "outputs": [
    {
     "name": "stdout",
     "output_type": "stream",
     "text": [
      "python!!!\n"
     ]
    }
   ],
   "source": [
    "s = \"python\"\n",
    "excl = \"!\"\n",
    "print(s+excl*3)"
   ]
  },
  {
   "cell_type": "code",
   "execution_count": 11,
   "id": "9fc05673",
   "metadata": {},
   "outputs": [
    {
     "name": "stdout",
     "output_type": "stream",
     "text": [
      "12\n",
      "[0, 1, 2, 3, 4, 5, 6]\n",
      "0\n"
     ]
    }
   ],
   "source": [
    "def mys_fn(lst):\n",
    "    s = 0 \n",
    "    for num in lst:\n",
    "        if (num % 2 == 1):\n",
    "            continue\n",
    "        else:\n",
    "            s = s + num\n",
    "    return s\n",
    "lst = list(range(7))\n",
    "print(mys_fn(lst))\n",
    "\n",
    "print(lst)\n",
    "print(2%2)"
   ]
  },
  {
   "cell_type": "code",
   "execution_count": 18,
   "id": "01185c50",
   "metadata": {},
   "outputs": [
    {
     "name": "stdout",
     "output_type": "stream",
     "text": [
      "0\n"
     ]
    }
   ],
   "source": [
    "x = 3\n",
    "\n",
    "if (x>2):\n",
    "    x = x*2\n",
    "if(x>4):\n",
    "    x=0\n",
    "\n",
    "print(x)"
   ]
  },
  {
   "cell_type": "code",
   "execution_count": 5,
   "id": "31ac977a",
   "metadata": {},
   "outputs": [
    {
     "name": "stdout",
     "output_type": "stream",
     "text": [
      "total: 6\n"
     ]
    }
   ],
   "source": [
    "mm = [[1,1,2,2], [1,2,3,4], [1,6,0,2], [1,7,1,8]]\n",
    "total = 0\n",
    "col = len(mm[1]) - 2\n",
    "for row in range(len(mm)):\n",
    "    total = total + mm[row][col]\n",
    "print(\"total:\", total)"
   ]
  },
  {
   "cell_type": "code",
   "execution_count": 10,
   "id": "3bc23c66",
   "metadata": {},
   "outputs": [
    {
     "name": "stdout",
     "output_type": "stream",
     "text": [
      "-\n",
      "0-\n",
      "01-\n",
      "012-\n",
      "0123-\n"
     ]
    }
   ],
   "source": [
    "for i in range(5):\n",
    "    for j in range(5):\n",
    "        if (i==j):\n",
    "            break\n",
    "        else:\n",
    "            print(j, end=\"\")\n",
    "    print(\"-\")"
   ]
  },
  {
   "cell_type": "code",
   "execution_count": 12,
   "id": "e11bc093",
   "metadata": {},
   "outputs": [
    {
     "name": "stdout",
     "output_type": "stream",
     "text": [
      "kl\n",
      "l\n",
      "p\n",
      "s\n"
     ]
    }
   ],
   "source": [
    "movie = {'title':'crazy', 'direct': 'jon', 'cast': {'rach':'const'}, 'locations': ['kl','l','p','s']}\n",
    "for city in movie.get('locations'):\n",
    "    print(city)"
   ]
  },
  {
   "cell_type": "code",
   "execution_count": 9,
   "id": "da804daa",
   "metadata": {},
   "outputs": [
    {
     "name": "stdout",
     "output_type": "stream",
     "text": [
      "None\n",
      "{1: 33, 2: 40}\n",
      "{1: 33, 2: 40}\n",
      "False\n",
      "True\n",
      "True\n"
     ]
    }
   ],
   "source": [
    "def f1(d, key):\n",
    "    d[key] = d[key] + 1\n",
    "\n",
    "def f2(d, key):\n",
    "    dd = d.copy()\n",
    "    dd[key] = dd[key] + 1\n",
    "    return dd\n",
    "\n",
    "def f3(d, key):\n",
    "    d[key] =  d[key] + 1\n",
    "    return d\n",
    "    \n",
    "dvalues = {1:31, 2:40}\n",
    "d1new = f1(dvalues, 1)\n",
    "d2new = f2(dvalues, 1)\n",
    "d3new = f3(dvalues, 1)\n",
    "print(d1new)\n",
    "print(d2new)\n",
    "print(d3new)\n",
    "print(d2new is dvalues)\n",
    "print(d2new == dvalues)\n",
    "print(d3new is dvalues)"
   ]
  },
  {
   "cell_type": "code",
   "execution_count": 1,
   "id": "94b7e380",
   "metadata": {},
   "outputs": [
    {
     "name": "stdout",
     "output_type": "stream",
     "text": [
      "['this', 'place', 'is', 'awesome']\n"
     ]
    }
   ],
   "source": [
    "s = \" This Place Is Awesome \"\n",
    "# Remember to update the value: s = ...\n",
    "s = s.lower().split()\n",
    "print(s)\n"
   ]
  },
  {
   "cell_type": "code",
   "execution_count": 41,
   "id": "c820cd5a",
   "metadata": {},
   "outputs": [
    {
     "name": "stdout",
     "output_type": "stream",
     "text": [
      "dhteu\n"
     ]
    }
   ],
   "source": [
    "s = \"freundschaftsbezeugung\"\n",
    "print(s[5:-4:3])"
   ]
  },
  {
   "cell_type": "code",
   "execution_count": 43,
   "id": "86c5db25",
   "metadata": {},
   "outputs": [
    {
     "name": "stdout",
     "output_type": "stream",
     "text": [
      "[[10, 99], [40, 80]]\n",
      "[[10, 99], [40, 80]]\n",
      "40\n",
      "99\n"
     ]
    }
   ],
   "source": [
    "a = [ [10,20], [70,80] ]\n",
    "b = a[:]\n",
    "\n",
    "a[0][1] = 99\n",
    "b[1][0] = 40\n",
    "\n",
    "print(a)\n",
    "print(b)\n",
    "\n",
    "print(a[1][0])\n",
    "print(b[0][1])\n",
    "\n",
    "## Why??"
   ]
  },
  {
   "cell_type": "code",
   "execution_count": 4,
   "id": "a17baa64",
   "metadata": {},
   "outputs": [
    {
     "ename": "NameError",
     "evalue": "name 'average' is not defined",
     "output_type": "error",
     "traceback": [
      "\u001b[1;31m---------------------------------------------------------------------------\u001b[0m",
      "\u001b[1;31mNameError\u001b[0m                                 Traceback (most recent call last)",
      "\u001b[1;32m~\\AppData\\Local\\Temp/ipykernel_40492/4237501474.py\u001b[0m in \u001b[0;36m<module>\u001b[1;34m\u001b[0m\n\u001b[0;32m      1\u001b[0m \u001b[0ma\u001b[0m\u001b[1;33m=\u001b[0m \u001b[1;33m[\u001b[0m\u001b[1;36m1\u001b[0m\u001b[1;33m,\u001b[0m\u001b[1;36m2\u001b[0m\u001b[1;33m,\u001b[0m\u001b[1;36m3\u001b[0m\u001b[1;33m]\u001b[0m\u001b[1;33m\u001b[0m\u001b[1;33m\u001b[0m\u001b[0m\n\u001b[1;32m----> 2\u001b[1;33m \u001b[0mprint\u001b[0m\u001b[1;33m(\u001b[0m\u001b[0maverage\u001b[0m\u001b[1;33m(\u001b[0m\u001b[0ma\u001b[0m\u001b[1;33m)\u001b[0m\u001b[1;33m)\u001b[0m\u001b[1;33m\u001b[0m\u001b[1;33m\u001b[0m\u001b[0m\n\u001b[0m",
      "\u001b[1;31mNameError\u001b[0m: name 'average' is not defined"
     ]
    }
   ],
   "source": [
    "a= [1,2,3]\n",
    "print(average(a)) "
   ]
  },
  {
   "cell_type": "code",
   "execution_count": 18,
   "id": "edd56462",
   "metadata": {},
   "outputs": [],
   "source": [
    "import turtle\n",
    "\n",
    "t = turtle.Turtle\n",
    "turtle.color(\"pink\", \"blue\")\n",
    "turtle.pensize(10)\n",
    "turtle.begin_fill() \n",
    "turtle.forward(100)\n",
    "turtle.right(170)\n",
    "turtle.forward(50)\n",
    "turtle.left(100)\n",
    "turtle.forward(100)\n",
    "turtle.left(90)\n",
    "turtle.forward(50)\n",
    "turtle.end_fill()\n",
    "turtle.done()"
   ]
  },
  {
   "cell_type": "code",
   "execution_count": null,
   "id": "16637d67",
   "metadata": {},
   "outputs": [],
   "source": []
  }
 ],
 "metadata": {
  "kernelspec": {
   "display_name": "Python 3 (ipykernel)",
   "language": "python",
   "name": "python3"
  },
  "language_info": {
   "codemirror_mode": {
    "name": "ipython",
    "version": 3
   },
   "file_extension": ".py",
   "mimetype": "text/x-python",
   "name": "python",
   "nbconvert_exporter": "python",
   "pygments_lexer": "ipython3",
   "version": "3.9.6"
  }
 },
 "nbformat": 4,
 "nbformat_minor": 5
}
